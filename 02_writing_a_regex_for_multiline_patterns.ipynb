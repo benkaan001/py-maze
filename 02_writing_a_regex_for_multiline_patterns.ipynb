{
 "cells": [
  {
   "cell_type": "markdown",
   "metadata": {},
   "source": [
    "Multiline comments often seen in programming languages like C or JavaScript. Brekdown of the code:\n",
    "\n",
    "1. **Regular Expression**:\n",
    "   - `r` before the string denotes a raw string in Python, which is commonly used for regular expressions to prevent unwanted escaping of characters.\n",
    "\n",
    "2. **Explanation of the Regular Expression**:\n",
    "   - `/` matches the forward slash character.\n",
    "   - `\\*` matches the asterisk character. However, since `*` is a special character in regex, it needs to be escaped with a backslash to be treated literally.\n",
    "   - `(` and `)` create a capturing group to capture the contents of the comment.\n",
    "   - `(?:...)` is a non-capturing group that allows grouping without capturing.\n",
    "   - `.` matches any character except a newline.\n",
    "   - `|\\n` matches any character or a newline.\n",
    "   - `*?` is a non-greedy quantifier, matching zero or more occurrences of the previous group as few times as possible.\n",
    "   - `\\*/` matches the closing comment sequence `*/`.\n",
    "\n",
    "3. **Usage**:\n",
    "   - `re.compile(r'/\\*((?:.|\\n)*?)\\*/')` compiles the regular expression into a pattern object named `comment`.\n",
    "   - `comment.findall(text)` searches for all non-overlapping occurrences of the pattern in the given `text`.\n",
    "   "
   ]
  },
  {
   "cell_type": "code",
   "execution_count": 1,
   "metadata": {},
   "outputs": [],
   "source": [
    "import re"
   ]
  },
  {
   "cell_type": "code",
   "execution_count": 2,
   "metadata": {},
   "outputs": [
    {
     "data": {
      "text/plain": [
       "'/* this is a\\n              multiline comment */\\n'"
      ]
     },
     "execution_count": 2,
     "metadata": {},
     "output_type": "execute_result"
    }
   ],
   "source": [
    "text = '''/* this is a\n",
    "              multiline comment */\n",
    "'''\n",
    "        \n",
    "text"
   ]
  },
  {
   "cell_type": "code",
   "execution_count": 3,
   "metadata": {},
   "outputs": [
    {
     "data": {
      "text/plain": [
       "[' this is a\\n              multiline comment ']"
      ]
     },
     "execution_count": 3,
     "metadata": {},
     "output_type": "execute_result"
    }
   ],
   "source": [
    "comment = re.compile(r'/\\*((?:.|\\n)*?)\\*/')\n",
    "comment.findall(text)"
   ]
  }
 ],
 "metadata": {
  "kernelspec": {
   "display_name": "Python 3",
   "language": "python",
   "name": "python3"
  },
  "language_info": {
   "codemirror_mode": {
    "name": "ipython",
    "version": 3
   },
   "file_extension": ".py",
   "mimetype": "text/x-python",
   "name": "python",
   "nbconvert_exporter": "python",
   "pygments_lexer": "ipython3",
   "version": "3.11.2"
  },
  "orig_nbformat": 4
 },
 "nbformat": 4,
 "nbformat_minor": 2
}
