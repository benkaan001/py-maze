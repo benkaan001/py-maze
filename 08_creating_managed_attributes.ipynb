{
 "cells": [
  {
   "cell_type": "markdown",
   "metadata": {},
   "source": [
    "The `@property` and `@attribute.setter` are two different decorators used to define and control the behavior of attributes in a class. Here's the difference between them:\n",
    "\n",
    "1. `@property`:\n",
    "\n",
    "   - The `@property` decorator is used to define a method as a getter for an attribute.\n",
    "   - It allows you to access an attribute as if it were a regular class attribute while providing custom behavior when getting the value.\n",
    "   - A method decorated with `@property` is called when you access the attribute, but you cannot directly set the attribute using the dot notation.\n",
    "   - You can use it to perform additional calculations, validations, or transformations when retrieving an attribute.\n",
    "   - To set the attribute, you need to define a separate method with `@attribute_name.setter`.\n"
   ]
  },
  {
   "cell_type": "code",
   "execution_count": 1,
   "metadata": {},
   "outputs": [
    {
     "data": {
      "text/plain": [
       "0"
      ]
     },
     "execution_count": 1,
     "metadata": {},
     "output_type": "execute_result"
    }
   ],
   "source": [
    "class SomeClass:\n",
    "    def __init__(self):\n",
    "        self._value = 0 # Private attribute\n",
    "\n",
    "    @property\n",
    "    def value(self):\n",
    "        return self._value\n",
    "\n",
    "    @value.setter\n",
    "    def value(self, new_value):\n",
    "        if new_value < 0:\n",
    "            raise ValueError(\"Value must be non negative\")\n",
    "        self._value = new_value\n",
    "\n",
    "obj = SomeClass()\n",
    "obj.value"
   ]
  },
  {
   "cell_type": "code",
   "execution_count": 2,
   "metadata": {},
   "outputs": [
    {
     "name": "stdout",
     "output_type": "stream",
     "text": [
      "42\n"
     ]
    }
   ],
   "source": [
    "obj.value = 42\n",
    "print(obj.value)"
   ]
  },
  {
   "cell_type": "markdown",
   "metadata": {},
   "source": [
    "### Example of managed attributes via properties"
   ]
  },
  {
   "cell_type": "code",
   "execution_count": 3,
   "metadata": {},
   "outputs": [],
   "source": [
    "from typing import Any"
   ]
  },
  {
   "cell_type": "code",
   "execution_count": 4,
   "metadata": {},
   "outputs": [
    {
     "name": "stdout",
     "output_type": "stream",
     "text": [
      "Guido\n"
     ]
    }
   ],
   "source": [
    "class Person:\n",
    "    def __init__(self, first_name: str) -> None:\n",
    "        self.first_name = first_name\n",
    "\n",
    "    # Getter function\n",
    "    @property\n",
    "    def first_name(self) -> None:\n",
    "        return self._first_name\n",
    "\n",
    "    # Setter function\n",
    "    @first_name.setter\n",
    "    def first_name(self, value: Any) -> None:\n",
    "        if not isinstance(value, str):\n",
    "            raise TypeError('Expected a string')\n",
    "        self._first_name = value\n",
    "\n",
    "a = Person('Guido')\n",
    "print(a.first_name)"
   ]
  },
  {
   "cell_type": "code",
   "execution_count": 5,
   "metadata": {},
   "outputs": [
    {
     "name": "stdout",
     "output_type": "stream",
     "text": [
      "Dave\n"
     ]
    }
   ],
   "source": [
    "a.first_name = 'Dave'\n",
    "print(a.first_name)"
   ]
  },
  {
   "cell_type": "code",
   "execution_count": 6,
   "metadata": {},
   "outputs": [
    {
     "name": "stdout",
     "output_type": "stream",
     "text": [
      "Expected a string\n"
     ]
    }
   ],
   "source": [
    "try:\n",
    "    a.first_name = 42\n",
    "except TypeError as e:\n",
    "    print(e)"
   ]
  },
  {
   "cell_type": "markdown",
   "metadata": {},
   "source": [
    "The `Person` class demonstrates the use of properties, which are a way to control access to class attributes and perform additional actions when getting or setting those attributes. \n",
    "\n",
    "1. `class Person:` defines the `Person` class.\n",
    "\n",
    "2. In the `__init__` method, the class is initialized with a `first_name` parameter, which is expected to be a string. This parameter is used to set the `first_name` attribute.\n",
    "\n",
    "3. `@property` decorator: This is used to define a getter method for the `first_name` attribute. It allows you to retrieve the value of `first_name` using the `a.first_name` syntax.\n",
    "\n",
    "4. `@first_name.setter` decorator: This is used to define a setter method for the `first_name` attribute. It allows you to set the value of `first_name` using the `a.first_name = value` syntax.\n",
    "\n",
    "5. The getter and setter methods for `first_name` have the same name as the attribute itself (`first_name`). However, the getter has the `@property` decorator, and the setter has the `@first_name.setter` decorator.\n",
    "\n",
    "6. In the getter method, it returns the value of the `_first_name` attribute, which is intended to be a private attribute used for storage. This is a common convention in Python to differentiate between the public and private aspects of an attribute.\n",
    "\n",
    "7. In the setter method, it checks whether the value being assigned is a string using `isinstance`. If the value is not a string, it raises a `TypeError`. If it's a valid string, it assigns the value to the `_first_name` attribute.\n"
   ]
  }
 ],
 "metadata": {
  "kernelspec": {
   "display_name": "Python 3",
   "language": "python",
   "name": "python3"
  },
  "language_info": {
   "codemirror_mode": {
    "name": "ipython",
    "version": 3
   },
   "file_extension": ".py",
   "mimetype": "text/x-python",
   "name": "python",
   "nbconvert_exporter": "python",
   "pygments_lexer": "ipython3",
   "version": "3.11.2"
  }
 },
 "nbformat": 4,
 "nbformat_minor": 2
}
