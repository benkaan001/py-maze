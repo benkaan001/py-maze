{
 "cells": [
  {
   "cell_type": "markdown",
   "metadata": {},
   "source": [
    "## Using functools `@total_ordering` decorator"
   ]
  },
  {
   "cell_type": "code",
   "execution_count": 1,
   "metadata": {},
   "outputs": [],
   "source": [
    "from functools import total_ordering\n",
    "\n",
    "class Room:\n",
    "    def __init__(self, name, length, width) -> None:\n",
    "        self.name = name\n",
    "        self.legth = length\n",
    "        self.width = width\n",
    "        self.square_feet = self.legth * self.width\n",
    "\n",
    "@total_ordering\n",
    "class House:\n",
    "    def __init__(self, name, style) -> None:\n",
    "        self.name = name\n",
    "        self.style = style\n",
    "        self.rooms = list()\n",
    "\n",
    "    @property\n",
    "    def living_space_footage(self):\n",
    "        return sum(room.square_feet for room in self.rooms)\n",
    "\n",
    "    def add_room(self, room) -> None:\n",
    "        return self.rooms.append(room)\n",
    "\n",
    "    def __str__(self) -> str:\n",
    "        return f\"{self.name}: {self.living_space_footage} square foot {self.style}\"\n",
    "\n",
    "    def __eq__(self, other) -> bool:\n",
    "        return self.living_space_footage == other.living_space_footage\n",
    "\n",
    "    def __lt__(self, other) -> bool:\n",
    "        return self.living_space_footage < other.living_space_footage\n"
   ]
  },
  {
   "cell_type": "code",
   "execution_count": 2,
   "metadata": {},
   "outputs": [
    {
     "name": "stdout",
     "output_type": "stream",
     "text": [
      "h1: 990 square foot Cape\n"
     ]
    }
   ],
   "source": [
    "# Build a few houses and add roooms\n",
    "h1 = House('h1', 'Cape')\n",
    "r1 = Room('Master Bedroom', 14, 21)\n",
    "r2 = Room('Living Room', 18, 20)\n",
    "r3 = Room('Kitchen', 12, 16)\n",
    "r4 = Room('Office',  12, 12)\n",
    "rooms = [r1, r2, r3, r4]\n",
    "for room in rooms:\n",
    "    h1.add_room(room)\n",
    "\n",
    "print(h1)"
   ]
  },
  {
   "cell_type": "code",
   "execution_count": 3,
   "metadata": {},
   "outputs": [
    {
     "name": "stdout",
     "output_type": "stream",
     "text": [
      "h2: 846 square foot Ranch\n"
     ]
    }
   ],
   "source": [
    "h2 = House('h2', 'Ranch')\n",
    "h2.add_room(Room('Master Bedroom', 14, 21))\n",
    "h2.add_room(Room('Living Room', 18, 20))\n",
    "h2.add_room(Room('Kitchen', 12, 16))\n",
    "\n",
    "print(h2)"
   ]
  },
  {
   "cell_type": "code",
   "execution_count": 4,
   "metadata": {},
   "outputs": [
    {
     "name": "stdout",
     "output_type": "stream",
     "text": [
      "h3: 1101 square foot Split\n"
     ]
    }
   ],
   "source": [
    "h3 = House('h3', 'Split')\n",
    "h3.add_room(Room('Master Bedroom', 14, 21))\n",
    "h3.add_room(Room('Living Room', 18, 20))\n",
    "h3.add_room(Room('Office', 12, 16))\n",
    "h3.add_room(Room('Kitchen', 15, 17))\n",
    "\n",
    "print(h3)"
   ]
  },
  {
   "cell_type": "code",
   "execution_count": 5,
   "metadata": {},
   "outputs": [
    {
     "data": {
      "text/plain": [
       "False"
      ]
     },
     "execution_count": 5,
     "metadata": {},
     "output_type": "execute_result"
    }
   ],
   "source": [
    "h1 < h2"
   ]
  },
  {
   "cell_type": "code",
   "execution_count": 6,
   "metadata": {},
   "outputs": [
    {
     "data": {
      "text/plain": [
       "True"
      ]
     },
     "execution_count": 6,
     "metadata": {},
     "output_type": "execute_result"
    }
   ],
   "source": [
    "h3 >= h2"
   ]
  },
  {
   "cell_type": "code",
   "execution_count": 7,
   "metadata": {},
   "outputs": [
    {
     "name": "stdout",
     "output_type": "stream",
     "text": [
      "h2: 846 square foot Ranch\n"
     ]
    }
   ],
   "source": [
    "print(min(h1, h2, h3))"
   ]
  },
  {
   "cell_type": "code",
   "execution_count": 8,
   "metadata": {},
   "outputs": [
    {
     "name": "stdout",
     "output_type": "stream",
     "text": [
      "h3: 1101 square foot Split\n"
     ]
    }
   ],
   "source": [
    "print(max(h1, h2, h3))"
   ]
  },
  {
   "cell_type": "markdown",
   "metadata": {},
   "source": [
    "## Under the hood\n",
    "\n",
    "Once you define `__eq__ (equal to)` and `__lt__ (less than)` methods, total_ordering takes care of the rest."
   ]
  },
  {
   "cell_type": "code",
   "execution_count": 9,
   "metadata": {},
   "outputs": [],
   "source": [
    "class House:\n",
    "  def __eq__(self, other):\n",
    "    pass  # You define this method\n",
    "\n",
    "  def __lt__(self, other):\n",
    "    pass  # You define this method\n",
    "\n",
    "  # Methods created automatically by @total_ordering\n",
    "  __le__ = lambda self, other: self < other or self == other  # Based on your __lt__ and __eq__\n",
    "  __gt__ = lambda self, other: not (self < other or self == other)  # Logic derived from others\n",
    "  __ge__ = lambda self, other: not (self < other)  # Derived logic\n",
    "  __ne__ = lambda self, other: not self == other  # Based on your __eq__\n"
   ]
  },
  {
   "cell_type": "code",
   "execution_count": 10,
   "metadata": {},
   "outputs": [
    {
     "name": "stdout",
     "output_type": "stream",
     "text": [
      "Help on function total_ordering in module functools:\n",
      "\n",
      "total_ordering(cls)\n",
      "    Class decorator that fills in missing ordering methods\n",
      "\n"
     ]
    }
   ],
   "source": [
    "help(total_ordering)"
   ]
  },
  {
   "cell_type": "markdown",
   "metadata": {},
   "source": [
    "This function is a class decorator that adds missing ordering methods to a class. \n",
    "\n",
    "It works by defining conversion rules for each comparison method (`__lt__`, `__le__`, `__gt__`, `__ge__`) based on the presence of other methods. \n",
    "\n",
    "If one comparison method is defined, the decorator fills in the missing ones based on the defined method(s).\n",
    "\n",
    "For example, if a class defines `__lt__` and `__eq__`, the decorator will add `__le__`, `__gt__`, and `__ge__` based on the rules of comparison (`__le__` is the negation of `__gt__`, etc.).\n",
    "\n",
    "The decorator ensures that a class has a consistent set of ordering methods, which can be convenient when working with objects that need to be compared and ordered."
   ]
  },
  {
   "cell_type": "code",
   "execution_count": 11,
   "metadata": {},
   "outputs": [],
   "source": [
    "def total_ordering(cls):\n",
    "    \"\"\"Class decorator that fills in missing ordering methods.\"\"\"\n",
    "    convert = {\n",
    "        '__lt__': [('__gt__', lambda self, other: not (self < other or self == other)),\n",
    "                    ('__le__', lambda self, other: self < other or self == other),\n",
    "                    ('__ge__', lambda self, other: not self < other)],\n",
    "        '__le__': [('__ge__', lambda self, other: not self < other),\n",
    "                    ('__lt__', lambda self, other: self < other or self == other),\n",
    "                    ('__gt__', lambda self, other: not (self < other or self == other))],\n",
    "        '__gt__': [('__lt__', lambda self, other: not (self < other or self == other)),\n",
    "                    ('__ge__', lambda self, other: not self < other),\n",
    "                    ('__le__', lambda self, other: self < other or self == other)],\n",
    "        '__ge__': [('__le__', lambda self, other: self < other or self == other),\n",
    "                    ('__gt__', lambda self, other: not (self < other or self == other)),\n",
    "                    ('__lt__', lambda self, other: not self < other)],\n",
    "    }\n",
    "    roots = set(dir(cls)) & {'__lt__', '__le__', '__gt__', '__ge__'}\n",
    "    if not roots:\n",
    "        raise ValueError(f\"{cls.__name__} must define at least one ordering method: __lt__, __le__, __gt__, or __ge__\")\n",
    "\n",
    "    root = max(roots)  # Python 3.0-3.3 compatibility\n",
    "    for opname, opfunc in convert[root]:\n",
    "        if opname not in roots:\n",
    "            opfunc.__name__ = opname\n",
    "            opfunc.__qualname__ = f'{cls.__qualname__}.{opname}'\n",
    "            setattr(cls, opname, opfunc)\n",
    "    return cls\n"
   ]
  }
 ],
 "metadata": {
  "kernelspec": {
   "display_name": "Python 3",
   "language": "python",
   "name": "python3"
  },
  "language_info": {
   "codemirror_mode": {
    "name": "ipython",
    "version": 3
   },
   "file_extension": ".py",
   "mimetype": "text/x-python",
   "name": "python",
   "nbconvert_exporter": "python",
   "pygments_lexer": "ipython3",
   "version": "3.11.2"
  }
 },
 "nbformat": 4,
 "nbformat_minor": 2
}
