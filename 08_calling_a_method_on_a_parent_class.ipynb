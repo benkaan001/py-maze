{
 "cells": [
  {
   "cell_type": "code",
   "execution_count": 1,
   "metadata": {},
   "outputs": [
    {
     "name": "stdout",
     "output_type": "stream",
     "text": [
      "B.spam\n",
      "A.spam\n"
     ]
    }
   ],
   "source": [
    "class A:\n",
    "    def spam(self):\n",
    "        print('A.spam')\n",
    "\n",
    "class B(A):\n",
    "    def spam(self):\n",
    "        print('B.spam')\n",
    "        super().spam()\n",
    "\n",
    "b = B()\n",
    "b.spam()"
   ]
  },
  {
   "cell_type": "code",
   "execution_count": 2,
   "metadata": {},
   "outputs": [
    {
     "name": "stdout",
     "output_type": "stream",
     "text": [
      "b.x = 0 and b.y = 1\n"
     ]
    }
   ],
   "source": [
    "class A:\n",
    "    def __init__(self):\n",
    "        self.x = 0\n",
    "\n",
    "class B(A):\n",
    "    def __init__(self):\n",
    "        super().__init__()\n",
    "        self.y = 1\n",
    "\n",
    "b = B()\n",
    "print(f\"{b.x = } and {b.y = }\")"
   ]
  },
  {
   "cell_type": "markdown",
   "metadata": {},
   "source": [
    "The `Proxy` class is designed to act as a wrapper for another object, allowing you to intercept and modify attribute access to that object. It's used to control how attributes are accessed and assigned to the underlying object it wraps.\n",
    "\n",
    "1. In the `__init__` method of the `Proxy` class, you pass an object `obj` as an argument, which the `Proxy` will wrap. It stores this object in its `_obj` attribute.\n",
    "\n",
    "2. `__getattr__(self, name)`: This is a special method that is called when you try to access an attribute of the `Proxy` object. It delegates the attribute lookup to the internal object `_obj`. If an attribute is not found in the `Proxy` object, it will look for it in `_obj` and return the result.\n",
    "\n",
    "3. `__setattr__(self, name, value)`: This method is called when you try to set an attribute of the `Proxy` object. It checks whether the attribute name starts with an underscore ('_'). If it does, it behaves like a normal attribute assignment by calling the original `__setattr__` method. If the attribute name does not start with an underscore, it assigns the value to the same attribute in the `_obj`.\n",
    "\n",
    "The `A` class is a simple example class with an `__init__` method that sets an attribute `x` and a `spam` method.\n",
    "\n",
    "Finally, an instance of the `A` class is created: `a = A(42)`. Then, a `Proxy` object `p` is created, wrapping the instance `a`.\n",
    "\n",
    "When you print `p.x`, it will use the `__getattr__` method in the `Proxy` class to delegate the attribute lookup to the internal object `a`. In this case, it will print the value of `x`, which is `42`. So, the output of the code will be `42`."
   ]
  },
  {
   "cell_type": "code",
   "execution_count": 3,
   "metadata": {},
   "outputs": [
    {
     "name": "stdout",
     "output_type": "stream",
     "text": [
      "42\n"
     ]
    }
   ],
   "source": [
    "class Proxy:\n",
    "    def __init__(self, obj):\n",
    "        self._obj = obj\n",
    "\n",
    "    # Delegate attribute lookup to internal obj\n",
    "    def __getattr__(self, name):\n",
    "        return getattr(self._obj, name)\n",
    "\n",
    "    # Delegate attribute assignment\n",
    "    def __setattr__(self, name, value):\n",
    "        if name.startswith('_'):\n",
    "            super().__setattr__(name, value)  # Call original __setattr__\n",
    "        else:\n",
    "            setattr(self._obj, name, value)\n",
    "\n",
    "class A:\n",
    "    def __init__(self, x):\n",
    "        self.x = x\n",
    "\n",
    "    def spam(self):\n",
    "        print('A.spam')\n",
    "\n",
    "a = A(42)\n",
    "p = Proxy(a)\n",
    "print(p.x)"
   ]
  },
  {
   "cell_type": "code",
   "execution_count": 4,
   "metadata": {},
   "outputs": [
    {
     "name": "stdout",
     "output_type": "stream",
     "text": [
      "A.spam\n"
     ]
    }
   ],
   "source": [
    "p.spam()"
   ]
  },
  {
   "cell_type": "code",
   "execution_count": 5,
   "metadata": {},
   "outputs": [
    {
     "name": "stdout",
     "output_type": "stream",
     "text": [
      "Should be 37: 37\n",
      "Should be 37: 37\n"
     ]
    }
   ],
   "source": [
    "p.x = 37\n",
    "print('Should be 37:', p.x)\n",
    "print('Should be 37:', a.x)"
   ]
  },
  {
   "cell_type": "markdown",
   "metadata": {},
   "source": [
    "### Tricky Initializations Problem Involving Multiple Inheritance"
   ]
  },
  {
   "cell_type": "code",
   "execution_count": 6,
   "metadata": {},
   "outputs": [
    {
     "name": "stdout",
     "output_type": "stream",
     "text": [
      "Base.__init__\n",
      "A.__init__\n",
      "Base.__init__\n",
      "B.__init__\n",
      "C.__init__\n"
     ]
    }
   ],
   "source": [
    "class Base:\n",
    "    def __init__(self):\n",
    "        print('Base.__init__')\n",
    "\n",
    "class A(Base):\n",
    "    def __init__(self):\n",
    "        Base.__init__(self)\n",
    "        print('A.__init__')\n",
    "\n",
    "class B(Base):\n",
    "    def __init__(self):\n",
    "        Base.__init__(self)\n",
    "        print('B.__init__')\n",
    "\n",
    "class C(A,B):\n",
    "    def __init__(self):\n",
    "        A.__init__(self)\n",
    "        B.__init__(self)\n",
    "        print('C.__init__')\n",
    "\n",
    "c = C()"
   ]
  },
  {
   "cell_type": "markdown",
   "metadata": {},
   "source": [
    "### Using `super()`"
   ]
  },
  {
   "cell_type": "markdown",
   "metadata": {},
   "source": [
    "The code demonstrates multiple inheritance and the `method resolution order (MRO)`. \n",
    "\n",
    "\n",
    "1. `class A(Base):` is a class that inherits from `Base`. It also has its own `__init__` method. When an instance of `A` is created, it calls the `__init__` method of the base class `Base` using `super().__init__()`, and then it prints 'A.__init__'.\n",
    "\n",
    "3. `class B(Base):` is similar to class `A` but inherits from `Base` as well. It has its own `__init__` method and follows the same pattern: it calls the `__init__` method of the base class `Base` using `super().__init__()`, and then it prints 'B.__init__'.\n",
    "\n",
    "4. `class C(A, B):` defines a class `C` that inherits from both classes `A` and `B`. This demonstrates multiple inheritance. `C` has its own `__init__` method. When an instance of `C` is created, it calls `super().__init__()` twice. The order in which `super()` is called determines the method resolution order. In this case, it starts with class `B` and then goes to class `A`. Therefore, it calls the `__init__` methods of both `B` and `A`. Then, it prints 'C.__init__'.\n",
    "\n",
    "\n",
    "This output demonstrates how multiple inheritance works in Python, and it follows the C3 Linearization algorithm to determine the method resolution order."
   ]
  },
  {
   "cell_type": "code",
   "execution_count": 10,
   "metadata": {},
   "outputs": [
    {
     "name": "stdout",
     "output_type": "stream",
     "text": [
      "Base.__init__\n",
      "B.__init__\n",
      "A.__init__\n",
      "Base.__init__\n",
      "B.__init__\n",
      "A.__init__\n",
      "C.__init__\n"
     ]
    }
   ],
   "source": [
    "class Base:\n",
    "   def __init__(self):\n",
    "        print('Base.__init__')\n",
    "\n",
    "class A(Base):\n",
    "    def __init__(self):\n",
    "        super().__init__()\n",
    "        print('A.__init__')\n",
    "\n",
    "class B(Base):\n",
    "    def __init__(self):\n",
    "        super().__init__()\n",
    "        print('B.__init__')\n",
    "\n",
    "class C(A,B):\n",
    "    def __init__(self):\n",
    "        super().__init__()\n",
    "        super().__init__()\n",
    "        print('C.__init__')\n",
    "\n",
    "c = C()"
   ]
  }
 ],
 "metadata": {
  "kernelspec": {
   "display_name": "Python 3",
   "language": "python",
   "name": "python3"
  },
  "language_info": {
   "codemirror_mode": {
    "name": "ipython",
    "version": 3
   },
   "file_extension": ".py",
   "mimetype": "text/x-python",
   "name": "python",
   "nbconvert_exporter": "python",
   "pygments_lexer": "ipython3",
   "version": "3.11.2"
  }
 },
 "nbformat": 4,
 "nbformat_minor": 2
}
