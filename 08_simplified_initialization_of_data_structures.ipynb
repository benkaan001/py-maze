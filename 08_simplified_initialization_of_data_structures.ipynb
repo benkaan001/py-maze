{
 "cells": [
  {
   "cell_type": "code",
   "execution_count": 1,
   "metadata": {},
   "outputs": [],
   "source": [
    "from typing import Any, Union"
   ]
  },
  {
   "cell_type": "code",
   "execution_count": 2,
   "metadata": {},
   "outputs": [],
   "source": [
    "class Structure:\n",
    "    # Class variable that specifies expected fields\n",
    "    _fields = []\n",
    "    def __init__(self, *args: Any) -> None:\n",
    "        if len(args) != len(self._fields):\n",
    "            raise TypeError(f\"Expected {len(self._fields)} arguments.\")\n",
    "\n",
    "        # Set the arguments\n",
    "        for name, value in zip(self._fields, args):\n",
    "            setattr(self, name, value)\n",
    "\n",
    "# Example class definition\n",
    "class Stock(Structure):\n",
    "    _fields = ['name', 'shares', 'price']\n",
    "\n",
    "class Point(Structure):\n",
    "    _fields = ['x', 'y']\n",
    "\n",
    "class Circle(Structure):\n",
    "    _fields = ['radius']\n",
    "    def areas(self) -> Union[float, int]:\n",
    "        return math.pi * self.radius ** 2\n"
   ]
  },
  {
   "cell_type": "code",
   "execution_count": 3,
   "metadata": {},
   "outputs": [
    {
     "data": {
      "text/plain": [
       "('ACME', 50, 90.1)"
      ]
     },
     "execution_count": 3,
     "metadata": {},
     "output_type": "execute_result"
    }
   ],
   "source": [
    "s = Stock('ACME', 50, 90.1)\n",
    "s.name, s.shares, s.price"
   ]
  }
 ],
 "metadata": {
  "kernelspec": {
   "display_name": "Python 3",
   "language": "python",
   "name": "python3"
  },
  "language_info": {
   "codemirror_mode": {
    "name": "ipython",
    "version": 3
   },
   "file_extension": ".py",
   "mimetype": "text/x-python",
   "name": "python",
   "nbconvert_exporter": "python",
   "pygments_lexer": "ipython3",
   "version": "3.11.2"
  }
 },
 "nbformat": 4,
 "nbformat_minor": 2
}
