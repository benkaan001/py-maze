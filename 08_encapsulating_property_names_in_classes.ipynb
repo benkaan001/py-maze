{
 "cells": [
  {
   "cell_type": "markdown",
   "metadata": {},
   "source": [
    "In this example, we have a `Parent` class with public, protected, and private variables. \n",
    "\n",
    "- `self.public_var:` This is a public variable that can be accessed from anywhere. \n",
    "\n",
    "- `self._protected_var :` This is intended for use within the class and its subclasses, but not outside of them. Nevertheless, it can still be accessed from anywhere. \n",
    "\n",
    "- `self__private_var:` Like protected, it is intended for use only within the class and is name-mangled to `_Parent__private_var`. \n",
    "\n",
    "The `Child` class demonstrates how to access the private variable `__private_var` using name mangling (`self._Parent__private_var`). This is necessary because Python doesn't directly support private variables like some other languages do."
   ]
  },
  {
   "cell_type": "code",
   "execution_count": 1,
   "metadata": {},
   "outputs": [],
   "source": [
    "class Parent:\n",
    "    def __init__(self):\n",
    "        self.public_var = \"I'm public\"\n",
    "        self._protected_var = \"I'm protected\"\n",
    "        self.__private_var = \"I'm private\"\n",
    "\n",
    "    def get_private_var(self):\n",
    "        return self.__private_var\n",
    "\n",
    "class Child(Parent):\n",
    "    def __init__(self):\n",
    "        super().__init__()\n",
    "        # This will throw an error because __private_var is not directly accessible.\n",
    "        # print(self.__private_var)\n",
    "        # Instead, you'd typically access it via a method like this:\n",
    "        self.print_private_var()\n",
    "\n",
    "    def print_private_var(self):\n",
    "        print(self._Parent__private_var)  # Name mangled access to __private_var\n",
    "\n",
    "parent = Parent()"
   ]
  },
  {
   "cell_type": "code",
   "execution_count": 2,
   "metadata": {},
   "outputs": [
    {
     "data": {
      "text/plain": [
       "\"I'm public\""
      ]
     },
     "execution_count": 2,
     "metadata": {},
     "output_type": "execute_result"
    }
   ],
   "source": [
    "parent.public_var"
   ]
  },
  {
   "cell_type": "code",
   "execution_count": 3,
   "metadata": {},
   "outputs": [
    {
     "data": {
      "text/plain": [
       "\"I'm protected\""
      ]
     },
     "execution_count": 3,
     "metadata": {},
     "output_type": "execute_result"
    }
   ],
   "source": [
    "parent._protected_var"
   ]
  },
  {
   "cell_type": "code",
   "execution_count": 4,
   "metadata": {},
   "outputs": [
    {
     "name": "stdout",
     "output_type": "stream",
     "text": [
      "'Parent' object has no attribute '__private_var'\n"
     ]
    }
   ],
   "source": [
    "# This will throw an error because __private_var is not directly accessible.\n",
    "# print(parent.__private_var)\n",
    "try:\n",
    "    print(parent.__private_var)\n",
    "except Exception as e:\n",
    "    print(e)"
   ]
  },
  {
   "cell_type": "code",
   "execution_count": 5,
   "metadata": {},
   "outputs": [
    {
     "name": "stdout",
     "output_type": "stream",
     "text": [
      "I'm private\n"
     ]
    }
   ],
   "source": [
    "child = Child()  # Output: I'm private"
   ]
  },
  {
   "cell_type": "markdown",
   "metadata": {},
   "source": [
    "# Invoking class"
   ]
  },
  {
   "cell_type": "code",
   "execution_count": 6,
   "metadata": {},
   "outputs": [],
   "source": [
    "class Parent:\n",
    "    def __init__(self):\n",
    "        self.public_var = \"I'm public\"\n",
    "        self._protected_var = \"I'm protected\"\n",
    "        self.__private_var = \"I'm private\"\n",
    "        print(\"PARENT INVOKED.\")\n",
    "\n",
    "    def get_private_var(self):\n",
    "        return self.__private_var\n",
    "\n",
    "class Child(Parent):\n",
    "    def __init__(self):\n",
    "        super().__init__()\n",
    "        # This will throw an error because __private_var is not directly accessible.\n",
    "        # print(self.__private_var)\n",
    "        # Instead, you'd typically access it via a method like this:\n",
    "        self.print_private_var()\n",
    "\n",
    "    def print_private_var(self):\n",
    "        print(self._Parent__private_var)  # Name mangled access to __private_var"
   ]
  },
  {
   "cell_type": "code",
   "execution_count": 7,
   "metadata": {},
   "outputs": [
    {
     "name": "stdout",
     "output_type": "stream",
     "text": [
      "PARENT INVOKED.\n"
     ]
    }
   ],
   "source": [
    "parent = Parent()"
   ]
  },
  {
   "cell_type": "code",
   "execution_count": 8,
   "metadata": {},
   "outputs": [
    {
     "name": "stdout",
     "output_type": "stream",
     "text": [
      "PARENT INVOKED.\n",
      "I'm private\n"
     ]
    }
   ],
   "source": [
    "child = Child()"
   ]
  },
  {
   "cell_type": "code",
   "execution_count": 9,
   "metadata": {},
   "outputs": [
    {
     "data": {
      "text/plain": [
       "\"I'm public\""
      ]
     },
     "execution_count": 9,
     "metadata": {},
     "output_type": "execute_result"
    }
   ],
   "source": [
    "child.public_var"
   ]
  },
  {
   "cell_type": "code",
   "execution_count": 10,
   "metadata": {},
   "outputs": [
    {
     "data": {
      "text/plain": [
       "\"I'm protected\""
      ]
     },
     "execution_count": 10,
     "metadata": {},
     "output_type": "execute_result"
    }
   ],
   "source": [
    "# 'protected variable' is still accessible\n",
    "child._protected_var"
   ]
  },
  {
   "cell_type": "code",
   "execution_count": 11,
   "metadata": {},
   "outputs": [
    {
     "name": "stdout",
     "output_type": "stream",
     "text": [
      "'Child' object has no attribute '__private_var'\n"
     ]
    }
   ],
   "source": [
    "try:\n",
    "    child.__private_var\n",
    "except Exception as e:\n",
    "    print(e)"
   ]
  },
  {
   "cell_type": "code",
   "execution_count": 12,
   "metadata": {},
   "outputs": [
    {
     "data": {
      "text/plain": [
       "\"I'm private\""
      ]
     },
     "execution_count": 12,
     "metadata": {},
     "output_type": "execute_result"
    }
   ],
   "source": [
    "child._Parent__private_var"
   ]
  },
  {
   "cell_type": "markdown",
   "metadata": {},
   "source": [
    "# Name Mangling\n",
    "\n",
    "Name mangling is a technique used in some programming languages, including Python, to ensure that class members with double underscores in their names are not easily accessed from outside the class hierarchy. In Python, name mangling is specifically used for attributes that start with two underscores (`__`).\n",
    "\n",
    "When a class member is defined with a name like `__variable`, Python internally renames it to `_ClassName__variable`. This renaming is done to prevent accidental overriding of such attributes in subclasses and to provide a form of \"pseudo-privacy.\""
   ]
  },
  {
   "cell_type": "code",
   "execution_count": 13,
   "metadata": {},
   "outputs": [
    {
     "name": "stdout",
     "output_type": "stream",
     "text": [
      "PARENT INVOKED.\n"
     ]
    },
    {
     "data": {
      "text/plain": [
       "\"I'm private\""
      ]
     },
     "execution_count": 13,
     "metadata": {},
     "output_type": "execute_result"
    }
   ],
   "source": [
    "\n",
    "# Using the getter method to access the private variable\n",
    "Parent().get_private_var()  # Output: I'm private"
   ]
  },
  {
   "cell_type": "code",
   "execution_count": 14,
   "metadata": {},
   "outputs": [
    {
     "data": {
      "text/plain": [
       "\"I'm private\""
      ]
     },
     "execution_count": 14,
     "metadata": {},
     "output_type": "execute_result"
    }
   ],
   "source": [
    "parent.get_private_var()"
   ]
  },
  {
   "cell_type": "code",
   "execution_count": 15,
   "metadata": {},
   "outputs": [
    {
     "name": "stdout",
     "output_type": "stream",
     "text": [
      "PARENT INVOKED.\n",
      "'Parent' object has no attribute '__private_var'\n"
     ]
    }
   ],
   "source": [
    "# Accessing the private variable directly will throw an AttributeError\n",
    "try:\n",
    "    print(Parent().__private_var)\n",
    "except AttributeError as e:\n",
    "    print(e)"
   ]
  },
  {
   "cell_type": "code",
   "execution_count": 16,
   "metadata": {},
   "outputs": [
    {
     "name": "stdout",
     "output_type": "stream",
     "text": [
      "'Parent' object has no attribute '__private_var'\n"
     ]
    }
   ],
   "source": [
    "try:\n",
    "    print(parent.__private_var)\n",
    "except AttributeError as e:\n",
    "    print(e)"
   ]
  },
  {
   "cell_type": "code",
   "execution_count": 17,
   "metadata": {},
   "outputs": [
    {
     "data": {
      "text/plain": [
       "\"I'm private\""
      ]
     },
     "execution_count": 17,
     "metadata": {},
     "output_type": "execute_result"
    }
   ],
   "source": [
    "child.get_private_var()"
   ]
  }
 ],
 "metadata": {
  "kernelspec": {
   "display_name": "Python 3",
   "language": "python",
   "name": "python3"
  },
  "language_info": {
   "codemirror_mode": {
    "name": "ipython",
    "version": 3
   },
   "file_extension": ".py",
   "mimetype": "text/x-python",
   "name": "python",
   "nbconvert_exporter": "python",
   "pygments_lexer": "ipython3",
   "version": "3.11.2"
  }
 },
 "nbformat": 4,
 "nbformat_minor": 2
}
