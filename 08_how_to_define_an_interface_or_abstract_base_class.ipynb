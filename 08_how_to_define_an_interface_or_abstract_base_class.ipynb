{
 "cells": [
  {
   "cell_type": "markdown",
   "metadata": {},
   "source": [
    "# Interface\n",
    "\n",
    "In python, the concept of interfaces is not explicitly defined as in Java. Instead, Python uses `abstract base classes(ABCs)` to achieve a similar purpose. Using ABCs and enforcing the presence of certain methods allows you to achieve a similar level of abstraction and code contract. \n",
    "- In Example1, the `IStream` class defines the expected behavior that any class claimin gto be an 'IStream' must implement. "
   ]
  },
  {
   "cell_type": "code",
   "execution_count": 1,
   "metadata": {},
   "outputs": [],
   "source": [
    "from abc import ABCMeta, abstractmethod"
   ]
  },
  {
   "cell_type": "markdown",
   "metadata": {},
   "source": [
    "## Example 1"
   ]
  },
  {
   "cell_type": "markdown",
   "metadata": {},
   "source": [
    "1. **`IStream` (Abstract Base Class):**\n",
    "   - `IStream` is defined as an abstract base class using the `ABCMeta` metaclass.\n",
    "   - It declares abstract methods `read` and `write` without providing implementations.\n",
    "   - Concrete subclasses are required to provide concrete implementations for these methods.\n",
    "\n",
    "2. **`SocketStream` (Concrete Implementation):**\n",
    "   - `SocketStream` is a concrete implementation of the `IStream` abstract base class.\n",
    "   - It provides specific implementations for the abstract methods `read` and `write`.\n",
    "   - By inheriting from `IStream`, `SocketStream` agrees to conform to the interface specified by `IStream`.\n",
    "\n",
    "3. **Type-Checking Function (`serialize`):**\n",
    "   - The `serialize` function expects its second argument to be an instance of the `IStream` abstract base class.\n",
    "   - This function acts as a consumer of the `IStream` interface. It doesn't care about the specific implementation, as long as it conforms to the interface by providing the required methods.\n",
    "\n",
    "In this context, you can think of `IStream` as defining the interface for stream-like objects, and `SocketStream` as a class that adheres to that interface. The `serialize` function then consumes any object that adheres to the `IStream` interface."
   ]
  },
  {
   "cell_type": "code",
   "execution_count": 2,
   "metadata": {},
   "outputs": [],
   "source": [
    "class IStream(metaclass=ABCMeta):\n",
    "    @abstractmethod\n",
    "    def read(self, maxbytes: int=-1) -> None:\n",
    "        pass\n",
    "    @abstractmethod\n",
    "    def write(self, data: str) -> None:\n",
    "        pass\n",
    "\n",
    "# Example implementation\n",
    "class SocketStream(IStream):\n",
    "    def read(self, maxbytes: int =-1) -> None:\n",
    "        print('Reading')\n",
    "    def write(self, data: str) -> None:\n",
    "        print(f'Writing the received data, {data}...')\n",
    "\n",
    "# Example of type checking\n",
    "def serialize(obj, stream):\n",
    "    if not isinstance(stream, IStream):\n",
    "        print(f'Printing stream type: {type(stream)}')\n",
    "        raise TypeError(f'Expected an IStream, but got {type(stream).__name__} type.')\n",
    "    print(f'Serializing the stream type: {type(stream)} received.')"
   ]
  },
  {
   "cell_type": "code",
   "execution_count": 3,
   "metadata": {},
   "outputs": [
    {
     "name": "stdout",
     "output_type": "stream",
     "text": [
      "Can't instantiate abstract class IStream with abstract methods read, write\n"
     ]
    }
   ],
   "source": [
    "# An attempt to instantiate ABC directly will result in error\n",
    "try:\n",
    "    a = IStream()\n",
    "except TypeError as e:\n",
    "    print(e)"
   ]
  },
  {
   "cell_type": "code",
   "execution_count": 4,
   "metadata": {},
   "outputs": [
    {
     "name": "stdout",
     "output_type": "stream",
     "text": [
      "Reading\n",
      "Writing the received data, socketstream data...\n"
     ]
    }
   ],
   "source": [
    "# Instantiation of a concrete implementation\n",
    "a = SocketStream()\n",
    "a.read()\n",
    "a.write('socketstream data')"
   ]
  },
  {
   "cell_type": "code",
   "execution_count": 5,
   "metadata": {},
   "outputs": [
    {
     "name": "stdout",
     "output_type": "stream",
     "text": [
      "Serializing the stream type: <class '__main__.SocketStream'> received.\n"
     ]
    }
   ],
   "source": [
    "# Passing to type-check function\n",
    "serialize(None, a)"
   ]
  },
  {
   "cell_type": "code",
   "execution_count": 6,
   "metadata": {},
   "outputs": [
    {
     "name": "stdout",
     "output_type": "stream",
     "text": [
      "Printing stream type: <class 'ipykernel.iostream.OutStream'>\n",
      "Expected an IStream, but got OutStream type.\n"
     ]
    }
   ],
   "source": [
    "# Attemp to pass a file-like object to serialize (fails)\n",
    "import sys\n",
    "\n",
    "try:\n",
    "    serialize(None, sys.stdout)\n",
    "except TypeError as e:\n",
    "    print(e)"
   ]
  },
  {
   "cell_type": "code",
   "execution_count": 7,
   "metadata": {},
   "outputs": [
    {
     "name": "stdout",
     "output_type": "stream",
     "text": [
      "Serializing the stream type: <class 'ipykernel.iostream.OutStream'> received.\n"
     ]
    }
   ],
   "source": [
    "# Register file streams and retry\n",
    "import io\n",
    "IStream.register(io.IOBase)\n",
    "\n",
    "serialize(None, sys.stdout)"
   ]
  },
  {
   "cell_type": "markdown",
   "metadata": {},
   "source": [
    "## Example 2"
   ]
  },
  {
   "cell_type": "code",
   "execution_count": 8,
   "metadata": {},
   "outputs": [],
   "source": [
    "class A(metaclass=ABCMeta):\n",
    "    @property\n",
    "    @abstractmethod\n",
    "    def name(self) -> str:\n",
    "        pass\n",
    "\n",
    "    @name.setter\n",
    "    @abstractmethod\n",
    "    def name(self, value) -> None:\n",
    "        pass\n",
    "\n",
    "    @classmethod\n",
    "    @abstractmethod\n",
    "    def method1(cls) -> None:\n",
    "        pass\n",
    "\n",
    "    @staticmethod\n",
    "    @abstractmethod\n",
    "    def method2() -> None:\n",
    "        pass\n"
   ]
  },
  {
   "cell_type": "markdown",
   "metadata": {},
   "source": [
    "Here's a breakdown of the code:\n",
    "\n",
    "\n",
    "1. **`ABCMeta` Metaclass:**\n",
    "   - `ABCMeta` is a metaclass provided by the `abc` module, used to define abstract base classes.\n",
    "   - When a class includes `metaclass=ABCMeta` in its definition, it becomes an abstract class.\n",
    "\n",
    "2. **Abstract Property `name`:**\n",
    "   - `@property` decorator defines an abstract property `name` without a concrete implementation.\n",
    "   - `@abstractmethod` decorator ensures that any concrete subclass must provide a getter for this property.\n",
    "\n",
    "3. **Setter for `name`:**\n",
    "   - `@name.setter` decorator defines an abstract setter for the `name` property.\n",
    "   - It enforces that any concrete subclass must provide an implementation for setting the `name` property.\n",
    "\n",
    "4. **Class Method `method1`:**\n",
    "   - `@classmethod` decorator defines an abstract class method `method1`.\n",
    "   - `@abstractmethod` ensures that any concrete subclass must provide an implementation for this class method.\n",
    "\n",
    "5. **Static Method `method2`:**\n",
    "   - `@staticmethod` decorator defines an abstract static method `method2`.\n",
    "   - `@abstractmethod` ensures that any concrete subclass must provide an implementation for this static method.\n",
    "\n",
    "By using abstract methods and properties, this abstract base class (`A`) establishes a contract that any concrete subclass must adhere to. Concrete subclasses of `A` must implement the abstract methods and properties defined in `A`. If a subclass fails to provide implementations for any of these, it will raise a `TypeError` during instantiation."
   ]
  },
  {
   "cell_type": "markdown",
   "metadata": {},
   "source": [
    "### Example Usage"
   ]
  },
  {
   "cell_type": "code",
   "execution_count": 9,
   "metadata": {},
   "outputs": [],
   "source": [
    "class ConcreteA(A):\n",
    "    def __init__(self, name: str) -> None:\n",
    "        self._name = name\n",
    "\n",
    "    @property\n",
    "    def name(self) -> str:\n",
    "        return self._name\n",
    "\n",
    "    @name.setter\n",
    "    def name(self, value) -> None:\n",
    "        self._name = value\n",
    "\n",
    "    @classmethod\n",
    "    def method1(cls) -> None:\n",
    "        print(f\"Class method1 called in {cls.__name__}\")\n",
    "\n",
    "    @staticmethod\n",
    "    def method2() -> None:\n",
    "        print(\"Static method2 called\")"
   ]
  },
  {
   "cell_type": "code",
   "execution_count": 10,
   "metadata": {},
   "outputs": [
    {
     "data": {
      "text/plain": [
       "'John'"
      ]
     },
     "execution_count": 10,
     "metadata": {},
     "output_type": "execute_result"
    }
   ],
   "source": [
    "obj = ConcreteA(\"John\")\n",
    "obj.name"
   ]
  },
  {
   "cell_type": "code",
   "execution_count": 11,
   "metadata": {},
   "outputs": [
    {
     "name": "stdout",
     "output_type": "stream",
     "text": [
      "Class method1 called in ConcreteA\n"
     ]
    }
   ],
   "source": [
    "obj.method1()"
   ]
  },
  {
   "cell_type": "code",
   "execution_count": 12,
   "metadata": {},
   "outputs": [
    {
     "name": "stdout",
     "output_type": "stream",
     "text": [
      "Static method2 called\n"
     ]
    }
   ],
   "source": [
    "obj.method2()"
   ]
  }
 ],
 "metadata": {
  "kernelspec": {
   "display_name": "Python 3",
   "language": "python",
   "name": "python3"
  },
  "language_info": {
   "codemirror_mode": {
    "name": "ipython",
    "version": 3
   },
   "file_extension": ".py",
   "mimetype": "text/x-python",
   "name": "python",
   "nbconvert_exporter": "python",
   "pygments_lexer": "ipython3",
   "version": "3.11.2"
  }
 },
 "nbformat": 4,
 "nbformat_minor": 2
}
