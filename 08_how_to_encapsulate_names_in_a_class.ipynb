{
 "cells": [
  {
   "cell_type": "markdown",
   "metadata": {},
   "source": [
    "### Example of using `__method` name to implement a non-overridable method."
   ]
  },
  {
   "cell_type": "code",
   "execution_count": null,
   "metadata": {},
   "outputs": [],
   "source": [
    "class B:\n",
    "    def __init__(self):\n",
    "        self.__private = 0\n",
    "    def __private_method(self):\n",
    "        print('B.__private_method', self.__private)\n",
    "\n",
    "    def public_method(self):\n",
    "        self.__private_method()\n",
    "\n",
    "class C(B):\n",
    "    def __init__(self):\n",
    "        super().__init__()\n",
    "        self.__private = 1      # Does not override B.__private\n",
    "    # Does not override B.__private_method()\n",
    "    def __private_method(self):\n",
    "        print('C.__private_method')\n",
    "\n",
    "c = C()\n",
    "c.public_method()"
   ]
  },
  {
   "cell_type": "markdown",
   "metadata": {},
   "source": [
    "The code demonstrates the concept of ***name mangling*** for class attributes and methods in Python. \n",
    "\n",
    "Let's break down the code and its behavior:\n",
    "\n",
    "1. `class B`:\n",
    "   - The `B` class defines a private instance variable `__private` and a private instance method `__private_method`.\n",
    "   - Name mangling is applied to these names. Python mangles the names by adding the class name as a prefix, so `__private` becomes `_B__private` and `__private_method` becomes `_B__private_method`.\n",
    "   - There is also a public method `public_method` that calls the private method `__private_method`.\n",
    "\n",
    "2. `class C(B)`:\n",
    "   - The `C` class inherits from `B`. It overrides the private instance variable `__private` with a value of `1`.\n",
    "   - The private method `__private_method` is also redefined in the `C` class, but the name mangling is applied, so it becomes `_C__private_method`.\n",
    "   - `super().__init__()` is called to invoke the constructor of the parent class `B`.\n",
    "\n",
    "3. Creating an instance of class `C`:\n",
    "   - An instance `c` of class `C` is created.\n",
    "\n",
    "4. Calling `public_method`:\n",
    "   - The `public_method` of class `C` is called on the instance `c`.\n",
    "   - Within `public_method`, the method `__private_method` is called.\n",
    "   - Since `C` redefined the `__private_method` (as `_C__private_method`) in its own class, this overridden method in `C` is called, and it prints 'C.__private_method'.\n",
    "\n",
    "The key points to understand:\n",
    "\n",
    "- Name mangling is used to avoid accidental name conflicts between attributes and methods in different classes.\n",
    "- In class `C`, the overridden private method in `C` does not override the private method in `B`. Both `B` and `C` have their own private methods.\n",
    "- When calling `public_method` in class `C`, it invokes the private method defined in class `C` (`_C__private_method`) and prints 'C.__private_method'."
   ]
  },
  {
   "cell_type": "markdown",
   "metadata": {},
   "source": [
    "## Better Example"
   ]
  },
  {
   "cell_type": "markdown",
   "metadata": {},
   "source": [
    "In this example:\n",
    "\n",
    "- We have a base class `Department` to represent different departments.\n",
    "- The `Employee` class and `Manager` class inherit from `Department`.\n",
    "- Both `Employee` and `Manager` have an attribute called `__name` using name mangling.\n",
    "\n",
    "When we create instances of `Employee` and `Manager` and access their `__name` attributes, we use name mangling to ensure they don't clash. The actual attribute names become `_Employee__name` and `_Manager__name`.\n",
    "\n",
    "This code demonstrates how name mangling helps avoid attribute name conflicts within a class hierarchy. However, if you attempt to access these attributes without the name mangling prefix (e.g., `hr_John.__name`), it will result in an `AttributeError`. \n",
    "\n",
    "### ***Name mangling effectively provides a level of attribute encapsulation and protection.***"
   ]
  },
  {
   "cell_type": "code",
   "execution_count": 9,
   "metadata": {},
   "outputs": [
    {
     "data": {
      "text/plain": [
       "'John'"
      ]
     },
     "execution_count": 9,
     "metadata": {},
     "output_type": "execute_result"
    }
   ],
   "source": [
    "class Department:\n",
    "    def __init__(self, name):\n",
    "        self.name = name\n",
    "\n",
    "class Employee(Department):\n",
    "    def __init__(self, name, department):\n",
    "        super().__init__(department)\n",
    "        self.__name = name   # Using name mangling to avoid conflits\n",
    "\n",
    "class Manager(Department):\n",
    "    def __init__(self, name, department):\n",
    "        super().__init__(department)\n",
    "        self.__name = name   # Using name mangling to avoid conflicts\n",
    "\n",
    "hr_John = Employee('John', 'HR')\n",
    "eng_Jane = Employee('Jane', 'Engineering')\n",
    "mng_Mike = Manager('Mike', 'Engineering')\n",
    "mng_Mary = Manager('Mary', 'Finance')\n",
    "\n",
    "hr_John._Employee__name"
   ]
  },
  {
   "cell_type": "code",
   "execution_count": 11,
   "metadata": {},
   "outputs": [
    {
     "data": {
      "text/plain": [
       "'Mary'"
      ]
     },
     "execution_count": 11,
     "metadata": {},
     "output_type": "execute_result"
    }
   ],
   "source": [
    "mng_Mary._Manager__name"
   ]
  },
  {
   "cell_type": "markdown",
   "metadata": {},
   "source": [
    "#### Attempting to access attributes without name mangling (will result in AttributeError)"
   ]
  },
  {
   "cell_type": "code",
   "execution_count": 12,
   "metadata": {},
   "outputs": [
    {
     "name": "stdout",
     "output_type": "stream",
     "text": [
      "'Employee' object has no attribute '__name'\n"
     ]
    }
   ],
   "source": [
    "try:\n",
    "    hr_John.__name\n",
    "except Exception as e:\n",
    "    print(e)"
   ]
  },
  {
   "cell_type": "code",
   "execution_count": 13,
   "metadata": {},
   "outputs": [
    {
     "name": "stdout",
     "output_type": "stream",
     "text": [
      "'Manager' object has no attribute '__name'\n"
     ]
    }
   ],
   "source": [
    "try:\n",
    "    mng_Mary.__name\n",
    "except AttributeError as e:\n",
    "    print(e)"
   ]
  }
 ],
 "metadata": {
  "kernelspec": {
   "display_name": "Python 3",
   "language": "python",
   "name": "python3"
  },
  "language_info": {
   "codemirror_mode": {
    "name": "ipython",
    "version": 3
   },
   "file_extension": ".py",
   "mimetype": "text/x-python",
   "name": "python",
   "nbconvert_exporter": "python",
   "pygments_lexer": "ipython3",
   "version": "3.11.2"
  }
 },
 "nbformat": 4,
 "nbformat_minor": 2
}
