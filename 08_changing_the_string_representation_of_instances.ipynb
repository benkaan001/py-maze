{
 "cells": [
  {
   "cell_type": "markdown",
   "metadata": {},
   "source": [
    "## Use of `!r`\n",
    "\n",
    "The **'!r'** in the formatted string ensures that the values are represented using their `repr()` representation.  "
   ]
  },
  {
   "cell_type": "code",
   "execution_count": 1,
   "metadata": {},
   "outputs": [],
   "source": [
    "class Pair:\n",
    "    def __init__(self, x, y) -> None:\n",
    "        self.x = x\n",
    "        self.y = y\n",
    "\n",
    "    def __repr__(self) -> str:\n",
    "        return f'Pair({self.x!r}, {self.y!r})'\n",
    "\n",
    "    def __str__(self) -> str:\n",
    "        return f'({self.x}, {self.y})'"
   ]
  },
  {
   "cell_type": "code",
   "execution_count": 2,
   "metadata": {},
   "outputs": [
    {
     "name": "stdout",
     "output_type": "stream",
     "text": [
      "(3, 4)\n"
     ]
    }
   ],
   "source": [
    "p = Pair(3, 4)\n",
    "\n",
    "# Using __str__ method (implicitly called by print)\n",
    "print(p)"
   ]
  },
  {
   "cell_type": "code",
   "execution_count": 3,
   "metadata": {},
   "outputs": [
    {
     "name": "stdout",
     "output_type": "stream",
     "text": [
      "Pair(3, 4)\n"
     ]
    }
   ],
   "source": [
    "print(repr(p))"
   ]
  }
 ],
 "metadata": {
  "kernelspec": {
   "display_name": "Python 3",
   "language": "python",
   "name": "python3"
  },
  "language_info": {
   "codemirror_mode": {
    "name": "ipython",
    "version": 3
   },
   "file_extension": ".py",
   "mimetype": "text/x-python",
   "name": "python",
   "nbconvert_exporter": "python",
   "pygments_lexer": "ipython3",
   "version": "3.11.2"
  }
 },
 "nbformat": 4,
 "nbformat_minor": 2
}
