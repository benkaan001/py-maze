{
 "cells": [
  {
   "cell_type": "markdown",
   "metadata": {},
   "source": [
    "Transforming and reducing data at the same time involves performing both data transformation and reduction operations in a single process or function. This is a common scenario in data processing and analysis, where you want to modify the data while aggregating or summarizing it.\n",
    "\n",
    "Here are some general steps and approaches to achieve this:\n",
    "\n",
    "1. **Iterate and Process Data**: Iterate over the data you have and process it, applying the necessary transformations.\n",
    "\n",
    "2. **Perform Reduction Operations**: During the iteration or after processing each element, perform the reduction operations to aggregate or summarize the data as needed.\n",
    "\n",
    "3. **Update State Variables**: Maintain state variables to keep track of the aggregate values while iterating. Update these variables as you process and transform each element.\n",
    "\n",
    "4. **Finalize the Result**: Once the iteration is complete, the state variables hold the final aggregated or reduced result after the transformations.\n",
    "\n",
    "Here's a simple example in Python to demonstrate this concept. Let's say we have a list of numbers, and we want to transform each number by squaring it and compute the sum of the squares simultaneously:\n",
    "\n",
    "```python\n",
    "numbers = [1, 2, 3, 4, 5]\n",
    "\n",
    "# Initialize state variables\n",
    "sum_of_squares = 0\n",
    "\n",
    "# Iterate, transform, and reduce simultaneously\n",
    "for num in numbers:\n",
    "    # Transform: Square the number\n",
    "    squared_num = num ** 2\n",
    "    \n",
    "    # Update state variables: Accumulate the sum of squares\n",
    "    sum_of_squares += squared_num\n",
    "\n",
    "# Final result after transforming and reducing\n",
    "print(\"Sum of squares:\", sum_of_squares)  # Output: Sum of squares: 55\n",
    "```"
   ]
  },
  {
   "cell_type": "markdown",
   "metadata": {},
   "source": [
    "## Example 1"
   ]
  },
  {
   "cell_type": "code",
   "execution_count": 2,
   "metadata": {},
   "outputs": [
    {
     "name": "stdout",
     "output_type": "stream",
     "text": [
      "Sorry, no python.\n"
     ]
    }
   ],
   "source": [
    "import os \n",
    "\n",
    "# List all the files and directories in the user's home directory.\n",
    "files = os.listdir(os.path.expanduser('~'))\n",
    "if any(name.endswith('.py') for name in files):\n",
    "    print('There be python!')\n",
    "else:\n",
    "    print('Sorry, no python.')"
   ]
  },
  {
   "cell_type": "markdown",
   "metadata": {},
   "source": [
    "## Any\n",
    "\n",
    "In Python, `any` is a built-in function that takes an iterable (like a list, tuple, or generator expression) as an argument and returns `True` if at least one element in the iterable is `True`, and `False` otherwise.\n",
    "\n",
    "When you use `any` with a generator expression, you're creating a generator expression within the `any` function. Here's how this works:\n",
    "\n",
    "1. **Generator Expression**:\n",
    "   A generator expression is similar to a list comprehension but creates an iterable generator instead of constructing a list in memory. It has a syntax similar to list comprehension but with parentheses `()` instead of square brackets `[]`.\n",
    "\n",
    "   For example, this is a generator expression:\n",
    "   ```python\n",
    "   (name.endswith('.py') for name in files)\n",
    "   ```\n",
    "\n",
    "   It's similar to a list comprehension but doesn't generate the entire list in memory at once. Instead, it generates elements one by one as needed.\n",
    "\n",
    "2. **`any` Function**:\n",
    "   The `any` function takes an iterable as its argument. In this case, the iterable is the generator expression `(name.endswith('.py') for name in files)`. It processes elements from this generator one by one.\n",
    "\n",
    "   `any` returns `True` if at least one element in the generator is `True`, and `False` if all elements are `False`.\n",
    "\n",
    "So, when you use `any` with a generator expression, you're creating a generator that generates the results of `name.endswith('.py')` for each `name` in `files`, and `any` processes these values one by one, returning `True` if any of them is `True`.\n",
    "\n",
    "The advantage of using a generator expression with `any` is that it doesn't create a list in memory for all the results; it generates and processes elements lazily, making it memory-efficient, especially with large iterables."
   ]
  },
  {
   "cell_type": "markdown",
   "metadata": {},
   "source": [
    "## Output a tuple as CSV"
   ]
  },
  {
   "cell_type": "code",
   "execution_count": 4,
   "metadata": {},
   "outputs": [
    {
     "name": "stdout",
     "output_type": "stream",
     "text": [
      "ACME,50,123.45\n"
     ]
    }
   ],
   "source": [
    "s = ('ACME', 50, 123.45)\n",
    "print(','.join(str(x) for x in s))"
   ]
  },
  {
   "cell_type": "markdown",
   "metadata": {},
   "source": [
    "## Data reduction accross fields of a data structure"
   ]
  },
  {
   "cell_type": "code",
   "execution_count": 5,
   "metadata": {},
   "outputs": [
    {
     "data": {
      "text/plain": [
       "20"
      ]
     },
     "execution_count": 5,
     "metadata": {},
     "output_type": "execute_result"
    }
   ],
   "source": [
    "portfolio = [\n",
    "   {'name':'GOOG', 'shares': 50},\n",
    "   {'name':'YHOO', 'shares': 75},\n",
    "   {'name':'AOL', 'shares': 20},\n",
    "   {'name':'SCOX', 'shares': 65}\n",
    "]\n",
    "\n",
    "min_shares = min(s['shares'] for s in portfolio)\n",
    "min_shares"
   ]
  }
 ],
 "metadata": {
  "kernelspec": {
   "display_name": "Python 3",
   "language": "python",
   "name": "python3"
  },
  "language_info": {
   "codemirror_mode": {
    "name": "ipython",
    "version": 3
   },
   "file_extension": ".py",
   "mimetype": "text/x-python",
   "name": "python",
   "nbconvert_exporter": "python",
   "pygments_lexer": "ipython3",
   "version": "3.11.2"
  },
  "orig_nbformat": 4
 },
 "nbformat": 4,
 "nbformat_minor": 2
}
