{
 "cells": [
  {
   "cell_type": "markdown",
   "metadata": {},
   "source": [
    "# Normalizing Text"
   ]
  },
  {
   "cell_type": "markdown",
   "metadata": {},
   "source": [
    "## Definition"
   ]
  },
  {
   "cell_type": "markdown",
   "metadata": {},
   "source": [
    "Normalizing text typically refers to the process of converting text into a standardized or canonical form. This can include:\n",
    "\n",
    "1. **Lowercasing**:\n",
    "   - Convert all characters in the text to lowercase or uppercase, depending on your normalization requirements. This helps in standardizing the case of the text.\n",
    "\n",
    "2. **Removing Accents and Diacritics**:\n",
    "   - Remove accents and diacritical marks from characters to simplify text representation. The `unicodedata` module can be useful for this task.\n",
    "\n",
    "3. **Expanding Contractions**:\n",
    "   - If needed, expand contractions to their full forms (e.g., \"can't\" to \"cannot\").\n",
    "\n",
    "4. **Removing Special Characters**:\n",
    "   - Remove or replace special characters, punctuation, or unwanted symbols as per the text normalization requirements.\n",
    "\n",
    "5. **Whitespace Normalization**:\n",
    "   - Normalize whitespace, such as converting multiple spaces to a single space or removing leading/trailing spaces.\n"
   ]
  },
  {
   "cell_type": "markdown",
   "metadata": {},
   "source": [
    "## Example"
   ]
  },
  {
   "cell_type": "code",
   "execution_count": 1,
   "metadata": {},
   "outputs": [
    {
     "name": "stdout",
     "output_type": "stream",
     "text": [
      "Help on built-in function normalize in module unicodedata:\n",
      "\n",
      "normalize(form, unistr, /)\n",
      "    Return the normal form 'form' for the Unicode string unistr.\n",
      "    \n",
      "    Valid values for form are 'NFC', 'NFKC', 'NFD', and 'NFKD'.\n",
      "\n"
     ]
    }
   ],
   "source": [
    "import unicodedata\n",
    "help(unicodedata.normalize)"
   ]
  },
  {
   "cell_type": "code",
   "execution_count": 2,
   "metadata": {},
   "outputs": [],
   "source": [
    "text = \"Thís ís a téxt wîth uneven     white   spaces       and \\\n",
    "    spëcial chàractèrs and WeIrd special Čharacte%%%%&&&&rs^#####\""
   ]
  },
  {
   "cell_type": "markdown",
   "metadata": {},
   "source": [
    "### Lowercasing"
   ]
  },
  {
   "cell_type": "code",
   "execution_count": 3,
   "metadata": {},
   "outputs": [
    {
     "data": {
      "text/plain": [
       "'thís ís a téxt wîth uneven     white   spaces       and     spëcial chàractèrs and weird special čharacte%%%%&&&&rs^#####'"
      ]
     },
     "execution_count": 3,
     "metadata": {},
     "output_type": "execute_result"
    }
   ],
   "source": [
    "text = text.lower()\n",
    "text "
   ]
  },
  {
   "cell_type": "markdown",
   "metadata": {},
   "source": [
    "### Removing accents and diacritics"
   ]
  },
  {
   "cell_type": "markdown",
   "metadata": {},
   "source": [
    "In Unicode, some characters, known as *`combining characters,`* do not represent individual characters on their own. Instead, they modify the preceding character in a string, often providing accents, diacritics, or other modifications to the character before them. \n",
    "\n",
    "The funciton *`unicodedata.combining(char)`* determines if the given character is a combining character or not."
   ]
  },
  {
   "cell_type": "code",
   "execution_count": 4,
   "metadata": {},
   "outputs": [
    {
     "name": "stdout",
     "output_type": "stream",
     "text": [
      "character: a is a combining character: False\n",
      "character: á is a combining character: False\n",
      "character: ˆ is a combining character: False\n",
      "character: 1 is a combining character: False\n",
      "character: ̈ is a combining character: True\n"
     ]
    }
   ],
   "source": [
    "characters = ['a', 'á', 'ˆ', '1', '̈']  # Some example characters\n",
    "\n",
    "for char in characters:\n",
    "    is_combining = unicodedata.combining(char)\n",
    "    print(f\"character: {char} is a combining character: {bool(is_combining)}\")"
   ]
  },
  {
   "cell_type": "code",
   "execution_count": 5,
   "metadata": {},
   "outputs": [
    {
     "data": {
      "text/plain": [
       "'this is a text with uneven     white   spaces       and     special characters and weird special characte%%%%&&&&rs^#####'"
      ]
     },
     "execution_count": 5,
     "metadata": {},
     "output_type": "execute_result"
    }
   ],
   "source": [
    "# Normalization Form KC(NFKD) decomposes chracters into their base and diacritic parts.\n",
    "# For instance, it separates accented characters inot their base character and the diacritical mark.\n",
    "text = ''.join(char for char in unicodedata.normalize('NFKD', text)\\\n",
    "        if not unicodedata.combining(char))\n",
    "\n",
    "text"
   ]
  },
  {
   "cell_type": "markdown",
   "metadata": {},
   "source": [
    "### Removing special characters and punctuations"
   ]
  },
  {
   "cell_type": "code",
   "execution_count": 6,
   "metadata": {},
   "outputs": [
    {
     "data": {
      "text/plain": [
       "'this is a text with uneven     white   spaces       and     special characters and weird special characters'"
      ]
     },
     "execution_count": 6,
     "metadata": {},
     "output_type": "execute_result"
    }
   ],
   "source": [
    "text = ''.join(char for char in text if char.isalnum() or char.isspace())\n",
    "text "
   ]
  },
  {
   "cell_type": "markdown",
   "metadata": {},
   "source": [
    "### Whitespace Normalization"
   ]
  },
  {
   "cell_type": "code",
   "execution_count": 7,
   "metadata": {},
   "outputs": [
    {
     "data": {
      "text/plain": [
       "'this is a text with uneven white spaces and special characters and weird special characters'"
      ]
     },
     "execution_count": 7,
     "metadata": {},
     "output_type": "execute_result"
    }
   ],
   "source": [
    "text = ' '.join(text.split())\n",
    "text"
   ]
  },
  {
   "cell_type": "markdown",
   "metadata": {},
   "source": [
    "## Example of Unicode Normalization"
   ]
  },
  {
   "cell_type": "markdown",
   "metadata": {},
   "source": [
    "### Print out the texts, which usually look identical"
   ]
  },
  {
   "cell_type": "code",
   "execution_count": 8,
   "metadata": {},
   "outputs": [
    {
     "data": {
      "text/plain": [
       "'Spicy Jalapeño'"
      ]
     },
     "execution_count": 8,
     "metadata": {},
     "output_type": "execute_result"
    }
   ],
   "source": [
    "s1 = 'Spicy Jalape\\u00f1o'\n",
    "s1"
   ]
  },
  {
   "cell_type": "code",
   "execution_count": 9,
   "metadata": {},
   "outputs": [
    {
     "data": {
      "text/plain": [
       "'Spicy Jalapeño'"
      ]
     },
     "execution_count": 9,
     "metadata": {},
     "output_type": "execute_result"
    }
   ],
   "source": [
    "s2 = 'Spicy Jalapen\\u0303o'\n",
    "s2"
   ]
  },
  {
   "cell_type": "markdown",
   "metadata": {},
   "source": [
    "### Exemine equality and length"
   ]
  },
  {
   "cell_type": "code",
   "execution_count": 10,
   "metadata": {},
   "outputs": [
    {
     "data": {
      "text/plain": [
       "False"
      ]
     },
     "execution_count": 10,
     "metadata": {},
     "output_type": "execute_result"
    }
   ],
   "source": [
    "s1 == s2"
   ]
  },
  {
   "cell_type": "code",
   "execution_count": 11,
   "metadata": {},
   "outputs": [
    {
     "name": "stdout",
     "output_type": "stream",
     "text": [
      "len(s1) = 14 vs len(s2) = 15\n"
     ]
    }
   ],
   "source": [
    "print(f\"{len(s1) = } vs {len(s2) = }\")"
   ]
  },
  {
   "cell_type": "markdown",
   "metadata": {},
   "source": [
    "### Normalize and try the same experiment"
   ]
  },
  {
   "cell_type": "code",
   "execution_count": 12,
   "metadata": {},
   "outputs": [
    {
     "data": {
      "text/plain": [
       "'Spicy Jalapeño'"
      ]
     },
     "execution_count": 12,
     "metadata": {},
     "output_type": "execute_result"
    }
   ],
   "source": [
    "n_s1 = unicodedata.normalize('NFC', s1)\n",
    "n_s1"
   ]
  },
  {
   "cell_type": "code",
   "execution_count": 13,
   "metadata": {},
   "outputs": [
    {
     "data": {
      "text/plain": [
       "'Spicy Jalapeño'"
      ]
     },
     "execution_count": 13,
     "metadata": {},
     "output_type": "execute_result"
    }
   ],
   "source": [
    "n_s2 = unicodedata.normalize('NFC', s2)\n",
    "n_s2"
   ]
  },
  {
   "cell_type": "code",
   "execution_count": 14,
   "metadata": {},
   "outputs": [
    {
     "data": {
      "text/plain": [
       "True"
      ]
     },
     "execution_count": 14,
     "metadata": {},
     "output_type": "execute_result"
    }
   ],
   "source": [
    "n_s1 == n_s2"
   ]
  },
  {
   "cell_type": "code",
   "execution_count": 15,
   "metadata": {},
   "outputs": [
    {
     "name": "stdout",
     "output_type": "stream",
     "text": [
      "len(n_s1) = 14 vs len(n_s2) = 14\n"
     ]
    }
   ],
   "source": [
    "print(f\"{len(n_s1) = } vs {len(n_s2) = }\")"
   ]
  },
  {
   "cell_type": "markdown",
   "metadata": {},
   "source": [
    "### Normalize to a decomposed form and strip accents"
   ]
  },
  {
   "cell_type": "code",
   "execution_count": 16,
   "metadata": {},
   "outputs": [
    {
     "data": {
      "text/plain": [
       "'Spicy Jalapeño'"
      ]
     },
     "execution_count": 16,
     "metadata": {},
     "output_type": "execute_result"
    }
   ],
   "source": [
    "t1 = unicodedata.normalize('NFD', s1)\n",
    "t1"
   ]
  },
  {
   "cell_type": "code",
   "execution_count": 17,
   "metadata": {},
   "outputs": [
    {
     "data": {
      "text/plain": [
       "'Spicy Jalapeno'"
      ]
     },
     "execution_count": 17,
     "metadata": {},
     "output_type": "execute_result"
    }
   ],
   "source": [
    "''.join(char for char in t1 if not unicodedata.combining(char))"
   ]
  }
 ],
 "metadata": {
  "kernelspec": {
   "display_name": "Python 3",
   "language": "python",
   "name": "python3"
  },
  "language_info": {
   "codemirror_mode": {
    "name": "ipython",
    "version": 3
   },
   "file_extension": ".py",
   "mimetype": "text/x-python",
   "name": "python",
   "nbconvert_exporter": "python",
   "pygments_lexer": "ipython3",
   "version": "3.11.2"
  },
  "orig_nbformat": 4
 },
 "nbformat": 4,
 "nbformat_minor": 2
}
