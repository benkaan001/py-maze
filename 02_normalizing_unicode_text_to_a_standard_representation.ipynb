{
 "cells": [
  {
   "cell_type": "markdown",
   "metadata": {},
   "source": [
    "# Normalizing Text"
   ]
  },
  {
   "cell_type": "markdown",
   "metadata": {},
   "source": [
    "## Definition"
   ]
  },
  {
   "cell_type": "markdown",
   "metadata": {},
   "source": [
    "Normalizing text typically refers to the process of converting text into a standardized or canonical form. This can include:\n",
    "\n",
    "1. **Lowercasing**:\n",
    "   - Convert all characters in the text to lowercase or uppercase, depending on your normalization requirements. This helps in standardizing the case of the text.\n",
    "\n",
    "2. **Removing Accents and Diacritics**:\n",
    "   - Remove accents and diacritical marks from characters to simplify text representation. The `unicodedata` module can be useful for this task.\n",
    "\n",
    "3. **Expanding Contractions**:\n",
    "   - If needed, expand contractions to their full forms (e.g., \"can't\" to \"cannot\").\n",
    "\n",
    "4. **Removing Special Characters**:\n",
    "   - Remove or replace special characters, punctuation, or unwanted symbols as per the text normalization requirements.\n",
    "\n",
    "5. **Whitespace Normalization**:\n",
    "   - Normalize whitespace, such as converting multiple spaces to a single space or removing leading/trailing spaces.\n"
   ]
  },
  {
   "cell_type": "markdown",
   "metadata": {},
   "source": [
    "## Example"
   ]
  },
  {
   "cell_type": "code",
   "execution_count": 1,
   "metadata": {},
   "outputs": [
    {
     "name": "stdout",
     "output_type": "stream",
     "text": [
      "Help on built-in function normalize in module unicodedata:\n",
      "\n",
      "normalize(form, unistr, /)\n",
      "    Return the normal form 'form' for the Unicode string unistr.\n",
      "    \n",
      "    Valid values for form are 'NFC', 'NFKC', 'NFD', and 'NFKD'.\n",
      "\n"
     ]
    }
   ],
   "source": [
    "import unicodedata\n",
    "help(unicodedata.normalize)"
   ]
  },
  {
   "cell_type": "code",
   "execution_count": 2,
   "metadata": {},
   "outputs": [],
   "source": [
    "text = \"Thís ís a téxt wîth uneven     white   spaces       and \\\n",
    "    spëcial chàractèrs and WeIrd special Čharacte%%%%&&&&rs^#####\""
   ]
  },
  {
   "cell_type": "markdown",
   "metadata": {},
   "source": [
    "### Lowercasing"
   ]
  },
  {
   "cell_type": "code",
   "execution_count": 3,
   "metadata": {},
   "outputs": [
    {
     "data": {
      "text/plain": [
       "'thís ís a téxt wîth uneven     white   spaces       and     spëcial chàractèrs and weird special čharacte%%%%&&&&rs^#####'"
      ]
     },
     "execution_count": 3,
     "metadata": {},
     "output_type": "execute_result"
    }
   ],
   "source": [
    "text = text.lower()\n",
    "text "
   ]
  },
  {
   "cell_type": "markdown",
   "metadata": {},
   "source": [
    "### Removing accents and diacritics"
   ]
  },
  {
   "cell_type": "markdown",
   "metadata": {},
   "source": [
    "In Unicode, some characters, known as *`combining characters,`* do not represent individual characters on their own. Instead, they modify the preceding character in a string, often providing accents, diacritics, or other modifications to the character before them. \n",
    "\n",
    "The funciton *`unicodedata.combining(char)`* determines if the given character is a combining character or not."
   ]
  },
  {
   "cell_type": "code",
   "execution_count": 4,
   "metadata": {},
   "outputs": [
    {
     "name": "stdout",
     "output_type": "stream",
     "text": [
      "character: a is a combining character: False\n",
      "character: á is a combining character: False\n",
      "character: ˆ is a combining character: False\n",
      "character: 1 is a combining character: False\n",
      "character: ̈ is a combining character: True\n"
     ]
    }
   ],
   "source": [
    "characters = ['a', 'á', 'ˆ', '1', '̈']  # Some example characters\n",
    "\n",
    "for char in characters:\n",
    "    is_combining = unicodedata.combining(char)\n",
    "    print(f\"character: {char} is a combining character: {bool(is_combining)}\")"
   ]
  },
  {
   "cell_type": "code",
   "execution_count": 5,
   "metadata": {},
   "outputs": [
    {
     "data": {
      "text/plain": [
       "'this is a text with uneven     white   spaces       and     special characters and weird special characte%%%%&&&&rs^#####'"
      ]
     },
     "execution_count": 5,
     "metadata": {},
     "output_type": "execute_result"
    }
   ],
   "source": [
    "# Normalization Form KC(NFKD) decomposes chracters into their base and diacritic parts.\n",
    "# For instance, it separates accented characters inot their base character and the diacritical mark.\n",
    "text = ''.join(char for char in unicodedata.normalize('NFKD', text)\\\n",
    "        if not unicodedata.combining(char))\n",
    "\n",
    "text"
   ]
  },
  {
   "cell_type": "markdown",
   "metadata": {},
   "source": [
    "### Removing special characters and punctuations"
   ]
  },
  {
   "cell_type": "code",
   "execution_count": 6,
   "metadata": {},
   "outputs": [
    {
     "data": {
      "text/plain": [
       "'this is a text with uneven     white   spaces       and     special characters and weird special characters'"
      ]
     },
     "execution_count": 6,
     "metadata": {},
     "output_type": "execute_result"
    }
   ],
   "source": [
    "text = ''.join(char for char in text if char.isalnum() or char.isspace())\n",
    "text "
   ]
  },
  {
   "cell_type": "markdown",
   "metadata": {},
   "source": [
    "### Whitespace Normalization"
   ]
  },
  {
   "cell_type": "code",
   "execution_count": 7,
   "metadata": {},
   "outputs": [
    {
     "data": {
      "text/plain": [
       "'this is a text with uneven white spaces and special characters and weird special characters'"
      ]
     },
     "execution_count": 7,
     "metadata": {},
     "output_type": "execute_result"
    }
   ],
   "source": [
    "text = ' '.join(text.split())\n",
    "text"
   ]
  }
 ],
 "metadata": {
  "kernelspec": {
   "display_name": "Python 3",
   "language": "python",
   "name": "python3"
  },
  "language_info": {
   "codemirror_mode": {
    "name": "ipython",
    "version": 3
   },
   "file_extension": ".py",
   "mimetype": "text/x-python",
   "name": "python",
   "nbconvert_exporter": "python",
   "pygments_lexer": "ipython3",
   "version": "3.11.2"
  },
  "orig_nbformat": 4
 },
 "nbformat": 4,
 "nbformat_minor": 2
}
