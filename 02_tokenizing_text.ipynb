{
 "cells": [
  {
   "cell_type": "code",
   "execution_count": 1,
   "metadata": {},
   "outputs": [],
   "source": [
    "import re \n",
    "from collections import namedtuple"
   ]
  },
  {
   "cell_type": "markdown",
   "metadata": {},
   "source": [
    "# NamedTuple"
   ]
  },
  {
   "cell_type": "markdown",
   "metadata": {},
   "source": [
    "## Definition\n",
    "- #### **`namedtuple`** is factory funciton that creates a subclass of **`tuple`** with named fields. It creates tuple-like objects with named attributes, providing a more readable and self-explanatory way to store and access data. "
   ]
  },
  {
   "cell_type": "code",
   "execution_count": 2,
   "metadata": {},
   "outputs": [
    {
     "data": {
      "text/plain": [
       "'06-15-2024'"
      ]
     },
     "execution_count": 2,
     "metadata": {},
     "output_type": "execute_result"
    }
   ],
   "source": [
    "# Define a named tuple 'Trip' with fields 'date' and 'cost'\n",
    "Trip = namedtuple('Trip', ['date', 'cost'])\n",
    "\n",
    "# Create an instance of Trip\n",
    "summer_trip = Trip('06-15-2024', '5000')\n",
    "\n",
    "# Access the fields by name \n",
    "summer_trip.date"
   ]
  },
  {
   "cell_type": "code",
   "execution_count": 3,
   "metadata": {},
   "outputs": [
    {
     "data": {
      "text/plain": [
       "'5000'"
      ]
     },
     "execution_count": 3,
     "metadata": {},
     "output_type": "execute_result"
    }
   ],
   "source": [
    "# Access fields by index (like regular tuple)\n",
    "summer_trip[1]"
   ]
  },
  {
   "cell_type": "markdown",
   "metadata": {},
   "source": [
    "## Use Case #1\n",
    "- #### Storing records in a more structured way."
   ]
  },
  {
   "cell_type": "code",
   "execution_count": 4,
   "metadata": {},
   "outputs": [
    {
     "name": "stdout",
     "output_type": "stream",
     "text": [
      "Employee ID: i99999, Name: Veera, Position: Business Intelligence \n"
     ]
    }
   ],
   "source": [
    "Employee = namedtuple('Employee', ['name', 'id', 'department'])\n",
    "\n",
    "employee = Employee(name='Veera', id='i99999', department='Business Intelligence')\n",
    "\n",
    "print(f\"Employee ID: {employee.id}, Name: {employee.name}, Position: {employee.department} \")"
   ]
  },
  {
   "cell_type": "markdown",
   "metadata": {},
   "source": [
    "## Use Case #2\n",
    "- #### Storing Configuration Settings"
   ]
  },
  {
   "cell_type": "code",
   "execution_count": 5,
   "metadata": {},
   "outputs": [
    {
     "data": {
      "text/plain": [
       "True"
      ]
     },
     "execution_count": 5,
     "metadata": {},
     "output_type": "execute_result"
    }
   ],
   "source": [
    "Config = namedtuple('Config', ['host_url', 'secret_key'])\n",
    "\n",
    "odbc_connection = Config('db2-dev1-gibberish', 'dev-secret-key')\n",
    "oracle_connection = Config('oracle-dev1-gibberish', 'dev-secret-key')\n",
    "\n",
    "odbc_connection.secret_key == oracle_connection.secret_key"
   ]
  },
  {
   "cell_type": "markdown",
   "metadata": {},
   "source": [
    "# Tokenization Steps"
   ]
  },
  {
   "cell_type": "markdown",
   "metadata": {},
   "source": [
    "1. **Regular Expression Patterns**:\n",
    "   - `NAME`, `NUM`, `PLUS`, `TIMES`, `EQ`, and `WS` are regular expression patterns using named capturing groups. These patterns are used to match specific types of tokens in the input.\n",
    "\n",
    "   a. **`NAME`**:\n",
    "      - `(?P<NAME>[a-zA-Z_][a-zA-Z_0-9]*)`\n",
    "      - Explanation:\n",
    "        - `(?P<NAME>...)` defines a named capturing group named \"NAME\".\n",
    "        - `[a-zA-Z_]` matches a single uppercase or lowercase letter or underscore.\n",
    "        - `[a-zA-Z_0-9]*` matches zero or more occurrences of letters, digits, or underscores after the first character.\n",
    "        - This pattern matches variable names following Python's identifier rules.\n",
    "\n",
    "   b. **`NUM`**:\n",
    "      - `(?P<NUM>\\d+)`\n",
    "      - Explanation:\n",
    "        - `(?P<NUM>...)` defines a named capturing group named \"NUM\".\n",
    "        - `\\d` matches a digit (0-9).\n",
    "        - `+` matches one or more occurrences of the preceding digit pattern.\n",
    "        - This pattern matches integers (numeric values).\n",
    "\n",
    "   c. **`PLUS`**:\n",
    "      - `(?P<PLUS>\\+)`\n",
    "      - Explanation:\n",
    "        - `(?P<PLUS>...)` defines a named capturing group named \"PLUS\".\n",
    "        - `\\+` matches the plus symbol (`+`).\n",
    "\n",
    "   d. **`TIMES`**:\n",
    "      - `(?P<TIMES>\\*)`\n",
    "      - Explanation:\n",
    "        - `(?P<TIMES>...)` defines a named capturing group named \"TIMES\".\n",
    "        - `\\*` matches the asterisk symbol (`*`).\n",
    "\n",
    "   e. **`EQ`**:\n",
    "      - `(?P<EQ>=)`\n",
    "      - Explanation:\n",
    "        - `(?P<EQ>...)` defines a named capturing group named \"EQ\".\n",
    "        - `=` matches the equal symbol (`=`).\n",
    "\n",
    "   f. **`WS`**:\n",
    "      - `(?P<WS>\\s+)`\n",
    "      - Explanation:\n",
    "        - `(?P<WS>...)` defines a named capturing group named \"WS\".\n",
    "        - `\\s` matches any whitespace character (space, tab, newline).\n",
    "        - `+` matches one or more occurrences of the preceding whitespace pattern.\n",
    "        - This pattern matches whitespace."
   ]
  },
  {
   "cell_type": "code",
   "execution_count": 6,
   "metadata": {},
   "outputs": [],
   "source": [
    "NAME = r'(?P<NAME>[a-zA-Z_][a-zA-Z_0-9]*)'\n",
    "NUM = r'(?P<NUM>\\d+)'\n",
    "PLUS = r'(?P<PLUS>\\+)'\n",
    "TIMES = r'(?P<TIMES>\\*)'\n",
    "EQ = r'(?P<EQ>=)'\n",
    "WS = r'(?P<WS>\\s+)'"
   ]
  },
  {
   "cell_type": "markdown",
   "metadata": {},
   "source": [
    "2. **Master Pattern**:\n",
    "   - `master_pattern` is a master regular expression pattern that combines all the individual patterns using the `|` (alternation) operator. This pattern is used to match any of the individual patterns."
   ]
  },
  {
   "cell_type": "code",
   "execution_count": 7,
   "metadata": {},
   "outputs": [
    {
     "data": {
      "text/plain": [
       "re.compile(r'(?P<NAME>[a-zA-Z_][a-zA-Z_0-9]*)|(?P<NUM>\\d+)|(?P<PLUS>\\+)|(?P<TIMES>\\*)|(?P<EQ>=)|(?P<WS>\\s+)',\n",
       "           re.UNICODE)"
      ]
     },
     "execution_count": 7,
     "metadata": {},
     "output_type": "execute_result"
    }
   ],
   "source": [
    "master_pattern = re.compile('|'.join([NAME, NUM, PLUS, TIMES, EQ, WS]))\n",
    "master_pattern"
   ]
  },
  {
   "cell_type": "markdown",
   "metadata": {},
   "source": [
    "3. **Token Definition**:\n",
    "   - `Token` is a named tuple that defines the structure of a token. Each token has a type (e.g., `NAME`, `NUM`) and a corresponding value (the matched substring)."
   ]
  },
  {
   "cell_type": "code",
   "execution_count": 8,
   "metadata": {},
   "outputs": [],
   "source": [
    "Token = namedtuple('Token', ['type', 'value'])"
   ]
  },
  {
   "cell_type": "markdown",
   "metadata": {},
   "source": [
    "4. **`generate_tokens` Function**:\n",
    "   - The `generate_tokens` function takes a pattern (`pattern`) and a text input (`text`).\n",
    "   - It uses the `scanner` created from the pattern to scan the input text for matches based on the pattern.\n",
    "   - For each match found, it yields a token with the match's type and value."
   ]
  },
  {
   "cell_type": "code",
   "execution_count": 9,
   "metadata": {},
   "outputs": [
    {
     "name": "stdout",
     "output_type": "stream",
     "text": [
      "Token(type='NAME', value='foo')\n",
      "Token(type='WS', value=' ')\n",
      "Token(type='EQ', value='=')\n",
      "Token(type='WS', value=' ')\n",
      "Token(type='NUM', value='42')\n"
     ]
    }
   ],
   "source": [
    "from typing import Generator\n",
    "\n",
    "def generate_tokens(pattern: re.Pattern, text: str) -> Generator[Token, None, None]:\n",
    "    \"\"\"\n",
    "    Tokenizes the input text based on the provided regular expression pattern.\n",
    "\n",
    "    Parameters:\n",
    "    pattern (re.Pattern): The regular expression pattern to match tokens in the text.\n",
    "    text (str): The input text to tokenize.\n",
    "\n",
    "    Yields:\n",
    "    Token: A named tuple representing a token with type and value.\n",
    "\n",
    "    The function iterates through the input text using the provided pattern's scanner.\n",
    "    For each match found, it yields a Token with the match's type (last named group) and value.\n",
    "    \"\"\"\n",
    "    scanner = pattern.scanner(text)\n",
    "    for m in iter(scanner.match, None):\n",
    "        yield Token(m.lastgroup, m.group())\n",
    "\n",
    "\n",
    "for token in generate_tokens(master_pattern, 'foo = 42'):\n",
    "    print(token)"
   ]
  },
  {
   "cell_type": "code",
   "execution_count": 10,
   "metadata": {},
   "outputs": [
    {
     "name": "stdout",
     "output_type": "stream",
     "text": [
      "NAME\n",
      "WS\n",
      "NAME\n",
      "WS\n",
      "NUM\n",
      "TIMES\n",
      "NUM\n",
      "EQ\n",
      "NUM\n"
     ]
    }
   ],
   "source": [
    "sample_text = \"\"\"Why is 5*5=25?\"\"\"\n",
    "for token in generate_tokens(master_pattern, text=sample_text):\n",
    "    print(token.type)"
   ]
  }
 ],
 "metadata": {
  "kernelspec": {
   "display_name": "Python 3",
   "language": "python",
   "name": "python3"
  },
  "language_info": {
   "codemirror_mode": {
    "name": "ipython",
    "version": 3
   },
   "file_extension": ".py",
   "mimetype": "text/x-python",
   "name": "python",
   "nbconvert_exporter": "python",
   "pygments_lexer": "ipython3",
   "version": "3.11.2"
  },
  "orig_nbformat": 4
 },
 "nbformat": 4,
 "nbformat_minor": 2
}
