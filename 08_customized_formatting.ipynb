{
 "cells": [
  {
   "cell_type": "markdown",
   "metadata": {},
   "source": [
    "`format` is a built-in function that allows you to format values and objects using format specifications. You can use it to format objects, such as strings, numbers, and custom objects. "
   ]
  },
  {
   "cell_type": "code",
   "execution_count": 1,
   "metadata": {},
   "outputs": [
    {
     "data": {
      "text/plain": [
       "'This is John and he is 30 years old.'"
      ]
     },
     "execution_count": 1,
     "metadata": {},
     "output_type": "execute_result"
    }
   ],
   "source": [
    "name = 'John'\n",
    "age = 30\n",
    "'This is {} and he is {} years old.'.format(name, age)"
   ]
  },
  {
   "cell_type": "code",
   "execution_count": 2,
   "metadata": {},
   "outputs": [
    {
     "data": {
      "text/plain": [
       "'2023-10-24'"
      ]
     },
     "execution_count": 2,
     "metadata": {},
     "output_type": "execute_result"
    }
   ],
   "source": [
    "_formats = {\n",
    "    'ymd': '{d.year}-{d.month}-{d.day}',\n",
    "    'mdy': '{d.month}/{d.day}/{d.year}',\n",
    "    'dmy': '{d.day}/{d.month}/{d.year}'\n",
    "}\n",
    "\n",
    "class Date:\n",
    "    def __init__(self, year: int, month: int, day:int ) -> None:\n",
    "        self.year = year\n",
    "        self.month = month\n",
    "        self.day = day\n",
    "\n",
    "    def __format__(self, code: str) -> str:\n",
    "        if code == '':\n",
    "            code = 'ymd'\n",
    "        fmt = _formats[code]\n",
    "        return fmt.format(d=self)\n",
    "\n",
    "# Create a Date object\n",
    "today = Date(2023, 10, 24)\n",
    "format(today)"
   ]
  },
  {
   "cell_type": "code",
   "execution_count": 3,
   "metadata": {},
   "outputs": [
    {
     "data": {
      "text/plain": [
       "'24/10/2023'"
      ]
     },
     "execution_count": 3,
     "metadata": {},
     "output_type": "execute_result"
    }
   ],
   "source": [
    "format(today,'dmy')"
   ]
  },
  {
   "cell_type": "code",
   "execution_count": 4,
   "metadata": {},
   "outputs": [
    {
     "data": {
      "text/plain": [
       "'10/24/2023'"
      ]
     },
     "execution_count": 4,
     "metadata": {},
     "output_type": "execute_result"
    }
   ],
   "source": [
    "format(today, 'mdy')"
   ]
  },
  {
   "cell_type": "markdown",
   "metadata": {},
   "source": [
    "1. `_formats` is a dictionary that maps format codes to date formatting strings. Three format codes are defined: 'ymd', 'mdy', and 'dmy', each corresponding to a different date format. \n",
    "\n",
    "2. `class Date:` defines the `Date` class, which is used to represent a date. It has an `__init__` method to initialize the year, month, and day when creating a `Date` object.\n",
    "\n",
    "3. The `__format__` method in the `Date` class allows you to format a date object according to the format code provided. It takes one argument, `code`, which specifies the desired format. If no `code` is provided, it defaults to 'ymd'. The method then uses the `_formats` dictionary to select the appropriate format string and inserts the date's year, month, and day values using the `.format()` method.\n",
    "\n",
    "In this example, you create a `Date` object and then use the `format` function to format it using different format codes. The `__format__` method inside the `Date` class selects the appropriate format string from the `_formats` dictionary based on the provided code, and you get date strings in different formats."
   ]
  }
 ],
 "metadata": {
  "kernelspec": {
   "display_name": "Python 3",
   "language": "python",
   "name": "python3"
  },
  "language_info": {
   "codemirror_mode": {
    "name": "ipython",
    "version": 3
   },
   "file_extension": ".py",
   "mimetype": "text/x-python",
   "name": "python",
   "nbconvert_exporter": "python",
   "pygments_lexer": "ipython3",
   "version": "3.11.2"
  }
 },
 "nbformat": 4,
 "nbformat_minor": 2
}
