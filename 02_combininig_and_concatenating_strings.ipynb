{
 "cells": [
  {
   "cell_type": "markdown",
   "metadata": {},
   "source": [
    "## Example of combining text via generators"
   ]
  },
  {
   "cell_type": "code",
   "execution_count": 1,
   "metadata": {},
   "outputs": [
    {
     "data": {
      "text/plain": [
       "'IsChicagoNotChicago?'"
      ]
     },
     "execution_count": 1,
     "metadata": {},
     "output_type": "execute_result"
    }
   ],
   "source": [
    "\n",
    "def sample():\n",
    "    yield 'Is'\n",
    "    yield 'Chicago'\n",
    "    yield 'Not'\n",
    "    yield 'Chicago?'\n",
    "\n",
    "text = ''.join(sample())\n",
    "text"
   ]
  },
  {
   "cell_type": "markdown",
   "metadata": {},
   "source": [
    "## Redirection of parts to I/O"
   ]
  },
  {
   "cell_type": "markdown",
   "metadata": {},
   "source": [
    "Here's a step-by-step explanation of the code:\n",
    "\n",
    "1. **Generator Function `sample`**:\n",
    "   The `sample` function is a generator that yields four strings: \"Is\", \"Chicago\", \"Not\", and \"Chicago?\".\n",
    "\n",
    "2. **Iteration over the Generator**:\n",
    "   The `for` loop iterates over the values yielded by the `sample` generator. Each iteration assigns the yielded value to the variable `part`.\n",
    "\n",
    "3. **Writing to Standard Output**:\n",
    "   Inside the loop, each value yielded by the generator is written to the standard output using `sys.stdout.write`.\n",
    "\n",
    "The `sys.stdout.write` function is used instead of the `print` function to explicitly write to the standard output."
   ]
  },
  {
   "cell_type": "code",
   "execution_count": 2,
   "metadata": {},
   "outputs": [
    {
     "name": "stdout",
     "output_type": "stream",
     "text": [
      "IsChicagoNotChicago?"
     ]
    }
   ],
   "source": [
    "import sys \n",
    "for part in sample():\n",
    "    sys.stdout.write(part)      "
   ]
  },
  {
   "cell_type": "markdown",
   "metadata": {},
   "source": [
    "## Combination of parts into buffers and larger I/O operations"
   ]
  },
  {
   "cell_type": "markdown",
   "metadata": {},
   "source": [
    "Here's a step-by-step explanation of the code:\n",
    "\n",
    "1. **Generator Function `combine`**:\n",
    "   - `combine` is a generator function that accumulates parts from `source` until the accumulated size exceeds `maxsize`. When the size exceeds `maxsize`, it yields the accumulated parts as a single string and resets the accumulator for the next set of parts.\n",
    "   - This is useful for breaking down a large piece of text or data into manageable chunks for processing.\n",
    "\n",
    "2. **Iteration Over the Generator**:\n",
    "   - A `for` loop iterates over the values yielded by the `combine` generator.\n",
    "   - Each iteration assigns the yielded value (a combined chunk of data) to the variable `part`.\n",
    "\n",
    "3. **Writing to Standard Output**:\n",
    "   - Inside the loop, each combined chunk of data is written to the standard output using `sys.stdout.write`.\n",
    "\n",
    "The `combine` function takes `sample()` function generator as the source and a maximum size of 32768 (32KB). It accumulates the strings from `sample()` until the accumulated size exceeds 32768, and then it yields the accumulated strings as a single chunk."
   ]
  },
  {
   "cell_type": "code",
   "execution_count": 3,
   "metadata": {},
   "outputs": [
    {
     "name": "stdout",
     "output_type": "stream",
     "text": [
      "IsChicagoNotChicago?"
     ]
    }
   ],
   "source": [
    "def combine(source, maxsize):\n",
    "    parts = []\n",
    "    size = 0\n",
    "    for part in source:\n",
    "        parts.append(part)\n",
    "        size += len(part)\n",
    "        if size > maxsize:\n",
    "            yield ''.join(parts)\n",
    "            parts = []\n",
    "            size = 0\n",
    "    yield ''.join(parts)\n",
    "    \n",
    "for part in combine(source=sample(), maxsize=32768):\n",
    "    sys.stdout.write(part)"
   ]
  }
 ],
 "metadata": {
  "kernelspec": {
   "display_name": "Python 3",
   "language": "python",
   "name": "python3"
  },
  "language_info": {
   "codemirror_mode": {
    "name": "ipython",
    "version": 3
   },
   "file_extension": ".py",
   "mimetype": "text/x-python",
   "name": "python",
   "nbconvert_exporter": "python",
   "pygments_lexer": "ipython3",
   "version": "3.11.2"
  },
  "orig_nbformat": 4
 },
 "nbformat": 4,
 "nbformat_minor": 2
}
