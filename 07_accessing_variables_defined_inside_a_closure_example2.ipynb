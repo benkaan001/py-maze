{
 "cells": [
  {
   "cell_type": "markdown",
   "metadata": {},
   "source": [
    "## Example of faking classes with a closure"
   ]
  },
  {
   "cell_type": "code",
   "execution_count": 1,
   "metadata": {},
   "outputs": [],
   "source": [
    "import sys"
   ]
  },
  {
   "cell_type": "code",
   "execution_count": 2,
   "metadata": {},
   "outputs": [
    {
     "name": "stdout",
     "output_type": "stream",
     "text": [
      "Help on built-in function locals in module builtins:\n",
      "\n",
      "locals()\n",
      "    Return a dictionary containing the current scope's local variables.\n",
      "    \n",
      "    NOTE: Whether or not updates to this dictionary will affect name lookups in\n",
      "    the local scope and vice-versa is *implementation dependent* and not\n",
      "    covered by any backwards compatibility guarantees.\n",
      "\n"
     ]
    }
   ],
   "source": [
    "help(locals)"
   ]
  },
  {
   "cell_type": "markdown",
   "metadata": {},
   "source": [
    "This code demonstrates a technique that is a way to simulate a class-like behavior using closures in Python. It allows you to create instances that behave like classes but use closures and functions instead of traditional class-based structures.\n",
    "\n",
    "Let's break down the code and explain each part:\n",
    "\n",
    "1. **`ClosureInstance` class**:\n",
    "   This class is used to create instances that mimic class instances using closures. The `__init__` method takes a dictionary of local variables (`locals`) and updates the instance dictionary with callables (functions) from the local variables. It effectively imports functions from the local scope into the instance.\n",
    "\n",
    "2. **`__len__` method**:\n",
    "   This method is defined to handle the `__len__()` method in the instance. It redirects the `__len__()` call to the `__len__` function provided in the local scope.\n",
    "\n",
    "3. **`Stack` function**:\n",
    "   This function is an example of how to create a \"class-like\" structure using closures. It defines a stack with `push`, `pop`, and `__len__` functions. It then returns an instance created using `ClosureInstance`, which will have these functions as its methods.\n",
    "\n",
    "\n",
    "This code allows you to create instances that behave like objects with methods (`push`, `pop`, `__len__`), but it uses closures and functions instead of a traditional class definition. It's a demonstration of how Python's flexibility allows for creative solutions, even when deviating from the standard class-based paradigm."
   ]
  },
  {
   "cell_type": "code",
   "execution_count": 3,
   "metadata": {},
   "outputs": [],
   "source": [
    "class ClosureInstance:\n",
    "    def __init__(self, locals=None) -> None:\n",
    "        if locals is None:\n",
    "            locals = sys._getframe(1).f_locals\n",
    "\n",
    "        # Update instance dictionary with callables\n",
    "        self.__dict__.update((key,value) for key, value in locals.items()\n",
    "                             if callable(value))\n",
    "\n",
    "    # Redirect special methods\n",
    "    def __len__(self):\n",
    "        return self.__dict__['__len__']()"
   ]
  },
  {
   "cell_type": "code",
   "execution_count": 4,
   "metadata": {},
   "outputs": [],
   "source": [
    "# Example use\n",
    "\n",
    "def Stack():\n",
    "    items = []\n",
    "\n",
    "    def push(item):\n",
    "        items.append(item)\n",
    "\n",
    "    def pop():\n",
    "        return items.pop()\n",
    "\n",
    "    def __len__():\n",
    "        return len(items)\n",
    "\n",
    "    return ClosureInstance()\n"
   ]
  },
  {
   "cell_type": "code",
   "execution_count": 5,
   "metadata": {},
   "outputs": [
    {
     "name": "stdout",
     "output_type": "stream",
     "text": [
      "<__main__.ClosureInstance object at 0x1057cdcd0>\n"
     ]
    }
   ],
   "source": [
    "s = Stack()\n",
    "print(s)"
   ]
  },
  {
   "cell_type": "code",
   "execution_count": 6,
   "metadata": {},
   "outputs": [],
   "source": [
    "s.push(10)\n",
    "s.push(20)\n",
    "s.push('Hello')"
   ]
  },
  {
   "cell_type": "code",
   "execution_count": 7,
   "metadata": {},
   "outputs": [
    {
     "data": {
      "text/plain": [
       "3"
      ]
     },
     "execution_count": 7,
     "metadata": {},
     "output_type": "execute_result"
    }
   ],
   "source": [
    "len(s)"
   ]
  },
  {
   "cell_type": "code",
   "execution_count": 8,
   "metadata": {},
   "outputs": [
    {
     "data": {
      "text/plain": [
       "'Hello'"
      ]
     },
     "execution_count": 8,
     "metadata": {},
     "output_type": "execute_result"
    }
   ],
   "source": [
    "s.pop()"
   ]
  },
  {
   "cell_type": "code",
   "execution_count": 9,
   "metadata": {},
   "outputs": [
    {
     "data": {
      "text/plain": [
       "20"
      ]
     },
     "execution_count": 9,
     "metadata": {},
     "output_type": "execute_result"
    }
   ],
   "source": [
    "s.pop()"
   ]
  },
  {
   "cell_type": "code",
   "execution_count": 10,
   "metadata": {},
   "outputs": [
    {
     "data": {
      "text/plain": [
       "10"
      ]
     },
     "execution_count": 10,
     "metadata": {},
     "output_type": "execute_result"
    }
   ],
   "source": [
    "s.pop()"
   ]
  }
 ],
 "metadata": {
  "kernelspec": {
   "display_name": "Python 3",
   "language": "python",
   "name": "python3"
  },
  "language_info": {
   "codemirror_mode": {
    "name": "ipython",
    "version": 3
   },
   "file_extension": ".py",
   "mimetype": "text/x-python",
   "name": "python",
   "nbconvert_exporter": "python",
   "pygments_lexer": "ipython3",
   "version": "3.11.2"
  }
 },
 "nbformat": 4,
 "nbformat_minor": 2
}
