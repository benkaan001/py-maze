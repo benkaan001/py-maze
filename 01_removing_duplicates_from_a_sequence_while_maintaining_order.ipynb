{
 "cells": [
  {
   "cell_type": "markdown",
   "metadata": {},
   "source": [
    "## Remove duplicate entries from a sequence while keeping order."
   ]
  },
  {
   "cell_type": "code",
   "execution_count": 1,
   "metadata": {},
   "outputs": [],
   "source": [
    "a = [ \n",
    "        {'x': 2, 'y': 3},\n",
    "        {'x': 1, 'y': 4},\n",
    "        {'x': 2, 'y': 3},\n",
    "        {'x': 2, 'y': 3},\n",
    "        {'x': 10, 'y': 15}\n",
    "        ]"
   ]
  },
  {
   "cell_type": "code",
   "execution_count": 2,
   "metadata": {},
   "outputs": [],
   "source": [
    "def dedupe(items, key=None):\n",
    "    seen = set() # initialize and empty set\n",
    "    for item in items: # iterate over each item in the items\n",
    "        val = item if key is None else key(item) # if key is not provided, set the val to item itself\n",
    "        if val not in seen:\n",
    "            yield item \n",
    "            seen.add(val)"
   ]
  },
  {
   "cell_type": "code",
   "execution_count": 3,
   "metadata": {},
   "outputs": [
    {
     "data": {
      "text/plain": [
       "<generator object dedupe at 0x107406d40>"
      ]
     },
     "execution_count": 3,
     "metadata": {},
     "output_type": "execute_result"
    }
   ],
   "source": [
    "dedupe(a, key=lambda a: (a['x'], a['y']))"
   ]
  },
  {
   "cell_type": "code",
   "execution_count": 4,
   "metadata": {},
   "outputs": [
    {
     "data": {
      "text/plain": [
       "[{'x': 2, 'y': 3}, {'x': 1, 'y': 4}, {'x': 10, 'y': 15}]"
      ]
     },
     "execution_count": 4,
     "metadata": {},
     "output_type": "execute_result"
    }
   ],
   "source": [
    "list(dedupe(a, key=lambda a: (a['x'], a['y'])))"
   ]
  },
  {
   "cell_type": "markdown",
   "metadata": {},
   "source": [
    "The `dedupe` function is used to remove duplicates from an iterable while preserving the order of the unique items. This function takes two arguments:\n",
    "\n",
    "1. `items`: This is the iterable (e.g., a list) from which you want to remove duplicates.\n",
    "\n",
    "2. `key` (optional): This is an optional argument that allows you to specify a function that computes a key for each item in the iterable. If provided, the function will use the computed keys to determine duplicates based on these keys. If not provided (default is `None`), it will use the items themselves to check for duplicates.\n",
    "\n",
    "Here's how the code works:\n",
    "\n",
    "1. It initializes an empty set called `seen` to keep track of the unique items.\n",
    "\n",
    "2. It iterates over each item in the `items` iterable.\n",
    "\n",
    "3. Inside the loop, it computes a `val` based on the `key` function. If `key` is not provided (i.e., it's `None`), `val` is set to the item itself. If `key` is provided, it calls the `key` function with the current item, and `val` becomes the result of that function.\n",
    "\n",
    "4. It checks whether `val` is already in the `seen` set. If it's not in the set, it means the item is unique (based on the key or the item itself). In this case, it yields the item, which adds it to the output, and then adds `val` to the `seen` set to mark it as seen.\n",
    "\n",
    "5. The loop continues until all items in the input iterable have been processed, and the function yields unique items while maintaining their original order.\n",
    "\n"
   ]
  },
  {
   "cell_type": "markdown",
   "metadata": {},
   "source": [
    "In this example, `dedupe` is used to remove duplicates from the `data` list, resulting in a list containing only unique values while preserving the original order."
   ]
  },
  {
   "cell_type": "code",
   "execution_count": 5,
   "metadata": {},
   "outputs": [
    {
     "data": {
      "text/plain": [
       "[1, 2, 3, 4, 5, 7]"
      ]
     },
     "execution_count": 5,
     "metadata": {},
     "output_type": "execute_result"
    }
   ],
   "source": [
    "data = [1, 2, 2, 3, 4, 4, 5, 3, 1, 7]\n",
    "list(dedupe(data))"
   ]
  }
 ],
 "metadata": {
  "kernelspec": {
   "display_name": "Python 3",
   "language": "python",
   "name": "python3"
  },
  "language_info": {
   "codemirror_mode": {
    "name": "ipython",
    "version": 3
   },
   "file_extension": ".py",
   "mimetype": "text/x-python",
   "name": "python",
   "nbconvert_exporter": "python",
   "pygments_lexer": "ipython3",
   "version": "3.11.2"
  },
  "orig_nbformat": 4
 },
 "nbformat": 4,
 "nbformat_minor": 2
}
