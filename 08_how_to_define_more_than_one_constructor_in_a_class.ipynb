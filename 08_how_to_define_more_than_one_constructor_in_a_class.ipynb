{
 "cells": [
  {
   "cell_type": "markdown",
   "metadata": {},
   "source": [
    "`from __future__ import annotations` enables forward declarations for type hints, allowing us to use the name `Date` before it is fully defined. This is optional but can be useful in cases where the class being annotated is used in the type hints within the same module."
   ]
  },
  {
   "cell_type": "code",
   "execution_count": 1,
   "metadata": {},
   "outputs": [],
   "source": [
    "import time\n",
    "from typing import Type\n",
    "from __future__ import annotations  # Enable forward declarations"
   ]
  },
  {
   "cell_type": "markdown",
   "metadata": {},
   "source": [
    "# @classmethod"
   ]
  },
  {
   "cell_type": "markdown",
   "metadata": {},
   "source": [
    "The `@classmethod` decorator is used to define a method that is bound to the class and not the instance of the class. This means that the method can be called on the class itself, rather than on an instance of the class. The primary purpose of class methods is to work with the class and its attributes, rather than with instances.\n",
    "\n",
    "1. **Use Cases:**\n",
    "    - **Alternative Constructors:** Class methods are often used to define alternative constructors for a class. These constructors provide alternative ways to create instances of the class.\n",
    "    - **Accessing Class-Level Attributes:** Class methods can access and modify class-level attributes. They can be used to perform operations that involve the class as a whole."
   ]
  },
  {
   "cell_type": "code",
   "execution_count": 2,
   "metadata": {},
   "outputs": [],
   "source": [
    "class MyClass:\n",
    "    class_variable = 0\n",
    "\n",
    "    def __init__(self, instance_variable: int) -> None:\n",
    "        self.instance_variable = instance_variable\n",
    "\n",
    "    @classmethod\n",
    "    def from_class_variable(cls: Type[MyClass]) -> MyClass:\n",
    "        return cls(cls.class_variable)\n",
    "\n",
    "    @classmethod\n",
    "    def update_class_variable(cls: Type[MyClass], new_value: int) -> None:\n",
    "        cls.class_variable = new_value"
   ]
  },
  {
   "cell_type": "code",
   "execution_count": 3,
   "metadata": {},
   "outputs": [
    {
     "data": {
      "text/plain": [
       "31"
      ]
     },
     "execution_count": 3,
     "metadata": {},
     "output_type": "execute_result"
    }
   ],
   "source": [
    "obj1 = MyClass(31)\n",
    "obj1.instance_variable"
   ]
  },
  {
   "cell_type": "code",
   "execution_count": 4,
   "metadata": {},
   "outputs": [
    {
     "data": {
      "text/plain": [
       "0"
      ]
     },
     "execution_count": 4,
     "metadata": {},
     "output_type": "execute_result"
    }
   ],
   "source": [
    "obj2 = MyClass.from_class_variable()\n",
    "obj2.instance_variable"
   ]
  },
  {
   "cell_type": "code",
   "execution_count": 5,
   "metadata": {},
   "outputs": [
    {
     "data": {
      "text/plain": [
       "100"
      ]
     },
     "execution_count": 5,
     "metadata": {},
     "output_type": "execute_result"
    }
   ],
   "source": [
    "MyClass.update_class_variable(100)\n",
    "obj1.class_variable"
   ]
  },
  {
   "cell_type": "markdown",
   "metadata": {},
   "source": [
    "# Examples"
   ]
  },
  {
   "cell_type": "markdown",
   "metadata": {},
   "source": [
    "### Example 1"
   ]
  },
  {
   "cell_type": "markdown",
   "metadata": {},
   "source": [
    "Let's break down the code:\n",
    "\n",
    "1. **Primary Constructor (`__init__`):**\n",
    "   - The primary constructor initializes a `Date` instance with the provided year, month, and day.\n",
    "\n",
    "2. **Alternate Constructor (`@classmethod today`):**\n",
    "   - The `@classmethod` decorator defines an alternate constructor named `today`.\n",
    "   - The `today` method creates a `Date` instance representing the current date using the `time` module.\n",
    "   - It uses the `time.localtime()` function to get the current local time and then extracts the year, month, and day components to create a `Date` instance.\n",
    "   - The `cls` parameter in the `today` method refers to the class itself, allowing it to create an instance of the class.\n",
    "\n",
    "3. **Inheritance Example:**\n",
    "   - A new class `NewDate` is defined that inherits from the `Date` class.\n",
    "   - An instance `d` of `NewDate` is created using the `today` alternate constructor.\n",
    "   - The classes of instances `b` and `d` are printed to illustrate the difference.\n",
    "\n"
   ]
  },
  {
   "cell_type": "code",
   "execution_count": 6,
   "metadata": {},
   "outputs": [],
   "source": [
    "class Date:\n",
    "    # Primary constructor\n",
    "    def __init__(self, year: int, month: int, day: int) -> None:\n",
    "        self.year = year\n",
    "        self.month = month\n",
    "        self.day = day\n",
    "\n",
    "    # Alternate constructor\n",
    "    @classmethod\n",
    "    def today(cls: Type[Date]) -> Date:\n",
    "        t = time.localtime()\n",
    "        return cls(t.tm_year, t.tm_mon, t.tm_mday)\n"
   ]
  },
  {
   "cell_type": "code",
   "execution_count": 7,
   "metadata": {},
   "outputs": [
    {
     "name": "stdout",
     "output_type": "stream",
     "text": [
      "2023 12 31\n"
     ]
    }
   ],
   "source": [
    "a = Date(2023, 12, 31)\n",
    "print(a.year, a.month, a.day)"
   ]
  },
  {
   "cell_type": "code",
   "execution_count": 8,
   "metadata": {},
   "outputs": [
    {
     "name": "stdout",
     "output_type": "stream",
     "text": [
      "2023 11 24\n"
     ]
    }
   ],
   "source": [
    "b = Date.today()\n",
    "print(b.year, b.month, b.day)"
   ]
  },
  {
   "cell_type": "code",
   "execution_count": 9,
   "metadata": {},
   "outputs": [],
   "source": [
    "class NewDate(Date):\n",
    "    pass"
   ]
  },
  {
   "cell_type": "code",
   "execution_count": 10,
   "metadata": {},
   "outputs": [
    {
     "name": "stdout",
     "output_type": "stream",
     "text": [
      "Should be Date instance: <__main__.Date object at 0x104f95d10>\n"
     ]
    }
   ],
   "source": [
    "c = Date.today()\n",
    "print(f\"Should be Date instance: {c}\")"
   ]
  },
  {
   "cell_type": "code",
   "execution_count": 11,
   "metadata": {},
   "outputs": [
    {
     "name": "stdout",
     "output_type": "stream",
     "text": [
      "Should be NewDate Instance: <__main__.NewDate object at 0x104f96510>\n"
     ]
    }
   ],
   "source": [
    "d = NewDate.today()\n",
    "print(f\"Should be NewDate Instance: {d}\")"
   ]
  },
  {
   "cell_type": "markdown",
   "metadata": {},
   "source": [
    "### Example 2"
   ]
  },
  {
   "cell_type": "markdown",
   "metadata": {},
   "source": [
    "This alternative constructor essentially provides a way to create an instance of the class (`Date` in this context) representing the current date without explicitly passing the year, month, and day as arguments. It uses the class itself (`cls`) to create the instance and then sets the attributes based on the current date.\n",
    "\n",
    "The use of `cls.__new__(cls)` is a way to create an instance without invoking the regular `__init__` method. It's a more low-level approach and is suitable when you want to customize the instance creation process, as is often the case in alternative constructors.\n",
    "\n",
    "1. **`cls.__new__(cls)`:**\n",
    "   - `cls.__new__(cls)` is used to create a new instance of the class without invoking the regular `__init__` method.\n",
    "   - This is an explicit instantiation of the class. It allocates memory for the new instance but does not initialize its attributes.\n",
    "\n",
    "2. **Attribute Assignment:**\n",
    "   - The attributes `year`, `month`, and `day` are assigned based on the components of the current local time obtained from `time.localtime()`.\n",
    "\n",
    "3. **Return Instance:**\n",
    "   - The created instance `d` is returned.\n",
    "\n"
   ]
  },
  {
   "cell_type": "code",
   "execution_count": 12,
   "metadata": {},
   "outputs": [],
   "source": [
    "class Date:\n",
    "    # Primary constructor\n",
    "    def __init__(self, year: int, month: int, day: int) -> None:\n",
    "        self.year = year\n",
    "        self.month = month\n",
    "        self.day = day\n",
    "\n",
    "    # Alternate constructor\n",
    "    @classmethod\n",
    "    def today(cls: Type[Date]) -> Date:\n",
    "        t = time.localtime()\n",
    "        d = cls.__new__(cls)\n",
    "        d.year = t.tm_year\n",
    "        d.month = t.tm_mon\n",
    "        d.day = t.tm_mday\n",
    "        return d"
   ]
  },
  {
   "cell_type": "code",
   "execution_count": 13,
   "metadata": {},
   "outputs": [
    {
     "name": "stdout",
     "output_type": "stream",
     "text": [
      "2023 12 12\n"
     ]
    }
   ],
   "source": [
    "a = Date(2023, 12, 12)\n",
    "print(a.year, a.month, a.day)"
   ]
  },
  {
   "cell_type": "code",
   "execution_count": 14,
   "metadata": {},
   "outputs": [
    {
     "name": "stdout",
     "output_type": "stream",
     "text": [
      "2023 11 24\n"
     ]
    }
   ],
   "source": [
    "b = Date.today()\n",
    "print(b.year, b.month, b.day)"
   ]
  }
 ],
 "metadata": {
  "kernelspec": {
   "display_name": "Python 3",
   "language": "python",
   "name": "python3"
  },
  "language_info": {
   "codemirror_mode": {
    "name": "ipython",
    "version": 3
   },
   "file_extension": ".py",
   "mimetype": "text/x-python",
   "name": "python",
   "nbconvert_exporter": "python",
   "pygments_lexer": "ipython3",
   "version": "3.11.2"
  }
 },
 "nbformat": 4,
 "nbformat_minor": 2
}
