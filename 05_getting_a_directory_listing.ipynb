{
 "cells": [
  {
   "cell_type": "code",
   "execution_count": 1,
   "metadata": {},
   "outputs": [],
   "source": [
    "import os\n",
    "import os.path\n",
    "import glob"
   ]
  },
  {
   "cell_type": "code",
   "execution_count": 3,
   "metadata": {},
   "outputs": [
    {
     "data": {
      "text/plain": [
       "['01_sort_objects_without_native_comparison_support.ipynb',\n",
       " '02_tokenizing_text.ipynb',\n",
       " '02_matching_strings_using_shell_widlcard_patterns.ipynb',\n",
       " '02_combininig_and_concatenating_strings.ipynb',\n",
       " '02_normalizing_unicode_text_to_a_standard_representation.ipynb']"
      ]
     },
     "execution_count": 3,
     "metadata": {},
     "output_type": "execute_result"
    }
   ],
   "source": [
    "ipynb_files = glob.glob('*.ipynb')\n",
    "ipynb_files[:5]"
   ]
  },
  {
   "cell_type": "markdown",
   "metadata": {},
   "source": [
    "## Get file sizes and modification dates"
   ]
  },
  {
   "cell_type": "code",
   "execution_count": 5,
   "metadata": {},
   "outputs": [
    {
     "name": "stdout",
     "output_type": "stream",
     "text": [
      "('01_sort_objects_without_native_comparison_support.ipynb', 9627, 1694663541.2919142)\n",
      "('02_tokenizing_text.ipynb', 9867, 1695483115.1787138)\n",
      "('02_matching_strings_using_shell_widlcard_patterns.ipynb', 6400, 1695099441.2047963)\n"
     ]
    }
   ],
   "source": [
    "name_size_date = [(name, os.path.getsize(name), os.path.getmtime(name)) for name in ipynb_files]\n",
    "for r in name_size_date[:3]:\n",
    "    print(r)"
   ]
  },
  {
   "cell_type": "markdown",
   "metadata": {},
   "source": [
    "## Get file metadata "
   ]
  },
  {
   "cell_type": "code",
   "execution_count": 7,
   "metadata": {},
   "outputs": [
    {
     "data": {
      "text/plain": [
       "('01_sort_objects_without_native_comparison_support.ipynb',\n",
       " os.stat_result(st_mode=33188, st_ino=112524684, st_dev=16777231, st_nlink=1, st_uid=501, st_gid=20, st_size=9627, st_atime=1694663541, st_mtime=1694663541, st_ctime=1694663541))"
      ]
     },
     "execution_count": 7,
     "metadata": {},
     "output_type": "execute_result"
    }
   ],
   "source": [
    "file_metadata = [(name, os.stat(name)) for name in ipynb_files]\n",
    "file_metadata[0]"
   ]
  },
  {
   "cell_type": "code",
   "execution_count": 10,
   "metadata": {},
   "outputs": [
    {
     "name": "stdout",
     "output_type": "stream",
     "text": [
      "name = '01_sort_objects_without_native_comparison_support.ipynb' , \n",
      "\tmeta.st_size = 9627, \n",
      "\tmeta.st_mtime = 1694663541.2919142\n",
      "name = '02_tokenizing_text.ipynb' , \n",
      "\tmeta.st_size = 9867, \n",
      "\tmeta.st_mtime = 1695483115.1787138\n",
      "name = '02_matching_strings_using_shell_widlcard_patterns.ipynb' , \n",
      "\tmeta.st_size = 6400, \n",
      "\tmeta.st_mtime = 1695099441.2047963\n"
     ]
    }
   ],
   "source": [
    "for name, meta in file_metadata[:3]:\n",
    "    print(f\"{name = } , \\n\\t{meta.st_size = }, \\n\\t{meta.st_mtime = }\")"
   ]
  }
 ],
 "metadata": {
  "kernelspec": {
   "display_name": "Python 3",
   "language": "python",
   "name": "python3"
  },
  "language_info": {
   "codemirror_mode": {
    "name": "ipython",
    "version": 3
   },
   "file_extension": ".py",
   "mimetype": "text/x-python",
   "name": "python",
   "nbconvert_exporter": "python",
   "pygments_lexer": "ipython3",
   "version": "3.11.2"
  }
 },
 "nbformat": 4,
 "nbformat_minor": 2
}
