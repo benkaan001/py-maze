{
 "cells": [
  {
   "cell_type": "code",
   "execution_count": 1,
   "metadata": {},
   "outputs": [],
   "source": [
    "from datetime import datetime, timedelta"
   ]
  },
  {
   "cell_type": "markdown",
   "metadata": {},
   "source": [
    "## Timedelta Object\n",
    "\n",
    "Some key aspects of the `timedelta` class and its usage:\n",
    "\n",
    "1. **Creating a `timedelta` Object**:\n",
    "   - You can create a `timedelta` object using the `timedelta` class constructor by specifying the number of days, seconds, and microseconds.\n",
    "   - For example, `timedelta(days=5, hours=3, minutes=30)` creates a `timedelta` representing 5 days, 3 hours, and 30 minutes.\n",
    "\n",
    "2. **Operations with `datetime` Objects**:\n",
    "   - `timedelta` objects can be added to or subtracted from `datetime` objects to calculate a new `datetime` based on the time difference.\n",
    "   - For example, `datetime_object + timedelta(days=3)` calculates a `datetime` that is 3 days after `datetime_object`.\n",
    "\n",
    "3. **Attributes**:\n",
    "   - A `timedelta` object has the following attributes:\n",
    "     - `.days`: The number of days in the duration.\n",
    "     - `.seconds`: The number of seconds in the duration (excluding days).\n",
    "     - `.microseconds`: The number of microseconds in the duration (excluding seconds).\n",
    "\n",
    "4. **Total Seconds**:\n",
    "   - The total number of seconds in the `timedelta` can be obtained using the `.total_seconds()` method.\n",
    "\n",
    "5. **Usage Examples**:\n",
    "   - Calculate a date in the future or past by adding or subtracting a `timedelta`.\n",
    "   - Measure the time it takes for a process to complete.\n"
   ]
  },
  {
   "cell_type": "code",
   "execution_count": 2,
   "metadata": {},
   "outputs": [
    {
     "data": {
      "text/plain": [
       "datetime.datetime(2023, 10, 1, 23, 1, 18, 401812)"
      ]
     },
     "execution_count": 2,
     "metadata": {},
     "output_type": "execute_result"
    }
   ],
   "source": [
    "# Current date and time\n",
    "datetime.now()"
   ]
  },
  {
   "cell_type": "code",
   "execution_count": 3,
   "metadata": {},
   "outputs": [
    {
     "data": {
      "text/plain": [
       "datetime.timedelta(days=5)"
      ]
     },
     "execution_count": 3,
     "metadata": {},
     "output_type": "execute_result"
    }
   ],
   "source": [
    "# Create a timedelta of 5 days\n",
    "five_days_delta = timedelta(days=5)\n",
    "five_days_delta"
   ]
  },
  {
   "cell_type": "code",
   "execution_count": 4,
   "metadata": {},
   "outputs": [
    {
     "data": {
      "text/plain": [
       "datetime.datetime(2023, 10, 6, 23, 1, 18, 411357)"
      ]
     },
     "execution_count": 4,
     "metadata": {},
     "output_type": "execute_result"
    }
   ],
   "source": [
    "# Calculate the date 5 days from now\n",
    "future_date = datetime.now() + five_days_delta\n",
    "future_date\n"
   ]
  },
  {
   "cell_type": "markdown",
   "metadata": {},
   "source": [
    "## Example"
   ]
  },
  {
   "cell_type": "code",
   "execution_count": 5,
   "metadata": {},
   "outputs": [],
   "source": [
    "weekdays = ['Monday', 'Tuesday', 'Wednesday', 'Thursday', 'Friday', 'Saturday', 'Sunday']"
   ]
  },
  {
   "cell_type": "code",
   "execution_count": 6,
   "metadata": {},
   "outputs": [
    {
     "data": {
      "text/plain": [
       "datetime.datetime(2023, 10, 1, 23, 1, 18, 419145)"
      ]
     },
     "execution_count": 6,
     "metadata": {},
     "output_type": "execute_result"
    }
   ],
   "source": [
    "# Calculate today\n",
    "datetime.today()"
   ]
  },
  {
   "cell_type": "code",
   "execution_count": 7,
   "metadata": {},
   "outputs": [
    {
     "data": {
      "text/plain": [
       "6"
      ]
     },
     "execution_count": 7,
     "metadata": {},
     "output_type": "execute_result"
    }
   ],
   "source": [
    "# Get the day of the week. Mon is 0.\n",
    "datetime.today().weekday()"
   ]
  },
  {
   "cell_type": "code",
   "execution_count": 8,
   "metadata": {},
   "outputs": [],
   "source": [
    "def get_previous_byday(dayname: str, start_date: datetime = None) -> datetime:\n",
    "    \"\"\"\n",
    "    Calculate the previous occurrence of a specified day of the week.\n",
    "\n",
    "    Parameters:\n",
    "    - dayname (str): The desired day of the week (e.g., 'Monday', 'Tuesday').\n",
    "    - start_date (datetime, optional): The starting date (default is the current date).\n",
    "\n",
    "    Returns:\n",
    "    - datetime: The most recent date corresponding to the specified day of the week before the start date.\n",
    "    \"\"\"\n",
    "    weekdays = ['Monday', 'Tuesday', 'Wednesday', 'Thursday', 'Friday', 'Saturday', 'Sunday']\n",
    "\n",
    "    if start_date is None:\n",
    "        start_date = datetime.today()\n",
    "\n",
    "    day_num = start_date.weekday()\n",
    "    day_num_target = weekdays.index(dayname)\n",
    "    days_ago = (7 + day_num - day_num_target) % 7\n",
    "\n",
    "    if days_ago == 0:\n",
    "        days_ago = 7\n",
    "\n",
    "    target_date = start_date - timedelta(days=days_ago)\n",
    "    return target_date\n"
   ]
  },
  {
   "cell_type": "code",
   "execution_count": 9,
   "metadata": {},
   "outputs": [
    {
     "data": {
      "text/plain": [
       "datetime.datetime(2023, 9, 30, 23, 1, 18, 432413)"
      ]
     },
     "execution_count": 9,
     "metadata": {},
     "output_type": "execute_result"
    }
   ],
   "source": [
    "get_previous_byday(dayname='Saturday')"
   ]
  }
 ],
 "metadata": {
  "kernelspec": {
   "display_name": "Python 3",
   "language": "python",
   "name": "python3"
  },
  "language_info": {
   "codemirror_mode": {
    "name": "ipython",
    "version": 3
   },
   "file_extension": ".py",
   "mimetype": "text/x-python",
   "name": "python",
   "nbconvert_exporter": "python",
   "pygments_lexer": "ipython3",
   "version": "3.11.2"
  },
  "orig_nbformat": 4
 },
 "nbformat": 4,
 "nbformat_minor": 2
}
