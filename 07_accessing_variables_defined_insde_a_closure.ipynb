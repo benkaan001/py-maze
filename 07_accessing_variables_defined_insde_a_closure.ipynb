{
 "cells": [
  {
   "cell_type": "markdown",
   "metadata": {},
   "source": [
    "Step by step explanation:\n",
    "\n",
    "1. **Defining the `sample` Function**:\n",
    "   - `sample()` is a function that doesn't take any arguments.\n",
    "   - Inside `sample()`, there's a local variable `n` set to `0`.\n",
    "   \n",
    "\n",
    "2. **Defining the `func` Function (Closure)**:\n",
    "   - Inside `sample()`, we define another function named `func`. This is what we call a closure.\n",
    "   - `func` can access and use the `n` variable from the `sample()` function's scope, even after `sample()` has finished executing.\n",
    "\n",
    "3. **Accessor Methods for `n`**:\n",
    "   - Inside `sample()`, we define two functions: `get_n()` and `set_n(value)`.\n",
    "   - `get_n()` returns the current value of `n`.\n",
    "   - `set_n(value)` sets a new value for `n`.\n",
    "\n",
    "4. **Attaching Accessor Methods to the Closure**:\n",
    "   - We attach the `get_n()` and `set_n()` functions to `func` as attributes. This means `func` can now use these functions.\n",
    "\n",
    "5. **Returning the Closure**:\n",
    "   - Finally, `sample()` returns the `func` function, which is a closure. It essentially \"remembers\" the `n` variable even after `sample()` has finished executing.\n",
    "\n",
    "6. **Using the Closure (`func`) and Accessor Methods**:\n",
    "   - We call `sample()` and store the returned function in `f`.\n",
    "   - We call `f()`, which prints the initial value of `n` (which is `0`).\n",
    "   - We call `f.set_n(10)` to set a new value for `n`.\n",
    "   - We call `f()`, which now prints the updated value of `n` (which is `10`).\n",
    "   - We call `f.get_n()`, which prints and returns the current value of `n` (which is `10`).\n",
    "\n",
    "In essence, this code demonstrates how a closure (`func`) can remember and access variables from the scope in which it was created (in this case, `n` from `sample()`), and how you can define accessor methods to interact with those variables."
   ]
  },
  {
   "cell_type": "code",
   "execution_count": 1,
   "metadata": {},
   "outputs": [],
   "source": [
    "def sample():\n",
    "    n = 0\n",
    "    # Closure function\n",
    "    def func():\n",
    "        print(f\"{n = }\")\n",
    "\n",
    "    # Accessor methods for n\n",
    "    def get_n():\n",
    "        return n\n",
    "\n",
    "    def set_n(value):\n",
    "        nonlocal n\n",
    "        n = value\n",
    "\n",
    "    # Attach as function attributes\n",
    "    func.get_n = get_n\n",
    "    func.set_n = set_n\n",
    "    return func"
   ]
  },
  {
   "cell_type": "code",
   "execution_count": 2,
   "metadata": {},
   "outputs": [
    {
     "name": "stdout",
     "output_type": "stream",
     "text": [
      "n = 0\n"
     ]
    }
   ],
   "source": [
    "f = sample()\n",
    "f()"
   ]
  },
  {
   "cell_type": "code",
   "execution_count": 3,
   "metadata": {},
   "outputs": [
    {
     "name": "stdout",
     "output_type": "stream",
     "text": [
      "n = 10\n"
     ]
    }
   ],
   "source": [
    "f.set_n(10)\n",
    "f()"
   ]
  },
  {
   "cell_type": "code",
   "execution_count": 4,
   "metadata": {},
   "outputs": [
    {
     "data": {
      "text/plain": [
       "10"
      ]
     },
     "execution_count": 4,
     "metadata": {},
     "output_type": "execute_result"
    }
   ],
   "source": [
    "f.get_n()"
   ]
  },
  {
   "cell_type": "markdown",
   "metadata": {},
   "source": [
    "## `nonlocal` explained"
   ]
  },
  {
   "cell_type": "markdown",
   "metadata": {},
   "source": [
    "The `nonlocal` keyword in Python is used to declare that a variable is not local to the current function's scope, but it belongs to the nearest enclosing scope that is not global. In other words, it allows you to modify a variable in an outer, enclosing scope from an inner, nested scope.\n",
    "\n",
    "In this example, `x` is a variable defined in the `outer_function`. The `inner_function` can access `x`, but if you want to modify it, you need to declare it as `nonlocal x`. This tells Python that when you refer to `x` inside `inner_function`, you're referring to the `x` from the nearest enclosing scope (in this case, `outer_function`).\n",
    "\n",
    "The `nonlocal` keyword is mainly used in nested functions when you want to modify a variable in an outer scope, but you want to avoid creating a new local variable with the same name. It bridges the gap between the local and global scopes, allowing you to modify variables in an intermediate (enclosing) scope."
   ]
  },
  {
   "cell_type": "code",
   "execution_count": 5,
   "metadata": {},
   "outputs": [
    {
     "name": "stdout",
     "output_type": "stream",
     "text": [
      "x inside ineer_function: 20\n",
      "x outside inner_function: 20\n"
     ]
    }
   ],
   "source": [
    "def outer_function():\n",
    "    x = 10 # This is a variable int he scope of outer function\n",
    "\n",
    "    def inner_function():\n",
    "        nonlocal x # Declare x as nonlocal, referring to the x in the outer_function\n",
    "        x = 20 # Update the value of x in the scope of outer function\n",
    "        print(f\"x inside ineer_function: {x}\")\n",
    "\n",
    "    inner_function() # Call the inner function\n",
    "    print(f\"x outside inner_function: {x}\")\n",
    "\n",
    "outer_function()"
   ]
  }
 ],
 "metadata": {
  "kernelspec": {
   "display_name": "Python 3",
   "language": "python",
   "name": "python3"
  },
  "language_info": {
   "codemirror_mode": {
    "name": "ipython",
    "version": 3
   },
   "file_extension": ".py",
   "mimetype": "text/x-python",
   "name": "python",
   "nbconvert_exporter": "python",
   "pygments_lexer": "ipython3",
   "version": "3.11.2"
  }
 },
 "nbformat": 4,
 "nbformat_minor": 2
}
