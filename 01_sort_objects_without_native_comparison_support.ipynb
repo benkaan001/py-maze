{
 "cells": [
  {
   "cell_type": "code",
   "execution_count": 1,
   "metadata": {},
   "outputs": [
    {
     "name": "stdout",
     "output_type": "stream",
     "text": [
      "Help on class attrgetter in module operator:\n",
      "\n",
      "class attrgetter(builtins.object)\n",
      " |  attrgetter(attr, ...) --> attrgetter object\n",
      " |  \n",
      " |  Return a callable object that fetches the given attribute(s) from its operand.\n",
      " |  After f = attrgetter('name'), the call f(r) returns r.name.\n",
      " |  After g = attrgetter('name', 'date'), the call g(r) returns (r.name, r.date).\n",
      " |  After h = attrgetter('name.first', 'name.last'), the call h(r) returns\n",
      " |  (r.name.first, r.name.last).\n",
      " |  \n",
      " |  Methods defined here:\n",
      " |  \n",
      " |  __call__(self, /, *args, **kwargs)\n",
      " |      Call self as a function.\n",
      " |  \n",
      " |  __getattribute__(self, name, /)\n",
      " |      Return getattr(self, name).\n",
      " |  \n",
      " |  __reduce__(...)\n",
      " |      Return state information for pickling\n",
      " |  \n",
      " |  __repr__(self, /)\n",
      " |      Return repr(self).\n",
      " |  \n",
      " |  ----------------------------------------------------------------------\n",
      " |  Static methods defined here:\n",
      " |  \n",
      " |  __new__(*args, **kwargs) from builtins.type\n",
      " |      Create and return a new object.  See help(type) for accurate signature.\n",
      " |  \n",
      " |  ----------------------------------------------------------------------\n",
      " |  Data descriptors defined here:\n",
      " |  \n",
      " |  __vectorcalloffset__\n",
      "\n"
     ]
    }
   ],
   "source": [
    "from operator import attrgetter\n",
    "help(attrgetter)"
   ]
  },
  {
   "cell_type": "code",
   "execution_count": 2,
   "metadata": {},
   "outputs": [],
   "source": [
    "class User:\n",
    "    def __init__(self, user_id: int) -> None:\n",
    "        self.user_id = user_id\n",
    "    \n",
    "    def __repr__(self) -> str:\n",
    "        return f\"User{self.user_id}\""
   ]
  },
  {
   "cell_type": "code",
   "execution_count": 3,
   "metadata": {},
   "outputs": [
    {
     "data": {
      "text/plain": [
       "[User23, User3, User99]"
      ]
     },
     "execution_count": 3,
     "metadata": {},
     "output_type": "execute_result"
    }
   ],
   "source": [
    "users = [User(23), User(3), User(99)]\n",
    "users"
   ]
  },
  {
   "cell_type": "markdown",
   "metadata": {},
   "source": [
    "## Sort it by user-id"
   ]
  },
  {
   "cell_type": "code",
   "execution_count": 4,
   "metadata": {},
   "outputs": [
    {
     "data": {
      "text/plain": [
       "[User3, User23, User99]"
      ]
     },
     "execution_count": 4,
     "metadata": {},
     "output_type": "execute_result"
    }
   ],
   "source": [
    "sorted(users, key=attrgetter('user_id'))"
   ]
  },
  {
   "cell_type": "markdown",
   "metadata": {},
   "source": [
    "## Alternative sort methods: `lambda`"
   ]
  },
  {
   "cell_type": "code",
   "execution_count": 5,
   "metadata": {},
   "outputs": [
    {
     "data": {
      "text/plain": [
       "[User3, User23, User99]"
      ]
     },
     "execution_count": 5,
     "metadata": {},
     "output_type": "execute_result"
    }
   ],
   "source": [
    "sorted(users, key=lambda x: x.user_id)"
   ]
  },
  {
   "cell_type": "markdown",
   "metadata": {},
   "source": [
    "## Alternative sort methods: `custom function`"
   ]
  },
  {
   "cell_type": "code",
   "execution_count": 6,
   "metadata": {},
   "outputs": [
    {
     "data": {
      "text/plain": [
       "[User3, User23, User99]"
      ]
     },
     "execution_count": 6,
     "metadata": {},
     "output_type": "execute_result"
    }
   ],
   "source": [
    "def user_id_compare(user: User) -> int:\n",
    "    return user.user_id\n",
    "\n",
    "sorted(users, key=user_id_compare)"
   ]
  },
  {
   "cell_type": "markdown",
   "metadata": {},
   "source": [
    "## Native comparison supports: `<`, `>`, `<=`, `>=`, `==`, and `!=`"
   ]
  },
  {
   "cell_type": "markdown",
   "metadata": {},
   "source": [
    "\n",
    "\n",
    "1. `__lt__(self, other)`: This method is used for the less-than (`<`) comparison. It should return `True` if `self` is less than `other`, and `False` otherwise.\n",
    "\n",
    "2. `__eq__(self, other)`: This method is used for the equality (`==`) comparison. It should return `True` if `self` is equal to `other`, and `False` otherwise."
   ]
  },
  {
   "cell_type": "code",
   "execution_count": 7,
   "metadata": {},
   "outputs": [],
   "source": [
    "class User:\n",
    "    def __init__(self, user_id: int) -> None:\n",
    "        self.user_id = user_id\n",
    "    \n",
    "    def __repr__(self) -> str:\n",
    "        return f\"User{self.user_id}\"\n",
    "    \n",
    "    def __lt__(self, other) -> bool:\n",
    "        return self.user_id < other.user_id \n",
    "    \n",
    "    def __gt__(self, other) -> bool:\n",
    "        return self.user_id > other.user_id \n",
    "    \n",
    "    def __eq__(self, other) -> bool:\n",
    "        return self.user_id == other.user_id \n"
   ]
  },
  {
   "cell_type": "code",
   "execution_count": 8,
   "metadata": {},
   "outputs": [],
   "source": [
    "user1 = User(5)\n",
    "user2 = User(10)\n",
    "user3 = User(15)\n",
    "user4 = User(5)"
   ]
  },
  {
   "cell_type": "code",
   "execution_count": 9,
   "metadata": {},
   "outputs": [
    {
     "data": {
      "text/plain": [
       "True"
      ]
     },
     "execution_count": 9,
     "metadata": {},
     "output_type": "execute_result"
    }
   ],
   "source": [
    "user1 < user2 "
   ]
  },
  {
   "cell_type": "code",
   "execution_count": 10,
   "metadata": {},
   "outputs": [
    {
     "data": {
      "text/plain": [
       "True"
      ]
     },
     "execution_count": 10,
     "metadata": {},
     "output_type": "execute_result"
    }
   ],
   "source": [
    "user1 == user4"
   ]
  },
  {
   "cell_type": "code",
   "execution_count": 11,
   "metadata": {},
   "outputs": [
    {
     "data": {
      "text/plain": [
       "False"
      ]
     },
     "execution_count": 11,
     "metadata": {},
     "output_type": "execute_result"
    }
   ],
   "source": [
    "user2 > user3"
   ]
  },
  {
   "cell_type": "markdown",
   "metadata": {},
   "source": [
    "To sort a list of `User` objects using the native comparison support in Python, you can define the `__lt__` method in the `User` class to specify how the objects should be compared for less-than (`<`) comparisons. \n",
    "\n",
    "When you call `sorted(users)`, Python will use the `__lt__` method to perform the sorting based on the `user_id` of each user. The result will be a sorted list of `User` objects in ascending order of `user_id`."
   ]
  },
  {
   "cell_type": "code",
   "execution_count": 12,
   "metadata": {},
   "outputs": [
    {
     "data": {
      "text/plain": [
       "[User3, User23, User99]"
      ]
     },
     "execution_count": 12,
     "metadata": {},
     "output_type": "execute_result"
    }
   ],
   "source": [
    "users = [User(23), User(3), User(99)]\n",
    "sorted(users)"
   ]
  }
 ],
 "metadata": {
  "kernelspec": {
   "display_name": "Python 3",
   "language": "python",
   "name": "python3"
  },
  "language_info": {
   "codemirror_mode": {
    "name": "ipython",
    "version": 3
   },
   "file_extension": ".py",
   "mimetype": "text/x-python",
   "name": "python",
   "nbconvert_exporter": "python",
   "pygments_lexer": "ipython3",
   "version": "3.11.2"
  },
  "orig_nbformat": 4
 },
 "nbformat": 4,
 "nbformat_minor": 2
}
