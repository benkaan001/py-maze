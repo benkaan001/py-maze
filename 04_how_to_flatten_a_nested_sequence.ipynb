{
 "cells": [
  {
   "cell_type": "markdown",
   "metadata": {},
   "source": [
    "## Example of flattening a nested sequence using subgenerators"
   ]
  },
  {
   "cell_type": "code",
   "execution_count": 1,
   "metadata": {},
   "outputs": [],
   "source": [
    "from collections.abc import Iterable\n",
    "from typing import Iterable, Type, Generator, Union"
   ]
  },
  {
   "cell_type": "code",
   "execution_count": 2,
   "metadata": {},
   "outputs": [],
   "source": [
    "from collections.abc import Iterable\n",
    "from typing import Iterable, Type, Generator, Union\n",
    "\n",
    "def flatten(\n",
    "        items: Iterable[Union[int, float, Iterable]], \n",
    "        ignore_types: Type[Union[int, float, str, bytes]] = (str, bytes)\n",
    "        ) -> Generator[Union[int, float], None, None]:\n",
    "    \"\"\"\n",
    "    Flatten a nested sequence by yielding individual elements in a flattened order.\n",
    "\n",
    "    Parameters:\n",
    "    - items (Iterable): The nested sequence to be flattened.\n",
    "    - ignore_types (Type[Union[int, float, str, bytes]], optional): \n",
    "    Types to ignore during flattening (default: (str, bytes)).\n",
    "\n",
    "    Yields:\n",
    "    - Union[int, float]: The individual elements in a flattened order.\n",
    "    \"\"\"\n",
    "    for x in items:\n",
    "        if isinstance(x, Iterable) and not isinstance(x, ignore_types):\n",
    "            yield from flatten(x)\n",
    "        else:\n",
    "            yield x\n"
   ]
  },
  {
   "cell_type": "code",
   "execution_count": 3,
   "metadata": {},
   "outputs": [
    {
     "name": "stdout",
     "output_type": "stream",
     "text": [
      "1 2 3 4 5 6 7 8 "
     ]
    }
   ],
   "source": [
    "items =[1, 2, [3, 4, [5, 6], 7], 8]\n",
    "\n",
    "for x in flatten(items):\n",
    "    print(x, end=' ')\n"
   ]
  },
  {
   "cell_type": "code",
   "execution_count": 4,
   "metadata": {},
   "outputs": [
    {
     "data": {
      "text/plain": [
       "[1, 2, 3, 4, 5, 6, 7, 8]"
      ]
     },
     "execution_count": 4,
     "metadata": {},
     "output_type": "execute_result"
    }
   ],
   "source": [
    "list(flatten(items))"
   ]
  },
  {
   "cell_type": "code",
   "execution_count": 5,
   "metadata": {},
   "outputs": [
    {
     "data": {
      "text/plain": [
       "<generator object flatten at 0x110e0a890>"
      ]
     },
     "execution_count": 5,
     "metadata": {},
     "output_type": "execute_result"
    }
   ],
   "source": [
    "items = ['Dave', 'Paula', ['Thomas', 'Lewis']]\n",
    "flatten(items)"
   ]
  },
  {
   "cell_type": "code",
   "execution_count": 6,
   "metadata": {},
   "outputs": [
    {
     "data": {
      "text/plain": [
       "('Dave', 'Paula', 'Thomas', 'Lewis')"
      ]
     },
     "execution_count": 6,
     "metadata": {},
     "output_type": "execute_result"
    }
   ],
   "source": [
    "tuple(flatten(items))"
   ]
  },
  {
   "cell_type": "markdown",
   "metadata": {},
   "source": [
    "## Yield from"
   ]
  },
  {
   "cell_type": "markdown",
   "metadata": {},
   "source": [
    "The `yield from` statement in Python is used within a generator to delegate the generation of values to another generator or iterable. It allows for efficient composition of generators, where one generator can yield values from another, including subgenerators or iterables.\n",
    "\n",
    "Here's what `yield from` does:\n",
    "\n",
    "1. **Delegating to Another Generator or Iterable**:\n",
    "   - `yield from` is used to delegate the generation of values to another iterable (like a generator, list, etc.).\n",
    "   - The iterable could be a generator function, a list, a set, or any other iterable.\n",
    "\n",
    "2. **Yielding Values Directly**:\n",
    "   - Instead of using a `for` loop to iterate through the values of the iterable and yielding them one by one, `yield from` allows the generator to yield values directly from the iterable.\n",
    "\n",
    "3. **Propagation of Values and Control Flow**:\n",
    "   - Values yielded by the iterable are directly passed through the generator using `yield from`.\n",
    "   - If the iterable produces a value, it is sent to the caller of the generator (the generator that called `yield from`).\n",
    "\n",
    "4. **Subgenerators and Nesting**:\n",
    "   - `yield from` is especially useful for dealing with nested generators or subgenerators.\n",
    "   - It enables a clean way to yield values from subgenerators without manually iterating and yielding each value."
   ]
  },
  {
   "cell_type": "code",
   "execution_count": 7,
   "metadata": {},
   "outputs": [
    {
     "name": "stdout",
     "output_type": "stream",
     "text": [
      "Start\n",
      "A\n",
      "B\n",
      "End\n"
     ]
    }
   ],
   "source": [
    "def subgenerator():\n",
    "    yield 'A'\n",
    "    yield 'B'\n",
    "\n",
    "def generator():\n",
    "    yield 'Start'\n",
    "    yield from subgenerator() # Delegating to the subgenerator\n",
    "    yield 'End'\n",
    "    \n",
    "for item in generator():\n",
    "    print(item)"
   ]
  },
  {
   "cell_type": "code",
   "execution_count": 8,
   "metadata": {},
   "outputs": [
    {
     "data": {
      "text/plain": [
       "[1, 2, 3, 4, 5, 6, 7, 8, 3, 11, 2, 9]"
      ]
     },
     "execution_count": 8,
     "metadata": {},
     "output_type": "execute_result"
    }
   ],
   "source": [
    "def flatten_nested_sequence(nested_sequence):\n",
    "    for item in nested_sequence:\n",
    "        if isinstance(item, Iterable) and not isinstance(item, str):\n",
    "            yield from flatten_nested_sequence(item) # Recursive call to handle nested structures\n",
    "        else:\n",
    "            yield item \n",
    "\n",
    "nested_sequence = [[1, 2, [3, 4]], [5, [6, 7]], 8, 3, [11, 2, 9]]\n",
    "list(flatten_nested_sequence(nested_sequence))"
   ]
  }
 ],
 "metadata": {
  "kernelspec": {
   "display_name": "Python 3",
   "language": "python",
   "name": "python3"
  },
  "language_info": {
   "codemirror_mode": {
    "name": "ipython",
    "version": 3
   },
   "file_extension": ".py",
   "mimetype": "text/x-python",
   "name": "python",
   "nbconvert_exporter": "python",
   "pygments_lexer": "ipython3",
   "version": "3.11.2"
  },
  "orig_nbformat": 4
 },
 "nbformat": 4,
 "nbformat_minor": 2
}
