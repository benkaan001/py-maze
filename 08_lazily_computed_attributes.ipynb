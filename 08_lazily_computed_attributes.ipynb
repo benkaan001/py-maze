{
 "cells": [
  {
   "cell_type": "markdown",
   "metadata": {},
   "source": [
    "# 0. Descriptors\n",
    "\n",
    "- In Python, a descriptor is an object attribute with `binding behavior,` which means that it has methods defined for getting, setting, and deleting the attribute. Descriptors are used to customize attribute access and provide more control over how attributes are managed in classes. \n",
    "\n",
    "- The key methods associated with descriptors are:\n",
    "    - 1. `__get__(self, instance, owner)`: Called when the descriptor's attribute is accessed. Tt should return the value of the attribute. `instance` is the instance of the object that the attribute is accessed on, and `owner` is the class of the instance. \n",
    "    - 2. `__set__(self, instance, value)`: Called when the descriptor's attribute is set. It allows you to define the behavior when a value is assigned to the attribute. \n",
    "    - 3. `__delete__(self, instance)`: Called when the descriptor's attribute is deleted. It allows you to define the behavior when the attribute is deleted. "
   ]
  },
  {
   "cell_type": "markdown",
   "metadata": {},
   "source": [
    "## Example 1: Positive Age\n",
    "\n",
    "Imagine you want to create a class where the attribute value should always be a non-negative integer such as age assigned to an individual. You can use a descriptor to enforce this constraint. "
   ]
  },
  {
   "cell_type": "code",
   "execution_count": 1,
   "metadata": {},
   "outputs": [],
   "source": [
    "class NonNegativeInteger:\n",
    "    def __init__(self, name) -> None:\n",
    "        self._name = name\n",
    "\n",
    "    def __get__(self, instance, owner):\n",
    "        return instance.__dict__[self._name]\n",
    "\n",
    "    def __set__(self, instance, value):\n",
    "        if not isinstance(value, int) or value <0:\n",
    "            raise ValueError(f\"{self._name} must be a non-negative integer\")\n",
    "        instance.__dict__[self._name] = value\n",
    "\n",
    "class User:\n",
    "    age = NonNegativeInteger(\"age\")\n",
    "\n",
    "    def __init__(self, name, age) -> None:\n",
    "        self.name = name\n",
    "        self.age = age"
   ]
  },
  {
   "cell_type": "code",
   "execution_count": 2,
   "metadata": {},
   "outputs": [
    {
     "data": {
      "text/plain": [
       "25"
      ]
     },
     "execution_count": 2,
     "metadata": {},
     "output_type": "execute_result"
    }
   ],
   "source": [
    "user1 = User('Janet', 25)\n",
    "user1.age"
   ]
  },
  {
   "cell_type": "markdown",
   "metadata": {},
   "source": [
    "In this example, the `User` class has an attribute `age` which is an instance of `NonNegativeInteger`. The descriptor ensures that the age attribute for any User instance is always a non-negative integer. "
   ]
  },
  {
   "cell_type": "code",
   "execution_count": 3,
   "metadata": {},
   "outputs": [
    {
     "name": "stdout",
     "output_type": "stream",
     "text": [
      "age must be a non-negative integer\n"
     ]
    }
   ],
   "source": [
    "try:\n",
    "    user1.age = -5\n",
    "except ValueError as e:\n",
    "    print(e)"
   ]
  },
  {
   "cell_type": "markdown",
   "metadata": {},
   "source": [
    "#  1. Lazily Computed Property\n",
    "\n",
    "**Purpose of Lazily Computed Property:**\n",
    "   - Lazily computed properties are used to improve performance by avoiding unnecessary calculations until the property is actually needed."
   ]
  },
  {
   "cell_type": "markdown",
   "metadata": {},
   "source": [
    "# 2. Example\n",
    "\n",
    "The `lazyproperty` decorator allows you to create properties that are computed only once and then cached for future use. Here's a breakdown of the code:\n",
    "\n",
    "\n",
    "1. **`lazyproperty` Class:**\n",
    "   - This is a custom class acting as a descriptor.\n",
    "   - It takes a function (`func`) during initialization, which is assumed to be a method of the class that will be decorated.\n",
    "\n",
    "2. **`__init__` Method:**\n",
    "   - The `__init__` method stores the function passed to it (the method to be lazily evaluated).\n",
    "\n",
    "3. **`__get__` Method:**\n",
    "   - The `__get__` method is called when the decorated property is accessed.\n",
    "   - The `if instance is None:` check is necessary because the `__get__` method can also be called when the property is being accessed on the class itself, rather than on an instance of the class. In this case, the instance parameter will be None.\n",
    "      - If accessed on the class itself (`instance is None`), it returns the `lazyproperty` instance.\n",
    "      - If accessed on an instance, it computes the value using the stored function and sets the attribute on the instance with the computed value. It then returns the computed value.\n",
    "\n",
    "4. **Usage in the `Circle` Class:**\n",
    "   - The `Circle` class has two properties: `area` and `perimeter`, both decorated with `@lazyproperty`.\n",
    "   - The `area` and `perimeter` properties are computed lazily, meaning that the calculations are performed only when the properties are first accessed, and the results are cached for subsequent accesses.\n",
    "\n",
    "5. **Example Usage:**\n",
    "   - Accessing the `area` and `perimeter` properties triggers the lazy computation, and the results are printed.\n",
    "   - Subsequent accesses to the properties reuse the previously computed values without recalculating.\n",
    "\n",
    "This approach is a form of memoization, where the results of expensive function calls are cached to avoid redundant computations. It's particularly useful for properties or methods that involve heavy calculations but might not always be needed."
   ]
  },
  {
   "cell_type": "code",
   "execution_count": 4,
   "metadata": {},
   "outputs": [],
   "source": [
    "class lazyproperty:\n",
    "    def __init__(self, func) -> None:\n",
    "        self.func = func\n",
    "\n",
    "    def __get__(self, instance, cls):\n",
    "        if instance is None:\n",
    "            return self\n",
    "        else:\n",
    "            value = self.func(instance)\n",
    "            setattr(instance, self.func.__name__, value)\n",
    "            return value"
   ]
  },
  {
   "cell_type": "code",
   "execution_count": 5,
   "metadata": {},
   "outputs": [],
   "source": [
    "import math\n",
    "\n",
    "class Circle:\n",
    "    def __init__(self, radius) -> None:\n",
    "        self.radius = radius\n",
    "\n",
    "    @lazyproperty\n",
    "    def area(self):\n",
    "        print('Computing area')\n",
    "        return math.pi * self.radius ** 2\n",
    "\n",
    "    @lazyproperty\n",
    "    def perimeter(self):\n",
    "        print('Computing perimeter')\n",
    "        return 2 * math.pi * self.radius"
   ]
  },
  {
   "cell_type": "code",
   "execution_count": 6,
   "metadata": {},
   "outputs": [],
   "source": [
    "circle_instance = Circle(radius=5)"
   ]
  },
  {
   "cell_type": "code",
   "execution_count": 7,
   "metadata": {},
   "outputs": [
    {
     "name": "stdout",
     "output_type": "stream",
     "text": [
      "Computing area\n"
     ]
    },
    {
     "data": {
      "text/plain": [
       "78.53981633974483"
      ]
     },
     "execution_count": 7,
     "metadata": {},
     "output_type": "execute_result"
    }
   ],
   "source": [
    "circle_instance.area"
   ]
  },
  {
   "cell_type": "code",
   "execution_count": 8,
   "metadata": {},
   "outputs": [
    {
     "data": {
      "text/plain": [
       "78.53981633974483"
      ]
     },
     "execution_count": 8,
     "metadata": {},
     "output_type": "execute_result"
    }
   ],
   "source": [
    "# Accessing the area propety again reuses the previously computed value. No computation\n",
    "circle_instance.area"
   ]
  },
  {
   "cell_type": "code",
   "execution_count": 9,
   "metadata": {},
   "outputs": [
    {
     "name": "stdout",
     "output_type": "stream",
     "text": [
      "Computing perimeter\n"
     ]
    },
    {
     "data": {
      "text/plain": [
       "31.41592653589793"
      ]
     },
     "execution_count": 9,
     "metadata": {},
     "output_type": "execute_result"
    }
   ],
   "source": [
    "circle_instance.perimeter"
   ]
  },
  {
   "cell_type": "code",
   "execution_count": 10,
   "metadata": {},
   "outputs": [
    {
     "data": {
      "text/plain": [
       "31.41592653589793"
      ]
     },
     "execution_count": 10,
     "metadata": {},
     "output_type": "execute_result"
    }
   ],
   "source": [
    "# Accessing the perimeter propety again reuses the previously computed value. No computation\n",
    "circle_instance.perimeter"
   ]
  }
 ],
 "metadata": {
  "kernelspec": {
   "display_name": "Python 3",
   "language": "python",
   "name": "python3"
  },
  "language_info": {
   "codemirror_mode": {
    "name": "ipython",
    "version": 3
   },
   "file_extension": ".py",
   "mimetype": "text/x-python",
   "name": "python",
   "nbconvert_exporter": "python",
   "pygments_lexer": "ipython3",
   "version": "3.11.2"
  }
 },
 "nbformat": 4,
 "nbformat_minor": 2
}
