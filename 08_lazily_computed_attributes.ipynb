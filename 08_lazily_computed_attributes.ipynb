{
 "cells": [
  {
   "cell_type": "markdown",
   "metadata": {},
   "source": [
    "# 0. Descriptors\n",
    "\n",
    "- In Python, a descriptor is an object attribute with `binding behavior,` which means that it has methods defined for getting, setting, and deleting the attribute. Descriptors are used to customize attribute access and provide more control over how attributes are managed in classes. \n",
    "\n",
    "- The key methods associated with descriptors are:\n",
    "    - 1. `__get__(self, instance, owner)`: Called when the descriptor's attribute is accessed. Tt should return the value of the attribute. `instance` is the instance of the object that the attribute is accessed on, and `owner` is the class of the instance. \n",
    "    - 2. `__set__(self, instance, value)`: Called when the descriptor's attribute is set. It allows you to define the behavior when a value is assigned to the attribute. \n",
    "    - 3. `__delete__(self, instance)`: Called when the descriptor's attribute is deleted. It allows you to define the behavior when the attribute is deleted. "
   ]
  },
  {
   "cell_type": "markdown",
   "metadata": {},
   "source": [
    "## Example 1: Positive Age\n",
    "\n",
    "Imagine you want to create a class where the attribute value should always be a non-negative integer such as age assigned to an individual. You can use a descriptor to enforce this constraint. "
   ]
  },
  {
   "cell_type": "code",
   "execution_count": 1,
   "metadata": {},
   "outputs": [],
   "source": [
    "class NonNegativeInteger:\n",
    "    def __init__(self, name) -> None:\n",
    "        self._name = name\n",
    "\n",
    "    def __get__(self, instance, owner):\n",
    "        return instance.__dict__[self._name]\n",
    "\n",
    "    def __set__(self, instance, value):\n",
    "        if not isinstance(value, int) or value <0:\n",
    "            raise ValueError(f\"{self._name} must be a non-negative integer\")\n",
    "        instance.__dict__[self._name] = value\n",
    "\n",
    "class User:\n",
    "    age = NonNegativeInteger(\"age\")\n",
    "\n",
    "    def __init__(self, name, age) -> None:\n",
    "        self.name = name\n",
    "        self.age = age"
   ]
  },
  {
   "cell_type": "code",
   "execution_count": 2,
   "metadata": {},
   "outputs": [
    {
     "data": {
      "text/plain": [
       "25"
      ]
     },
     "execution_count": 2,
     "metadata": {},
     "output_type": "execute_result"
    }
   ],
   "source": [
    "user1 = User('Janet', 25)\n",
    "user1.age"
   ]
  },
  {
   "cell_type": "markdown",
   "metadata": {},
   "source": [
    "In this example, the `User` class has an attribute `age` which is an instance of `NonNegativeInteger`. The descriptor ensures that the age attribute for any User instance is always a non-negative integer. "
   ]
  },
  {
   "cell_type": "code",
   "execution_count": 3,
   "metadata": {},
   "outputs": [
    {
     "name": "stdout",
     "output_type": "stream",
     "text": [
      "age must be a non-negative integer\n"
     ]
    }
   ],
   "source": [
    "try:\n",
    "    user1.age = -5\n",
    "except ValueError as e:\n",
    "    print(e)"
   ]
  },
  {
   "cell_type": "markdown",
   "metadata": {},
   "source": [
    "## Example 2: Contact Information \n",
    "\n",
    "Imagine you need to validate and store contact information for a group of users. The contact information includes a phone number, an email address, and a mailing address. The descriptor ensures that each piece of information meets certain criteria. "
   ]
  },
  {
   "cell_type": "code",
   "execution_count": 4,
   "metadata": {},
   "outputs": [],
   "source": [
    "class ContactInformation:\n",
    "    def __init__(self, name) -> None:\n",
    "        self._name = name\n",
    "        self._phone_number = \"\"\n",
    "        self._email_address = \"\"\n",
    "        self._mailing_address = \"\"\n",
    "\n",
    "    def __get__(self, instance, owner) -> dict:\n",
    "        return {\n",
    "            \"phone_number\": self._phone_number,\n",
    "            \"email_address\": self._email_address,\n",
    "            \"mailing_address\": self._mailing_address\n",
    "        }\n",
    "\n",
    "    def __set__(self, instance, contact_info) -> None:\n",
    "        self._validate_and_set(\"phone_number\", contact_info.get(\"phone_number\", \"\"))\n",
    "        self._validate_and_set(\"email_address\", contact_info.get(\"email_address\", \"\"))\n",
    "        self._validate_and_set(\"mailing_address\", contact_info.get(\"mailing_address\", \"\"))\n",
    "\n",
    "    def _validate_and_set(self, attribute, value) -> None:\n",
    "        if attribute == \"phone_number\" and not self._is_valid_phone_number(value):\n",
    "            raise ValueError(f\"Invalid phone number: {value}\")\n",
    "        if attribute == \"email_address\" and not self._is_valid_email(value):\n",
    "            raise ValueError(f\"Invalid email address: {value}\")\n",
    "\n",
    "        setattr(self, \"_\" + attribute, value)\n",
    "\n",
    "    def _is_valid_phone_number(self, phone_number) -> bool:\n",
    "        # Example validation: a valid phone number should be numeric and have 10 digits\n",
    "        return phone_number.isdigit() and len(phone_number) == 10\n",
    "\n",
    "    def _is_valid_email(self, email_address) -> bool:\n",
    "        # Example validation: a valid email address should contain '@'\n",
    "        return \"@\" in email_address\n",
    "\n",
    "\n",
    "\n",
    "class Person:\n",
    "    contact_info = ContactInformation(\"contact_info\")\n",
    "\n",
    "    def __init__(self, name, contact_info) -> None:\n",
    "        self.name = name\n",
    "        self.contact_info = contact_info\n"
   ]
  },
  {
   "cell_type": "code",
   "execution_count": 5,
   "metadata": {},
   "outputs": [
    {
     "data": {
      "text/plain": [
       "{'phone_number': '5129889999',\n",
       " 'email_address': 'john.doe@gmail.com',\n",
       " 'mailing_address': '123 Main St. Austin, TX, 78799'}"
      ]
     },
     "execution_count": 5,
     "metadata": {},
     "output_type": "execute_result"
    }
   ],
   "source": [
    "person = Person(\"John Doe\", {\n",
    "    \"phone_number\": \"5129889999\",\n",
    "    \"email_address\": \"john.doe@gmail.com\",\n",
    "    \"mailing_address\": \"123 Main St. Austin, TX, 78799\"\n",
    "})\n",
    "\n",
    "# Accessing and updating the contact information using the descriptor\n",
    "person.contact_info"
   ]
  },
  {
   "cell_type": "code",
   "execution_count": 6,
   "metadata": {},
   "outputs": [
    {
     "name": "stdout",
     "output_type": "stream",
     "text": [
      "Invalid phone number: +15129999098\n"
     ]
    }
   ],
   "source": [
    "# Attempting to set an invalid phone number\n",
    "try:\n",
    "    person.contact_info = {\n",
    "         \"phone_number\": \"+15129999098\"\n",
    "    }\n",
    "except ValueError as e:\n",
    "    print(e)"
   ]
  },
  {
   "cell_type": "markdown",
   "metadata": {},
   "source": [
    "Here is a detailed explanation of the code:\n",
    "\n",
    "**class ContactInformation:**\n",
    "\n",
    "This class defines a data structure to store and manage personal contact information. It includes methods for initializing, accessing, and validating contact details.\n",
    "\n",
    "**__init__(self, name):**\n",
    "\n",
    "The constructor initializes the contact information for a specific person. It takes the person's name as an argument and sets the private attributes for phone number, email address, and mailing address to empty strings.\n",
    "\n",
    "**__get__(self, instance, owner):**\n",
    "\n",
    "This method acts as a descriptor for the `contact_info` attribute of the `Person` class. When the `contact_info` attribute is accessed, it returns a dictionary containing the current values of the phone number, email address, and mailing address.\n",
    "\n",
    "**__set__(self, instance, contact_info):**\n",
    "\n",
    "This method is also a descriptor and is called when the `contact_info` attribute is assigned a new value. It takes the updated contact information as a dictionary and validates each field using the `_validate_and_set` method before updating the corresponding private attributes.\n",
    "\n",
    "**_validate_and_set(self, attribute, value):**\n",
    "\n",
    "This private method validates the value of a specific contact information attribute (phone number, email address, or mailing address) before updating it. It performs basic checks for the format and content of the value and raises a `ValueError` if it's invalid.\n",
    "\n",
    "**_is_valid_phone_number(self, phone_number):**\n",
    "\n",
    "This private method checks if the provided phone number is valid. In this example, it checks whether the phone number consists only of digits and has a length of 10.\n",
    "\n",
    "**_is_valid_email(self, email_address):**\n",
    "\n",
    "This private method checks if the provided email address is valid. In this example, it simply checks whether the email address contains the '@' symbol.\n",
    "\n",
    "**class Person:**\n",
    "\n",
    "This class represents a person object with attributes for name and contact information.\n",
    "\n",
    "**contact_info = ContactInformation(\"contact_info\")**\n",
    "\n",
    "This class attribute defines a descriptor for the `contact_info` attribute of the `Person` class. It creates an instance of the `ContactInformation` class and associates it with the `contact_info` attribute.\n",
    "\n",
    "**__init__(self, name, contact_info):**\n",
    "\n",
    "The constructor initializes a `Person` object with the given name and contact information. It takes the person's name and an optional contact information dictionary as arguments."
   ]
  },
  {
   "cell_type": "markdown",
   "metadata": {},
   "source": [
    "#  1. Lazily Computed Property\n",
    "\n",
    "**Purpose of Lazily Computed Property:**\n",
    "   - Lazily computed properties are used to improve performance by avoiding unnecessary calculations until the property is actually needed."
   ]
  },
  {
   "cell_type": "markdown",
   "metadata": {},
   "source": [
    "# 2. Example\n",
    "\n",
    "The `lazyproperty` decorator allows you to create properties that are computed only once and then cached for future use. Here's a breakdown of the code:\n",
    "\n",
    "\n",
    "1. **`lazyproperty` Class:**\n",
    "   - This is a custom class acting as a descriptor.\n",
    "   - It takes a function (`func`) during initialization, which is assumed to be a method of the class that will be decorated.\n",
    "\n",
    "2. **`__init__` Method:**\n",
    "   - The `__init__` method stores the function passed to it (the method to be lazily evaluated).\n",
    "\n",
    "3. **`__get__` Method:**\n",
    "   - The `__get__` method is called when the decorated property is accessed.\n",
    "   - The `if instance is None:` check is necessary because the `__get__` method can also be called when the property is being accessed on the class itself, rather than on an instance of the class. In this case, the instance parameter will be None.\n",
    "      - If accessed on the class itself (`instance is None`), it returns the `lazyproperty` instance.\n",
    "      - If accessed on an instance, it computes the value using the stored function and sets the attribute on the instance with the computed value. It then returns the computed value.\n",
    "\n",
    "4. **Usage in the `Circle` Class:**\n",
    "   - The `Circle` class has two properties: `area` and `perimeter`, both decorated with `@lazyproperty`.\n",
    "   - The `area` and `perimeter` properties are computed lazily, meaning that the calculations are performed only when the properties are first accessed, and the results are cached for subsequent accesses.\n",
    "\n",
    "5. **Example Usage:**\n",
    "   - Accessing the `area` and `perimeter` properties triggers the lazy computation, and the results are printed.\n",
    "   - Subsequent accesses to the properties reuse the previously computed values without recalculating.\n",
    "\n",
    "This approach is a form of memoization, where the results of expensive function calls are cached to avoid redundant computations. It's particularly useful for properties or methods that involve heavy calculations but might not always be needed."
   ]
  },
  {
   "cell_type": "code",
   "execution_count": 7,
   "metadata": {},
   "outputs": [],
   "source": [
    "class lazyproperty:\n",
    "    def __init__(self, func) -> None:\n",
    "        self.func = func\n",
    "\n",
    "    def __get__(self, instance, cls):\n",
    "        if instance is None:\n",
    "            return self\n",
    "        else:\n",
    "            value = self.func(instance)\n",
    "            setattr(instance, self.func.__name__, value)\n",
    "            return value"
   ]
  },
  {
   "cell_type": "code",
   "execution_count": 8,
   "metadata": {},
   "outputs": [],
   "source": [
    "import math\n",
    "\n",
    "class Circle:\n",
    "    def __init__(self, radius) -> None:\n",
    "        self.radius = radius\n",
    "\n",
    "    @lazyproperty\n",
    "    def area(self):\n",
    "        print('Computing area')\n",
    "        return math.pi * self.radius ** 2\n",
    "\n",
    "    @lazyproperty\n",
    "    def perimeter(self):\n",
    "        print('Computing perimeter')\n",
    "        return 2 * math.pi * self.radius"
   ]
  },
  {
   "cell_type": "code",
   "execution_count": 9,
   "metadata": {},
   "outputs": [],
   "source": [
    "circle_instance = Circle(radius=5)"
   ]
  },
  {
   "cell_type": "code",
   "execution_count": 10,
   "metadata": {},
   "outputs": [
    {
     "name": "stdout",
     "output_type": "stream",
     "text": [
      "Computing area\n"
     ]
    },
    {
     "data": {
      "text/plain": [
       "78.53981633974483"
      ]
     },
     "execution_count": 10,
     "metadata": {},
     "output_type": "execute_result"
    }
   ],
   "source": [
    "circle_instance.area"
   ]
  },
  {
   "cell_type": "code",
   "execution_count": 11,
   "metadata": {},
   "outputs": [
    {
     "data": {
      "text/plain": [
       "78.53981633974483"
      ]
     },
     "execution_count": 11,
     "metadata": {},
     "output_type": "execute_result"
    }
   ],
   "source": [
    "# Accessing the area propety again reuses the previously computed value. No computation\n",
    "circle_instance.area"
   ]
  },
  {
   "cell_type": "code",
   "execution_count": 12,
   "metadata": {},
   "outputs": [
    {
     "name": "stdout",
     "output_type": "stream",
     "text": [
      "Computing perimeter\n"
     ]
    },
    {
     "data": {
      "text/plain": [
       "31.41592653589793"
      ]
     },
     "execution_count": 12,
     "metadata": {},
     "output_type": "execute_result"
    }
   ],
   "source": [
    "circle_instance.perimeter"
   ]
  },
  {
   "cell_type": "code",
   "execution_count": 13,
   "metadata": {},
   "outputs": [
    {
     "data": {
      "text/plain": [
       "31.41592653589793"
      ]
     },
     "execution_count": 13,
     "metadata": {},
     "output_type": "execute_result"
    }
   ],
   "source": [
    "# Accessing the perimeter propety again reuses the previously computed value. No computation\n",
    "circle_instance.perimeter"
   ]
  }
 ],
 "metadata": {
  "kernelspec": {
   "display_name": "Python 3",
   "language": "python",
   "name": "python3"
  },
  "language_info": {
   "codemirror_mode": {
    "name": "ipython",
    "version": 3
   },
   "file_extension": ".py",
   "mimetype": "text/x-python",
   "name": "python",
   "nbconvert_exporter": "python",
   "pygments_lexer": "ipython3",
   "version": "3.11.2"
  }
 },
 "nbformat": 4,
 "nbformat_minor": 2
}
