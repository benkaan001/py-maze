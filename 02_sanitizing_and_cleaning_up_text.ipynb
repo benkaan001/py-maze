{
 "cells": [
  {
   "cell_type": "markdown",
   "metadata": {},
   "source": [
    "# Sanitizing "
   ]
  },
  {
   "cell_type": "markdown",
   "metadata": {},
   "source": [
    "## Definition"
   ]
  },
  {
   "cell_type": "markdown",
   "metadata": {},
   "source": [
    "Text sanitization refers to the process of cleaning or purifying input text to ensure it is safe, well-formed, and suitable for a particular purpose. The goal is to:\n",
    "- prevent or mitigate *`potential security risks`* caused by malicious or improperly formatted input,\n",
    "- prevent *`data corruption`*,\n",
    "- improve *`consistency`*, and\n",
    "- handing *`Whitespace`* and *`Control Characters`*.\n"
   ]
  },
  {
   "cell_type": "markdown",
   "metadata": {},
   "source": [
    "## Example 1"
   ]
  },
  {
   "cell_type": "code",
   "execution_count": 1,
   "metadata": {},
   "outputs": [
    {
     "data": {
      "text/plain": [
       "'alert(\"Hello!\");This is some HTML.'"
      ]
     },
     "execution_count": 1,
     "metadata": {},
     "output_type": "execute_result"
    }
   ],
   "source": [
    "import re \n",
    "\n",
    "html_input = '<script>alert(\"Hello!\");</script><p>This is some <b>HTML</b>.</p>'\n",
    "sanitized_text = re.sub('<.*?>', '', html_input)\n",
    "sanitized_text"
   ]
  },
  {
   "cell_type": "markdown",
   "metadata": {},
   "source": [
    "## Example 2"
   ]
  },
  {
   "cell_type": "code",
   "execution_count": 2,
   "metadata": {},
   "outputs": [],
   "source": [
    "# Manual sanization can be error-prone. It is often better to use dedicated libraries.\n",
    "import html"
   ]
  },
  {
   "cell_type": "code",
   "execution_count": 3,
   "metadata": {},
   "outputs": [],
   "source": [
    "# Example input (potentially from user input)\n",
    "user_input = '<script>alert(\"Hello!\");</script>\\nThis is a test.'"
   ]
  },
  {
   "cell_type": "code",
   "execution_count": 4,
   "metadata": {},
   "outputs": [
    {
     "data": {
      "text/plain": [
       "'&lt;script&gt;alert(&quot;Hello!&quot;);&lt;/script&gt;\\nThis is a test.'"
      ]
     },
     "execution_count": 4,
     "metadata": {},
     "output_type": "execute_result"
    }
   ],
   "source": [
    "cleaned_text = html.escape(user_input, quote=True)\n",
    "cleaned_text"
   ]
  },
  {
   "cell_type": "code",
   "execution_count": 5,
   "metadata": {},
   "outputs": [
    {
     "data": {
      "text/plain": [
       "'&lt;script&gt;alert(&quot;Hello!&quot;);&lt;/script&gt;<br>This is a test.'"
      ]
     },
     "execution_count": 5,
     "metadata": {},
     "output_type": "execute_result"
    }
   ],
   "source": [
    "cleaned_text = cleaned_text.replace('\\n', '<br>')\n",
    "cleaned_text"
   ]
  },
  {
   "cell_type": "markdown",
   "metadata": {},
   "source": [
    "- This process ensures that any HTML tags or script elements in the input are safely displayed as plain text, as the special characters in the *user_input* are escaped to their HTML entity equivalents to prevent potential issues with rendering HTML or executing scripts. \n",
    "\n",
    "- Line breakes(newline characters) are converted to HTML *`<br>`* tags to maintain the desired line breaks for display in HTML."
   ]
  }
 ],
 "metadata": {
  "kernelspec": {
   "display_name": "Python 3",
   "language": "python",
   "name": "python3"
  },
  "language_info": {
   "codemirror_mode": {
    "name": "ipython",
    "version": 3
   },
   "file_extension": ".py",
   "mimetype": "text/x-python",
   "name": "python",
   "nbconvert_exporter": "python",
   "pygments_lexer": "ipython3",
   "version": "3.11.2"
  },
  "orig_nbformat": 4
 },
 "nbformat": 4,
 "nbformat_minor": 2
}
