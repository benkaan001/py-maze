{
 "cells": [
  {
   "cell_type": "markdown",
   "metadata": {},
   "source": [
    "# 1. Example 1"
   ]
  },
  {
   "cell_type": "markdown",
   "metadata": {},
   "source": [
    "### 1.1. Base Class: Person\n",
    "- The `Person` base class has a private attribute `_name` and public attribute `name`.\n",
    "- The `name` attribute is managed using a property, which consists of a getter, setter, and deleter.\n",
    "- The getter(`@property`) returns the value of the private attribute `_name`.\n",
    "- The setter(`@property.setter`) ensures that the assigned value is a string, raising a `TypeError` otherwise.\n",
    "- The deleter(`@property.deleter`) raises an `AttributeError` to prevent attribute deletion. "
   ]
  },
  {
   "cell_type": "code",
   "execution_count": 1,
   "metadata": {},
   "outputs": [],
   "source": [
    "class Person:\n",
    "    def __init__(self, name: str) -> None:\n",
    "        self.name = name\n",
    "\n",
    "    # Getter function\n",
    "    @property\n",
    "    def name(self) -> str:\n",
    "        return self._name\n",
    "\n",
    "    # Setter function\n",
    "    @name.setter\n",
    "    def name(self, value: str) -> None:\n",
    "        if not isinstance(value, str):\n",
    "            raise TypeError(f'Expected a string, but got type {type(value).__name__.upper()}')\n",
    "        self._name = value\n",
    "\n",
    "    @name.deleter\n",
    "    def name(self) -> None:\n",
    "        raise AttributeError(\"Cannot delete attribute\")"
   ]
  },
  {
   "cell_type": "markdown",
   "metadata": {},
   "source": [
    "### 1.2. Sub Class: SubPerson\n",
    "\n",
    "- The `SubPerson` class is a subclass of `Person`.\n",
    "- It overrides the getter, setter, and deleter methods for the `name` property.\n",
    "- The getter prints a message and then calls the getter of the superclass using `super().name`.\n",
    "- The setter prints a message, then calls the setter of the superclass using `super(SubPerson, SubPerson).name.__set__(self, value)`"
   ]
  },
  {
   "cell_type": "code",
   "execution_count": 2,
   "metadata": {},
   "outputs": [],
   "source": [
    "class SubPerson(Person):\n",
    "    @property\n",
    "    def name(self) -> str:\n",
    "        print('Getting name')\n",
    "        return super().name\n",
    "\n",
    "    @name.setter\n",
    "    def name(self, value: str) -> None:\n",
    "        print('Setting name to', value)\n",
    "        super(SubPerson, SubPerson).name.__set__(self, value)\n",
    "\n",
    "    @name.deleter\n",
    "    def name(self) -> None:\n",
    "        print('Deleting a name')\n",
    "        super(SubPerson, SubPerson).name.__delete__(self)"
   ]
  },
  {
   "cell_type": "code",
   "execution_count": 3,
   "metadata": {},
   "outputs": [
    {
     "data": {
      "text/plain": [
       "'Benjamin'"
      ]
     },
     "execution_count": 3,
     "metadata": {},
     "output_type": "execute_result"
    }
   ],
   "source": [
    "a = Person('Benjamin')\n",
    "a.name"
   ]
  },
  {
   "cell_type": "code",
   "execution_count": 4,
   "metadata": {},
   "outputs": [
    {
     "data": {
      "text/plain": [
       "'Dave'"
      ]
     },
     "execution_count": 4,
     "metadata": {},
     "output_type": "execute_result"
    }
   ],
   "source": [
    "a.name = 'Dave'\n",
    "a.name"
   ]
  },
  {
   "cell_type": "code",
   "execution_count": 5,
   "metadata": {},
   "outputs": [
    {
     "name": "stdout",
     "output_type": "stream",
     "text": [
      "Expected a string, but got type INT\n"
     ]
    }
   ],
   "source": [
    "try:\n",
    "    a.name = 42\n",
    "except TypeError as e:\n",
    "    print(e)"
   ]
  },
  {
   "cell_type": "markdown",
   "metadata": {},
   "source": [
    "### 1.3. Conclusion \n",
    "This demonstrates how property methods can be customized in subclasses while maintaining the property management logic from the base class. "
   ]
  },
  {
   "cell_type": "markdown",
   "metadata": {},
   "source": [
    "# 2.Example 2"
   ]
  },
  {
   "cell_type": "markdown",
   "metadata": {},
   "source": [
    "### 2.1. Breaking down: `super(SubPerson, SubPerson).name.__set__(slef, value)`"
   ]
  }
 ],
 "metadata": {
  "kernelspec": {
   "display_name": "Python 3",
   "language": "python",
   "name": "python3"
  },
  "language_info": {
   "codemirror_mode": {
    "name": "ipython",
    "version": 3
   },
   "file_extension": ".py",
   "mimetype": "text/x-python",
   "name": "python",
   "nbconvert_exporter": "python",
   "pygments_lexer": "ipython3",
   "version": "3.11.2"
  }
 },
 "nbformat": 4,
 "nbformat_minor": 2
}
