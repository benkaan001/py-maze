{
 "cells": [
  {
   "cell_type": "markdown",
   "metadata": {},
   "source": [
    "# 1. Example 1"
   ]
  },
  {
   "cell_type": "markdown",
   "metadata": {},
   "source": [
    "### 1.1. Base Class: Person\n",
    "- The `Person` base class has a private attribute `_name` and public attribute `name`.\n",
    "- The `name` attribute is managed using a property, which consists of a getter, setter, and deleter.\n",
    "- The getter(`@property`) returns the value of the private attribute `_name`.\n",
    "- The setter(`@property.setter`) ensures that the assigned value is a string, raising a `TypeError` otherwise.\n",
    "- The deleter(`@property.deleter`) raises an `AttributeError` to prevent attribute deletion. "
   ]
  },
  {
   "cell_type": "code",
   "execution_count": 1,
   "metadata": {},
   "outputs": [],
   "source": [
    "class Person:\n",
    "    def __init__(self, name: str) -> None:\n",
    "        self.name = name\n",
    "\n",
    "    # Getter function\n",
    "    @property\n",
    "    def name(self) -> str:\n",
    "        return self._name\n",
    "\n",
    "    # Setter function\n",
    "    @name.setter\n",
    "    def name(self, value: str) -> None:\n",
    "        if not isinstance(value, str):\n",
    "            raise TypeError(f'Expected a string, but got type {type(value).__name__.upper()}')\n",
    "        self._name = value\n",
    "\n",
    "    @name.deleter\n",
    "    def name(self) -> None:\n",
    "        raise AttributeError(\"Cannot delete attribute\")"
   ]
  },
  {
   "cell_type": "markdown",
   "metadata": {},
   "source": [
    "### 1.2. Sub Class: SubPerson\n",
    "\n",
    "- The `SubPerson` class is a subclass of `Person`.\n",
    "- It overrides the getter, setter, and deleter methods for the `name` property.\n",
    "- The getter prints a message and then calls the getter of the superclass using `super().name`.\n",
    "- The setter prints a message, then calls the setter of the superclass using `super(SubPerson, SubPerson).name.__set__(self, value)`"
   ]
  },
  {
   "cell_type": "code",
   "execution_count": 2,
   "metadata": {},
   "outputs": [],
   "source": [
    "class SubPerson(Person):\n",
    "    @property\n",
    "    def name(self) -> str:\n",
    "        print('Getting name')\n",
    "        return super().name\n",
    "\n",
    "    @name.setter\n",
    "    def name(self, value: str) -> None:\n",
    "        print('Setting name to', value)\n",
    "        super(SubPerson, SubPerson).name.__set__(self, value)\n",
    "\n",
    "    @name.deleter\n",
    "    def name(self) -> None:\n",
    "        print('Deleting a name')\n",
    "        super(SubPerson, SubPerson).name.__delete__(self)"
   ]
  },
  {
   "cell_type": "code",
   "execution_count": 3,
   "metadata": {},
   "outputs": [
    {
     "data": {
      "text/plain": [
       "'Benjamin'"
      ]
     },
     "execution_count": 3,
     "metadata": {},
     "output_type": "execute_result"
    }
   ],
   "source": [
    "a = Person('Benjamin')\n",
    "a.name"
   ]
  },
  {
   "cell_type": "code",
   "execution_count": 4,
   "metadata": {},
   "outputs": [
    {
     "data": {
      "text/plain": [
       "'Dave'"
      ]
     },
     "execution_count": 4,
     "metadata": {},
     "output_type": "execute_result"
    }
   ],
   "source": [
    "a.name = 'Dave'\n",
    "a.name"
   ]
  },
  {
   "cell_type": "code",
   "execution_count": 5,
   "metadata": {},
   "outputs": [
    {
     "name": "stdout",
     "output_type": "stream",
     "text": [
      "Expected a string, but got type INT\n"
     ]
    }
   ],
   "source": [
    "try:\n",
    "    a.name = 42\n",
    "except TypeError as e:\n",
    "    print(e)"
   ]
  },
  {
   "cell_type": "markdown",
   "metadata": {},
   "source": [
    "### 1.3. Conclusion \n",
    "This demonstrates how property methods can be customized in subclasses while maintaining the property management logic from the base class. "
   ]
  },
  {
   "cell_type": "markdown",
   "metadata": {},
   "source": [
    "# 2.Deeper Look"
   ]
  },
  {
   "cell_type": "markdown",
   "metadata": {},
   "source": [
    "### 2.1. Breaking down: `super(SubPerson, SubPerson).name.__set__(slef, value)`"
   ]
  },
  {
   "cell_type": "markdown",
   "metadata": {},
   "source": [
    "1. **`super(SubPerson, SubPerson)`**: \n",
    "   - `super()` is a built-in function in Python that returns a temporary object of the superclass, allowing you to call its methods.\n",
    "   - `super(SubPerson, SubPerson)` specifies that we want to operate on the superclass of `SubPerson` within the context of the `SubPerson` class.\n",
    "\n",
    "2. **`.name`**: \n",
    "   - This accesses the `name` property of the superclass.\n",
    "\n",
    "3. **`.__set__(self, value)`**: \n",
    "   - This calls the `__set__` method of the property, which is part of the descriptor protocol in Python.\n",
    "   - The `__set__` method is called when the property is assigned a new value.\n",
    "   - The method takes two arguments: `self` (the instance of the class) and `value` (the value being assigned)."
   ]
  },
  {
   "cell_type": "markdown",
   "metadata": {},
   "source": [
    "### 2.2. Putting it all together, the line is essentially saying:\n",
    "\n",
    "- Use the `super()` function to get the superclass of `SubPerson` within the context of the `SubPerson` class.\n",
    "- Access the `name` property of that superclass.\n",
    "- Call the `__set__` method of the property, passing `self` (the instance of `SubPerson`) and `value` (the new value being assigned to `name`)."
   ]
  },
  {
   "cell_type": "markdown",
   "metadata": {},
   "source": [
    "### 2.3. Why is this used?\n",
    "\n",
    "- In this specific context, the code is intercepting the setting of the `name` property to add custom behavior before or after the actual setting.\n",
    "- The `print('Setting name to', value)` statement just before this line indicates that a message is printed before the actual setting, showing that custom behavior is added.\n",
    "- By using `super()`, the code ensures that it is calling the `__set__` method of the superclass, allowing any additional logic implemented in the superclass to execute."
   ]
  },
  {
   "cell_type": "markdown",
   "metadata": {},
   "source": [
    "# 3. Example 2"
   ]
  },
  {
   "cell_type": "markdown",
   "metadata": {},
   "source": [
    "### 3.1. Scenario\n",
    "\n",
    "- Let's consider a scenario where you want to enforce additional constraints on a property, such as limiting the length of a person's name in the `Person` class. The `SubPerson` subclass can then customize this behavior in the setter. "
   ]
  },
  {
   "cell_type": "code",
   "execution_count": 6,
   "metadata": {},
   "outputs": [],
   "source": [
    "class Person:\n",
    "    def __init__(self, name: str) -> None:\n",
    "        self.name = name\n",
    "\n",
    "    @property\n",
    "    def name(self) -> str:\n",
    "        return self._name\n",
    "\n",
    "    @name.setter\n",
    "    def name(self, value) -> None:\n",
    "        if not isinstance(value, str):\n",
    "            raise TypeError(f'Expected a string but got {type(value).__name__.upper()}')\n",
    "        if len(value) > 20:\n",
    "            raise ValueError('Name is too long')\n",
    "        self._name = value"
   ]
  },
  {
   "cell_type": "code",
   "execution_count": 7,
   "metadata": {},
   "outputs": [],
   "source": [
    "class SubPerson(Person):\n",
    "    @Person.name.setter\n",
    "    def name(self, value):\n",
    "        print('Setting the name to', value)\n",
    "        super(SubPerson, SubPerson).name.__set__(self, value)"
   ]
  },
  {
   "cell_type": "code",
   "execution_count": 8,
   "metadata": {},
   "outputs": [
    {
     "name": "stdout",
     "output_type": "stream",
     "text": [
      "Setting the name to Jane Doe\n",
      "Jane Doe\n"
     ]
    }
   ],
   "source": [
    "subperson = SubPerson('Jane Doe')\n",
    "print(subperson.name)"
   ]
  },
  {
   "cell_type": "markdown",
   "metadata": {},
   "source": [
    "### 3.2. Conclusion\n",
    "\n",
    "- The custom behavior in the `SubPerson` class is triggered, printing a message before calling the setter of the superclass. \n",
    "- This example demonstrates how the `SubPerson` class can customize the behavior of the `name` property, adding custom actions before or after the actual setting logic implemented in the superclass. "
   ]
  },
  {
   "cell_type": "code",
   "execution_count": 9,
   "metadata": {},
   "outputs": [
    {
     "name": "stdout",
     "output_type": "stream",
     "text": [
      "Setting the name to Jane Doe Smith Johnson\n",
      "Name is too long\n"
     ]
    }
   ],
   "source": [
    "try:\n",
    "    subperson.name = 'Jane Doe Smith Johnson'\n",
    "    print(subperson.name)\n",
    "except ValueError as e:\n",
    "    print(e)"
   ]
  }
 ],
 "metadata": {
  "kernelspec": {
   "display_name": "Python 3",
   "language": "python",
   "name": "python3"
  },
  "language_info": {
   "codemirror_mode": {
    "name": "ipython",
    "version": 3
   },
   "file_extension": ".py",
   "mimetype": "text/x-python",
   "name": "python",
   "nbconvert_exporter": "python",
   "pygments_lexer": "ipython3",
   "version": "3.11.2"
  }
 },
 "nbformat": 4,
 "nbformat_minor": 2
}
