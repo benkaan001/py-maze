{
 "cells": [
  {
   "cell_type": "markdown",
   "metadata": {},
   "source": [
    "## Examples of reformatting text to different column widths"
   ]
  },
  {
   "cell_type": "code",
   "execution_count": 1,
   "metadata": {},
   "outputs": [],
   "source": [
    "# A long string\n",
    "s = \"Look into my eyes, look into my eyes, the eyes, the eyes, \\\n",
    "the eyes, not around the eyes, don't look around the eyes, \\\n",
    "look into my eyes, you're under.\""
   ]
  },
  {
   "cell_type": "code",
   "execution_count": 2,
   "metadata": {},
   "outputs": [
    {
     "name": "stdout",
     "output_type": "stream",
     "text": [
      "Help on function fill in module textwrap:\n",
      "\n",
      "fill(text, width=70, **kwargs)\n",
      "    Fill a single paragraph of text, returning a new string.\n",
      "    \n",
      "    Reformat the single paragraph in 'text' to fit in lines of no more\n",
      "    than 'width' columns, and return a new string containing the entire\n",
      "    wrapped paragraph.  As with wrap(), tabs are expanded and other\n",
      "    whitespace characters converted to space.  See TextWrapper class for\n",
      "    available keyword args to customize wrapping behaviour.\n",
      "\n"
     ]
    }
   ],
   "source": [
    "import textwrap\n",
    "help(textwrap.fill)"
   ]
  },
  {
   "cell_type": "code",
   "execution_count": 3,
   "metadata": {},
   "outputs": [
    {
     "name": "stdout",
     "output_type": "stream",
     "text": [
      "Look into my eyes, look into my eyes, the eyes, the eyes, the eyes,\n",
      "not around the eyes, don't look around the eyes, look into my eyes,\n",
      "you're under.\n"
     ]
    }
   ],
   "source": [
    "print(textwrap.fill(s, 70))"
   ]
  },
  {
   "cell_type": "code",
   "execution_count": 4,
   "metadata": {},
   "outputs": [
    {
     "name": "stdout",
     "output_type": "stream",
     "text": [
      "Look into my eyes, look into my eyes,\n",
      "the eyes, the eyes, the eyes, not around\n",
      "the eyes, don't look around the eyes,\n",
      "look into my eyes, you're under.\n"
     ]
    }
   ],
   "source": [
    "print(textwrap.fill(s, 40))"
   ]
  },
  {
   "cell_type": "code",
   "execution_count": 5,
   "metadata": {},
   "outputs": [
    {
     "name": "stdout",
     "output_type": "stream",
     "text": [
      "    Look into my eyes, look into my\n",
      "eyes, the eyes, the eyes, the eyes, not\n",
      "around the eyes, don't look around the\n",
      "eyes, look into my eyes, you're under.\n"
     ]
    }
   ],
   "source": [
    "print(textwrap.fill(s, 40, initial_indent='    '))"
   ]
  },
  {
   "cell_type": "code",
   "execution_count": 6,
   "metadata": {},
   "outputs": [
    {
     "name": "stdout",
     "output_type": "stream",
     "text": [
      "Look into my eyes, look into my eyes,\n",
      "   the eyes, the eyes, the eyes, not\n",
      "   around the eyes, don't look around\n",
      "   the eyes, look into my eyes, you're\n",
      "   under.\n"
     ]
    }
   ],
   "source": [
    "print(textwrap.fill(s, 40, subsequent_indent='   '))"
   ]
  },
  {
   "cell_type": "markdown",
   "metadata": {},
   "source": [
    "## Formatting Text for Console Output with Columns"
   ]
  },
  {
   "cell_type": "code",
   "execution_count": 8,
   "metadata": {},
   "outputs": [
    {
     "name": "stdout",
     "output_type": "stream",
     "text": [
      "Lorem ipsum dolorsit amet,consectetur\n",
      "adipiscing elit.Phasellus sed maurisid turpis volutpat\n",
      "tristique.\n"
     ]
    }
   ],
   "source": [
    "def print_columns(data: str, num_columns: int, column_width: int) -> None:\n",
    "    wrapped_data = textwrap.wrap(data, width=column_width)\n",
    "    for i in range(0, len(wrapped_data), num_columns):\n",
    "        row = ''.join(wrapped_data[i:i + num_columns])\n",
    "        print(row)\n",
    "\n",
    "data = \"\"\"Lorem ipsum dolor sit amet, consectetur adipiscing elit. \n",
    "Phasellus sed mauris id turpis volutpat tristique.\"\"\"\n",
    "num_columns = 3\n",
    "column_width = 20 \n",
    "print_columns(data, num_columns, column_width)"
   ]
  }
 ],
 "metadata": {
  "kernelspec": {
   "display_name": "Python 3",
   "language": "python",
   "name": "python3"
  },
  "language_info": {
   "codemirror_mode": {
    "name": "ipython",
    "version": 3
   },
   "file_extension": ".py",
   "mimetype": "text/x-python",
   "name": "python",
   "nbconvert_exporter": "python",
   "pygments_lexer": "ipython3",
   "version": "3.11.2"
  },
  "orig_nbformat": 4
 },
 "nbformat": 4,
 "nbformat_minor": 2
}
