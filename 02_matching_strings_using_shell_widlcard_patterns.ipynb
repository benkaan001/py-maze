{
 "cells": [
  {
   "cell_type": "markdown",
   "metadata": {},
   "source": [
    "## Example of usng shell-wildcard style matching in list comprehensions"
   ]
  },
  {
   "cell_type": "code",
   "execution_count": 1,
   "metadata": {},
   "outputs": [
    {
     "name": "stdout",
     "output_type": "stream",
     "text": [
      "Help on function fnmatchcase in module fnmatch:\n",
      "\n",
      "fnmatchcase(name, pat)\n",
      "    Test whether FILENAME matches PATTERN, including case.\n",
      "    \n",
      "    This is a version of fnmatch() which doesn't case-normalize\n",
      "    its arguments.\n",
      "\n"
     ]
    }
   ],
   "source": [
    "from fnmatch import fnmatchcase as match\n",
    "help(match)"
   ]
  },
  {
   "cell_type": "code",
   "execution_count": 2,
   "metadata": {},
   "outputs": [],
   "source": [
    "addresses = [\n",
    "    '5412 N CLARK ST',\n",
    "    '1060 W ADDISON ST',\n",
    "    '1039 W GRANVILLE AVE',\n",
    "    '2122 N CLARK ST',\n",
    "    '4802 N BROADWAY',\n",
    "]"
   ]
  },
  {
   "cell_type": "code",
   "execution_count": 3,
   "metadata": {},
   "outputs": [
    {
     "data": {
      "text/plain": [
       "['5412 N CLARK ST', '1060 W ADDISON ST', '2122 N CLARK ST']"
      ]
     },
     "execution_count": 3,
     "metadata": {},
     "output_type": "execute_result"
    }
   ],
   "source": [
    "a = [address for address in addresses if match(address, '* ST')]\n",
    "a"
   ]
  },
  {
   "cell_type": "code",
   "execution_count": 4,
   "metadata": {},
   "outputs": [
    {
     "data": {
      "text/plain": [
       "['5412 N CLARK ST']"
      ]
     },
     "execution_count": 4,
     "metadata": {},
     "output_type": "execute_result"
    }
   ],
   "source": [
    "b = [address for address in addresses if match(address, '54[0-9][0-9] *CLARK*')]\n",
    "b"
   ]
  },
  {
   "cell_type": "markdown",
   "metadata": {},
   "source": [
    "## Example"
   ]
  },
  {
   "cell_type": "code",
   "execution_count": 5,
   "metadata": {},
   "outputs": [
    {
     "data": {
      "text/plain": [
       "False"
      ]
     },
     "execution_count": 5,
     "metadata": {},
     "output_type": "execute_result"
    }
   ],
   "source": [
    "filename = 'example.txt'\n",
    "pattern = \"*.TXT\" # The pattern is UPPERCASE while the filename is lowercase.\n",
    "\n",
    "# Case-sensitive pattern matching\n",
    "match(filename, pattern)"
   ]
  },
  {
   "cell_type": "markdown",
   "metadata": {},
   "source": [
    "## Custom Implementation\n",
    "\n",
    "- NOT COVERING ALL THE EDGE CASES and FEATURES PROVIDED BY `fnmatch`. "
   ]
  },
  {
   "cell_type": "code",
   "execution_count": 6,
   "metadata": {},
   "outputs": [
    {
     "data": {
      "text/plain": [
       "False"
      ]
     },
     "execution_count": 6,
     "metadata": {},
     "output_type": "execute_result"
    }
   ],
   "source": [
    "import re \n",
    "\n",
    "def fnmatchcase_custom(filename: str, pattern: str) -> bool:\n",
    "    # Escape special characters in the pattern\n",
    "    escaped_pattern = re.escape(pattern)\n",
    "    \n",
    "    # Replace * with a regex pattern that matches any character\n",
    "    escaped_pattern = escaped_pattern.replace(r'\\*', r'.*')\n",
    "    \n",
    "    # Replace ? with a regex pattern that matches nay single character\n",
    "    escaped_pattern = escaped_pattern.replace(r'\\?', r'.')\n",
    "    \n",
    "    # Match the filename against the pattern\n",
    "    return bool(re.match(escaped_pattern, filename))\n",
    "\n",
    "filename = 'samle_file.py'\n",
    "pattern = '*.PY'\n",
    "\n",
    "fnmatchcase_custom(filename, pattern)"
   ]
  },
  {
   "cell_type": "code",
   "execution_count": 7,
   "metadata": {},
   "outputs": [
    {
     "data": {
      "text/plain": [
       "True"
      ]
     },
     "execution_count": 7,
     "metadata": {},
     "output_type": "execute_result"
    }
   ],
   "source": [
    "filename = 'samle_file.py'\n",
    "pattern = '*.py'\n",
    "\n",
    "fnmatchcase_custom(filename, pattern)"
   ]
  }
 ],
 "metadata": {
  "kernelspec": {
   "display_name": "Python 3",
   "language": "python",
   "name": "python3"
  },
  "language_info": {
   "codemirror_mode": {
    "name": "ipython",
    "version": 3
   },
   "file_extension": ".py",
   "mimetype": "text/x-python",
   "name": "python",
   "nbconvert_exporter": "python",
   "pygments_lexer": "ipython3",
   "version": "3.11.2"
  },
  "orig_nbformat": 4
 },
 "nbformat": 4,
 "nbformat_minor": 2
}
